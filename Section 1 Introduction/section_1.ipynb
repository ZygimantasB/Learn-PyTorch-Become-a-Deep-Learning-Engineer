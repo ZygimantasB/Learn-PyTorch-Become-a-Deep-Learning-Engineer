{
 "cells": [
  {
   "metadata": {},
   "cell_type": "markdown",
   "source": "# 1. PyTorch for Deep Learning",
   "id": "b0b3c334991210bd"
  },
  {
   "metadata": {},
   "cell_type": "markdown",
   "source": "# 2. Course Welcome and What Is Deep Learning",
   "id": "ac213a86dff2b0dc"
  },
  {
   "cell_type": "code",
   "execution_count": null,
   "id": "initial_id",
   "metadata": {
    "collapsed": true
   },
   "outputs": [],
   "source": [
    ""
   ]
  }
 ],
 "metadata": {
  "kernelspec": {
   "display_name": "Python 3",
   "language": "python",
   "name": "python3"
  },
  "language_info": {
   "codemirror_mode": {
    "name": "ipython",
    "version": 2
   },
   "file_extension": ".py",
   "mimetype": "text/x-python",
   "name": "python",
   "nbconvert_exporter": "python",
   "pygments_lexer": "ipython2",
   "version": "2.7.6"
  }
 },
 "nbformat": 4,
 "nbformat_minor": 5
}
