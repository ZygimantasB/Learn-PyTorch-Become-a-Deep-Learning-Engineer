{
 "cells": [
  {
   "cell_type": "code",
   "id": "initial_id",
   "metadata": {
    "collapsed": true,
    "ExecuteTime": {
     "end_time": "2025-06-18T07:14:28.039585Z",
     "start_time": "2025-06-18T07:14:23.743345Z"
    }
   },
   "source": "import torch",
   "outputs": [],
   "execution_count": 2
  },
  {
   "metadata": {
    "ExecuteTime": {
     "end_time": "2025-06-18T07:19:56.780022Z",
     "start_time": "2025-06-18T07:19:56.775061Z"
    }
   },
   "cell_type": "code",
   "source": [
    "scalar = torch.tensor(7)\n",
    "scalar"
   ],
   "id": "a94358c49ed83532",
   "outputs": [
    {
     "data": {
      "text/plain": [
       "tensor(7)"
      ]
     },
     "execution_count": 8,
     "metadata": {},
     "output_type": "execute_result"
    }
   ],
   "execution_count": 8
  },
  {
   "metadata": {
    "ExecuteTime": {
     "end_time": "2025-06-18T07:21:15.765241Z",
     "start_time": "2025-06-18T07:21:15.760119Z"
    }
   },
   "cell_type": "code",
   "source": "scalar.ndim",
   "id": "3a37915f93abe348",
   "outputs": [
    {
     "data": {
      "text/plain": [
       "0"
      ]
     },
     "execution_count": 9,
     "metadata": {},
     "output_type": "execute_result"
    }
   ],
   "execution_count": 9
  },
  {
   "metadata": {
    "ExecuteTime": {
     "end_time": "2025-06-18T07:21:54.978025Z",
     "start_time": "2025-06-18T07:21:54.972682Z"
    }
   },
   "cell_type": "code",
   "source": "scalar.item()",
   "id": "ac7237acf815132",
   "outputs": [
    {
     "data": {
      "text/plain": [
       "7"
      ]
     },
     "execution_count": 10,
     "metadata": {},
     "output_type": "execute_result"
    }
   ],
   "execution_count": 10
  },
  {
   "metadata": {
    "ExecuteTime": {
     "end_time": "2025-06-18T07:23:06.268454Z",
     "start_time": "2025-06-18T07:23:06.262452Z"
    }
   },
   "cell_type": "code",
   "source": [
    "vector = torch.tensor([7, 7])\n",
    "vector"
   ],
   "id": "35ba8d04f47a2e19",
   "outputs": [
    {
     "data": {
      "text/plain": [
       "tensor([7, 7])"
      ]
     },
     "execution_count": 12,
     "metadata": {},
     "output_type": "execute_result"
    }
   ],
   "execution_count": 12
  },
  {
   "metadata": {
    "ExecuteTime": {
     "end_time": "2025-06-18T07:35:29.766434Z",
     "start_time": "2025-06-18T07:35:29.761425Z"
    }
   },
   "cell_type": "code",
   "source": "vector.shape",
   "id": "679779c03097567c",
   "outputs": [
    {
     "data": {
      "text/plain": [
       "torch.Size([2])"
      ]
     },
     "execution_count": 13,
     "metadata": {},
     "output_type": "execute_result"
    }
   ],
   "execution_count": 13
  },
  {
   "metadata": {
    "ExecuteTime": {
     "end_time": "2025-06-18T07:36:54.632348Z",
     "start_time": "2025-06-18T07:36:54.626443Z"
    }
   },
   "cell_type": "code",
   "source": [
    "MATRIX = torch.tensor([\n",
    "    [7, 8],\n",
    "    [9, 10]\n",
    "])\n",
    "\n",
    "MATRIX"
   ],
   "id": "39389fdfe906cec2",
   "outputs": [
    {
     "data": {
      "text/plain": [
       "tensor([[ 7,  8],\n",
       "        [ 9, 10]])"
      ]
     },
     "execution_count": 17,
     "metadata": {},
     "output_type": "execute_result"
    }
   ],
   "execution_count": 17
  },
  {
   "metadata": {
    "ExecuteTime": {
     "end_time": "2025-06-18T07:37:28.837867Z",
     "start_time": "2025-06-18T07:37:28.832851Z"
    }
   },
   "cell_type": "code",
   "source": "MATRIX.ndim",
   "id": "67b6b7c969d4c347",
   "outputs": [
    {
     "data": {
      "text/plain": [
       "2"
      ]
     },
     "execution_count": 18,
     "metadata": {},
     "output_type": "execute_result"
    }
   ],
   "execution_count": 18
  },
  {
   "metadata": {
    "ExecuteTime": {
     "end_time": "2025-06-18T07:37:42.776552Z",
     "start_time": "2025-06-18T07:37:42.771553Z"
    }
   },
   "cell_type": "code",
   "source": "MATRIX.shape",
   "id": "d5b6a730f4eb6bca",
   "outputs": [
    {
     "data": {
      "text/plain": [
       "torch.Size([2, 2])"
      ]
     },
     "execution_count": 19,
     "metadata": {},
     "output_type": "execute_result"
    }
   ],
   "execution_count": 19
  },
  {
   "metadata": {
    "ExecuteTime": {
     "end_time": "2025-06-18T07:47:23.328761Z",
     "start_time": "2025-06-18T07:47:23.322761Z"
    }
   },
   "cell_type": "code",
   "source": [
    "MATRIX = torch.tensor([[\n",
    "    [1, 2, 3],\n",
    "    [3, 6, 9],\n",
    "    [2, 4, 5]\n",
    "]])\n",
    "\n",
    "MATRIX"
   ],
   "id": "e03f199a63d466dc",
   "outputs": [
    {
     "data": {
      "text/plain": [
       "tensor([[[1, 2, 3],\n",
       "         [3, 6, 9],\n",
       "         [2, 4, 5]]])"
      ]
     },
     "execution_count": 24,
     "metadata": {},
     "output_type": "execute_result"
    }
   ],
   "execution_count": 24
  },
  {
   "metadata": {
    "ExecuteTime": {
     "end_time": "2025-06-18T07:47:24.197981Z",
     "start_time": "2025-06-18T07:47:24.192983Z"
    }
   },
   "cell_type": "code",
   "source": "MATRIX.shape",
   "id": "7101736794119243",
   "outputs": [
    {
     "data": {
      "text/plain": [
       "torch.Size([1, 3, 3])"
      ]
     },
     "execution_count": 25,
     "metadata": {},
     "output_type": "execute_result"
    }
   ],
   "execution_count": 25
  },
  {
   "metadata": {
    "ExecuteTime": {
     "end_time": "2025-06-18T07:47:25.533304Z",
     "start_time": "2025-06-18T07:47:25.528035Z"
    }
   },
   "cell_type": "code",
   "source": "MATRIX.ndim",
   "id": "6a3e53e04987ca40",
   "outputs": [
    {
     "data": {
      "text/plain": [
       "3"
      ]
     },
     "execution_count": 26,
     "metadata": {},
     "output_type": "execute_result"
    }
   ],
   "execution_count": 26
  },
  {
   "metadata": {
    "ExecuteTime": {
     "end_time": "2025-06-18T09:15:45.284340Z",
     "start_time": "2025-06-18T09:15:45.277888Z"
    }
   },
   "cell_type": "code",
   "source": "torch.rand(3, 3)",
   "id": "9ff47d528471a9f0",
   "outputs": [
    {
     "data": {
      "text/plain": [
       "tensor([[0.4592, 0.0140, 0.8731],\n",
       "        [0.7871, 0.5539, 0.9671],\n",
       "        [0.5938, 0.8681, 0.3839]])"
      ]
     },
     "execution_count": 31,
     "metadata": {},
     "output_type": "execute_result"
    }
   ],
   "execution_count": 31
  },
  {
   "metadata": {
    "ExecuteTime": {
     "end_time": "2025-06-18T09:17:17.467913Z",
     "start_time": "2025-06-18T09:17:17.461851Z"
    }
   },
   "cell_type": "code",
   "source": [
    "random_image_size_tensor = torch.rand(size=(224, 224, 3))\n",
    "random_image_size_tensor.shape, random_image_size_tensor.ndim"
   ],
   "id": "4e1a9d98bb6b59b9",
   "outputs": [
    {
     "data": {
      "text/plain": [
       "(torch.Size([224, 224, 3]), 3)"
      ]
     },
     "execution_count": 34,
     "metadata": {},
     "output_type": "execute_result"
    }
   ],
   "execution_count": 34
  },
  {
   "metadata": {
    "ExecuteTime": {
     "end_time": "2025-06-18T09:19:36.366202Z",
     "start_time": "2025-06-18T09:19:36.360193Z"
    }
   },
   "cell_type": "code",
   "source": [
    "zeros = torch.zeros(3, 4)\n",
    "zeros, zeros.dtype"
   ],
   "id": "e5bccef4a0af3ac6",
   "outputs": [
    {
     "data": {
      "text/plain": [
       "(tensor([[0., 0., 0., 0.],\n",
       "         [0., 0., 0., 0.],\n",
       "         [0., 0., 0., 0.]]),\n",
       " torch.float32)"
      ]
     },
     "execution_count": 39,
     "metadata": {},
     "output_type": "execute_result"
    }
   ],
   "execution_count": 39
  },
  {
   "metadata": {
    "ExecuteTime": {
     "end_time": "2025-06-18T09:24:47.992763Z",
     "start_time": "2025-06-18T09:24:47.985464Z"
    }
   },
   "cell_type": "code",
   "source": [
    "ones = torch.ones(3, 4)\n",
    "ones, ones.dtype"
   ],
   "id": "154ebcc9ac3554f9",
   "outputs": [
    {
     "data": {
      "text/plain": [
       "(tensor([[1., 1., 1., 1.],\n",
       "         [1., 1., 1., 1.],\n",
       "         [1., 1., 1., 1.]]),\n",
       " torch.float32)"
      ]
     },
     "execution_count": 41,
     "metadata": {},
     "output_type": "execute_result"
    }
   ],
   "execution_count": 41
  },
  {
   "metadata": {
    "ExecuteTime": {
     "end_time": "2025-06-18T09:30:37.155012Z",
     "start_time": "2025-06-18T09:30:37.149561Z"
    }
   },
   "cell_type": "code",
   "source": [
    "zero_to_ten = torch.arange(start=0, end=10, step=1)\n",
    "zero_to_ten"
   ],
   "id": "d79037f722f535be",
   "outputs": [
    {
     "data": {
      "text/plain": [
       "tensor([0, 1, 2, 3, 4, 5, 6, 7, 8, 9])"
      ]
     },
     "execution_count": 52,
     "metadata": {},
     "output_type": "execute_result"
    }
   ],
   "execution_count": 52
  },
  {
   "metadata": {
    "ExecuteTime": {
     "end_time": "2025-06-18T09:31:51.929097Z",
     "start_time": "2025-06-18T09:31:51.924371Z"
    }
   },
   "cell_type": "code",
   "source": [
    "ten_zeros = torch.zeros_like(input=zero_to_ten) # convert to zeroes\n",
    "ten_zeros"
   ],
   "id": "5d59597589fc753b",
   "outputs": [
    {
     "data": {
      "text/plain": [
       "tensor([0, 0, 0, 0, 0, 0, 0, 0, 0, 0])"
      ]
     },
     "execution_count": 54,
     "metadata": {},
     "output_type": "execute_result"
    }
   ],
   "execution_count": 54
  },
  {
   "metadata": {
    "ExecuteTime": {
     "end_time": "2025-06-18T09:41:42.095512Z",
     "start_time": "2025-06-18T09:41:42.087084Z"
    }
   },
   "cell_type": "code",
   "source": [
    "float_32_tensor = torch.tensor(\n",
    "    [3.0, 6.0, 9.0],\n",
    "    dtype=None,\n",
    "    device=None,\n",
    "    requires_grad=False,\n",
    ")\n",
    "\n",
    "float_32_tensor.shape, float_32_tensor.dtype, float_32_tensor.ndim, float_32_tensor.device"
   ],
   "id": "82e155484029502e",
   "outputs": [
    {
     "data": {
      "text/plain": [
       "(torch.Size([3]), torch.float32, 1, device(type='cpu'))"
      ]
     },
     "execution_count": 60,
     "metadata": {},
     "output_type": "execute_result"
    }
   ],
   "execution_count": 60
  },
  {
   "metadata": {
    "ExecuteTime": {
     "end_time": "2025-06-18T09:48:27.670464Z",
     "start_time": "2025-06-18T09:48:27.665167Z"
    }
   },
   "cell_type": "code",
   "source": [
    "float_16_tensor = torch.tensor(\n",
    "    [3.0, 6.0, 9.0],\n",
    "    dtype=torch.float16,\n",
    ")\n",
    "\n",
    "float_16_tensor.dtype"
   ],
   "id": "f075d08b0282ff3e",
   "outputs": [
    {
     "data": {
      "text/plain": [
       "torch.float16"
      ]
     },
     "execution_count": 64,
     "metadata": {},
     "output_type": "execute_result"
    }
   ],
   "execution_count": 64
  },
  {
   "metadata": {
    "ExecuteTime": {
     "end_time": "2025-06-18T09:55:06.113141Z",
     "start_time": "2025-06-18T09:55:06.108030Z"
    }
   },
   "cell_type": "code",
   "source": [
    "some_tensor = torch.rand(3, 4)\n",
    "\n",
    "print(some_tensor)\n",
    "print(f'Shape of tensors: {some_tensor.shape}')\n",
    "print(f'Data type of tensors: {some_tensor.dtype}')\n",
    "print(f'Number of dimensions of tensors: {some_tensor.ndim}')\n",
    "print(f'Device tensor is stored on: {some_tensor.device}')"
   ],
   "id": "9fe20522db1ecb4b",
   "outputs": [
    {
     "name": "stdout",
     "output_type": "stream",
     "text": [
      "tensor([[0.0165, 0.0630, 0.0477, 0.8601],\n",
      "        [0.8062, 0.8512, 0.5590, 0.3795],\n",
      "        [0.4799, 0.5563, 0.0380, 0.5135]])\n",
      "Shape of tensors: torch.Size([3, 4])\n",
      "Data type of tensors: torch.float32\n",
      "Number of dimensions of tensors: 2\n",
      "Device tensor is stored on: cpu\n"
     ]
    }
   ],
   "execution_count": 70
  },
  {
   "metadata": {
    "ExecuteTime": {
     "end_time": "2025-06-18T10:04:07.394016Z",
     "start_time": "2025-06-18T10:04:07.387602Z"
    }
   },
   "cell_type": "code",
   "source": [
    "tensor = torch.tensor([1, 2, 3])\n",
    "tensor + 10"
   ],
   "id": "b430aa0bc194d644",
   "outputs": [
    {
     "data": {
      "text/plain": [
       "tensor([11, 12, 13])"
      ]
     },
     "execution_count": 79,
     "metadata": {},
     "output_type": "execute_result"
    }
   ],
   "execution_count": 79
  },
  {
   "metadata": {
    "ExecuteTime": {
     "end_time": "2025-06-18T10:04:07.690141Z",
     "start_time": "2025-06-18T10:04:07.685195Z"
    }
   },
   "cell_type": "code",
   "source": "tensor * 10",
   "id": "d4d275279ca58735",
   "outputs": [
    {
     "data": {
      "text/plain": [
       "tensor([10, 20, 30])"
      ]
     },
     "execution_count": 80,
     "metadata": {},
     "output_type": "execute_result"
    }
   ],
   "execution_count": 80
  },
  {
   "metadata": {
    "ExecuteTime": {
     "end_time": "2025-06-18T10:04:08.002797Z",
     "start_time": "2025-06-18T10:04:07.997693Z"
    }
   },
   "cell_type": "code",
   "source": "tensor",
   "id": "979465e3f7913dec",
   "outputs": [
    {
     "data": {
      "text/plain": [
       "tensor([1, 2, 3])"
      ]
     },
     "execution_count": 81,
     "metadata": {},
     "output_type": "execute_result"
    }
   ],
   "execution_count": 81
  },
  {
   "metadata": {
    "ExecuteTime": {
     "end_time": "2025-06-18T10:04:08.378159Z",
     "start_time": "2025-06-18T10:04:08.372159Z"
    }
   },
   "cell_type": "code",
   "source": [
    "tensor = tensor -10\n",
    "tensor"
   ],
   "id": "96f291d66a926c23",
   "outputs": [
    {
     "data": {
      "text/plain": [
       "tensor([-9, -8, -7])"
      ]
     },
     "execution_count": 82,
     "metadata": {},
     "output_type": "execute_result"
    }
   ],
   "execution_count": 82
  },
  {
   "metadata": {
    "ExecuteTime": {
     "end_time": "2025-06-18T10:04:29.818450Z",
     "start_time": "2025-06-18T10:04:29.810164Z"
    }
   },
   "cell_type": "code",
   "source": [
    "tensor = tensor + 10\n",
    "tensor"
   ],
   "id": "5f0a5708836fb9c0",
   "outputs": [
    {
     "data": {
      "text/plain": [
       "tensor([1, 2, 3])"
      ]
     },
     "execution_count": 83,
     "metadata": {},
     "output_type": "execute_result"
    }
   ],
   "execution_count": 83
  },
  {
   "metadata": {
    "ExecuteTime": {
     "end_time": "2025-06-18T10:04:50.963414Z",
     "start_time": "2025-06-18T10:04:50.957129Z"
    }
   },
   "cell_type": "code",
   "source": "torch.multiply(tensor, 10)",
   "id": "2f037ab452c6874b",
   "outputs": [
    {
     "data": {
      "text/plain": [
       "tensor([10, 20, 30])"
      ]
     },
     "execution_count": 84,
     "metadata": {},
     "output_type": "execute_result"
    }
   ],
   "execution_count": 84
  },
  {
   "metadata": {
    "ExecuteTime": {
     "end_time": "2025-06-18T10:05:46.856182Z",
     "start_time": "2025-06-18T10:05:46.850810Z"
    }
   },
   "cell_type": "code",
   "source": "tensor",
   "id": "b2e5b4e664b3f8c1",
   "outputs": [
    {
     "data": {
      "text/plain": [
       "tensor([1, 2, 3])"
      ]
     },
     "execution_count": 85,
     "metadata": {},
     "output_type": "execute_result"
    }
   ],
   "execution_count": 85
  },
  {
   "metadata": {
    "ExecuteTime": {
     "end_time": "2025-06-18T10:06:54.041885Z",
     "start_time": "2025-06-18T10:06:54.036586Z"
    }
   },
   "cell_type": "code",
   "source": [
    "print(tensor, '*', tensor)\n",
    "print('Equals: ', tensor * tensor)"
   ],
   "id": "ea3d50d83d4f2bf6",
   "outputs": [
    {
     "name": "stdout",
     "output_type": "stream",
     "text": [
      "tensor([1, 2, 3]) * tensor([1, 2, 3])\n",
      "Equals:  tensor([1, 4, 9])\n"
     ]
    }
   ],
   "execution_count": 87
  },
  {
   "metadata": {
    "ExecuteTime": {
     "end_time": "2025-06-18T10:14:28.933862Z",
     "start_time": "2025-06-18T10:14:28.923855Z"
    }
   },
   "cell_type": "code",
   "source": "torch.matmul(input=tensor, other=tensor)",
   "id": "709427f3b6788355",
   "outputs": [
    {
     "data": {
      "text/plain": [
       "tensor(14)"
      ]
     },
     "execution_count": 89,
     "metadata": {},
     "output_type": "execute_result"
    }
   ],
   "execution_count": 89
  },
  {
   "metadata": {
    "ExecuteTime": {
     "end_time": "2025-06-18T10:18:59.912620Z",
     "start_time": "2025-06-18T10:18:59.907794Z"
    }
   },
   "cell_type": "code",
   "source": [
    "import torch\n",
    "\n",
    "tensor = torch.tensor([1, 2, 3])\n",
    "tensor"
   ],
   "id": "98cf5f31090b073a",
   "outputs": [
    {
     "data": {
      "text/plain": [
       "tensor([1, 2, 3])"
      ]
     },
     "execution_count": 91,
     "metadata": {},
     "output_type": "execute_result"
    }
   ],
   "execution_count": 91
  },
  {
   "metadata": {
    "ExecuteTime": {
     "end_time": "2025-06-18T10:19:07.204575Z",
     "start_time": "2025-06-18T10:19:07.199649Z"
    }
   },
   "cell_type": "code",
   "source": "tensor.shape",
   "id": "899b34ad3ada0f3",
   "outputs": [
    {
     "data": {
      "text/plain": [
       "torch.Size([3])"
      ]
     },
     "execution_count": 92,
     "metadata": {},
     "output_type": "execute_result"
    }
   ],
   "execution_count": 92
  },
  {
   "metadata": {
    "ExecuteTime": {
     "end_time": "2025-06-18T10:22:47.403913Z",
     "start_time": "2025-06-18T10:22:47.397912Z"
    }
   },
   "cell_type": "code",
   "source": "tensor  * tensor",
   "id": "1f2a08a44de93b29",
   "outputs": [
    {
     "data": {
      "text/plain": [
       "tensor([1, 4, 9])"
      ]
     },
     "execution_count": 93,
     "metadata": {},
     "output_type": "execute_result"
    }
   ],
   "execution_count": 93
  },
  {
   "metadata": {
    "ExecuteTime": {
     "end_time": "2025-06-18T10:29:51.881525Z",
     "start_time": "2025-06-18T10:29:51.876193Z"
    }
   },
   "cell_type": "code",
   "source": [
    "print(torch.matmul(tensor, tensor))\n",
    "print(tensor * tensor)\n",
    "print(tensor @ tensor)"
   ],
   "id": "b5f740e009f94203",
   "outputs": [
    {
     "name": "stdout",
     "output_type": "stream",
     "text": [
      "tensor(14)\n",
      "tensor([1, 4, 9])\n",
      "tensor(14)\n"
     ]
    }
   ],
   "execution_count": 97
  },
  {
   "metadata": {
    "ExecuteTime": {
     "end_time": "2025-06-18T10:40:45.134354Z",
     "start_time": "2025-06-18T10:40:45.121354Z"
    }
   },
   "cell_type": "code",
   "source": [
    "%%time\n",
    "value = 0\n",
    "for i in range((len(tensor))):\n",
    "    value += tensor[i] * tensor[i]\n",
    "value"
   ],
   "id": "15873ae68268b8b4",
   "outputs": [
    {
     "name": "stdout",
     "output_type": "stream",
     "text": [
      "CPU times: total: 0 ns\n",
      "Wall time: 4 ms\n"
     ]
    },
    {
     "data": {
      "text/plain": [
       "tensor(14)"
      ]
     },
     "execution_count": 98,
     "metadata": {},
     "output_type": "execute_result"
    }
   ],
   "execution_count": 98
  },
  {
   "metadata": {
    "ExecuteTime": {
     "end_time": "2025-06-18T10:43:45.321846Z",
     "start_time": "2025-06-18T10:43:45.315760Z"
    }
   },
   "cell_type": "code",
   "source": [
    "%%time\n",
    "torch.matmul(tensor, torch.tensor([4, 8, 8]))"
   ],
   "id": "4bf02ef02bf11576",
   "outputs": [
    {
     "name": "stdout",
     "output_type": "stream",
     "text": [
      "CPU times: total: 0 ns\n",
      "Wall time: 0 ns\n"
     ]
    },
    {
     "data": {
      "text/plain": [
       "tensor(44)"
      ]
     },
     "execution_count": 102,
     "metadata": {},
     "output_type": "execute_result"
    }
   ],
   "execution_count": 102
  },
  {
   "metadata": {
    "ExecuteTime": {
     "end_time": "2025-06-18T10:47:25.702118Z",
     "start_time": "2025-06-18T10:47:25.682115Z"
    }
   },
   "cell_type": "code",
   "source": [
    "tensor_A = torch.tensor([\n",
    "    [1, 2],\n",
    "    [3, 4],\n",
    "    [5, 6],\n",
    "], dtype=torch.float32)\n",
    "\n",
    "tensor_B = torch.tensor([\n",
    "    [7, 10],\n",
    "    [8, 11],\n",
    "    [9, 12]\n",
    "], dtype=torch.float32)\n",
    "torch.matmul(tensor_A, tensor_B)"
   ],
   "id": "440aef58266fb558",
   "outputs": [
    {
     "ename": "RuntimeError",
     "evalue": "mat1 and mat2 shapes cannot be multiplied (3x2 and 3x2)",
     "output_type": "error",
     "traceback": [
      "\u001B[31m---------------------------------------------------------------------------\u001B[39m",
      "\u001B[31mRuntimeError\u001B[39m                              Traceback (most recent call last)",
      "\u001B[36mCell\u001B[39m\u001B[36m \u001B[39m\u001B[32mIn[105]\u001B[39m\u001B[32m, line 12\u001B[39m\n\u001B[32m      1\u001B[39m tensor_A = torch.tensor([\n\u001B[32m      2\u001B[39m     [\u001B[32m1\u001B[39m, \u001B[32m2\u001B[39m],\n\u001B[32m      3\u001B[39m     [\u001B[32m3\u001B[39m, \u001B[32m4\u001B[39m],\n\u001B[32m      4\u001B[39m     [\u001B[32m5\u001B[39m, \u001B[32m6\u001B[39m],\n\u001B[32m      5\u001B[39m ], dtype=torch.float32)\n\u001B[32m      7\u001B[39m tensor_B = torch.tensor([\n\u001B[32m      8\u001B[39m     [\u001B[32m7\u001B[39m, \u001B[32m10\u001B[39m],\n\u001B[32m      9\u001B[39m     [\u001B[32m8\u001B[39m, \u001B[32m11\u001B[39m],\n\u001B[32m     10\u001B[39m     [\u001B[32m9\u001B[39m, \u001B[32m12\u001B[39m]\n\u001B[32m     11\u001B[39m ], dtype=torch.float32)\n\u001B[32m---> \u001B[39m\u001B[32m12\u001B[39m \u001B[43mtorch\u001B[49m\u001B[43m.\u001B[49m\u001B[43mmatmul\u001B[49m\u001B[43m(\u001B[49m\u001B[43mtensor_A\u001B[49m\u001B[43m,\u001B[49m\u001B[43m \u001B[49m\u001B[43mtensor_B\u001B[49m\u001B[43m)\u001B[49m\n",
      "\u001B[31mRuntimeError\u001B[39m: mat1 and mat2 shapes cannot be multiplied (3x2 and 3x2)"
     ]
    }
   ],
   "execution_count": 105
  },
  {
   "metadata": {
    "ExecuteTime": {
     "end_time": "2025-06-18T10:57:23.366626Z",
     "start_time": "2025-06-18T10:57:23.361607Z"
    }
   },
   "cell_type": "code",
   "source": [
    "print(tensor_A)\n",
    "print(tensor_B.T)"
   ],
   "id": "1afd5ec49b7bdfd7",
   "outputs": [
    {
     "name": "stdout",
     "output_type": "stream",
     "text": [
      "tensor([[1., 2.],\n",
      "        [3., 4.],\n",
      "        [5., 6.]])\n",
      "tensor([[ 7.,  8.,  9.],\n",
      "        [10., 11., 12.]])\n"
     ]
    }
   ],
   "execution_count": 110
  },
  {
   "metadata": {
    "ExecuteTime": {
     "end_time": "2025-06-18T10:57:29.422286Z",
     "start_time": "2025-06-18T10:57:29.416257Z"
    }
   },
   "cell_type": "code",
   "source": "tensor_B",
   "id": "7349d0ab471d2d0e",
   "outputs": [
    {
     "data": {
      "text/plain": [
       "tensor([[ 7., 10.],\n",
       "        [ 8., 11.],\n",
       "        [ 9., 12.]])"
      ]
     },
     "execution_count": 111,
     "metadata": {},
     "output_type": "execute_result"
    }
   ],
   "execution_count": 111
  },
  {
   "metadata": {
    "ExecuteTime": {
     "end_time": "2025-06-18T11:11:38.896087Z",
     "start_time": "2025-06-18T11:11:38.882152Z"
    }
   },
   "cell_type": "code",
   "source": [
    "print(F'Original shapes: tensor_A = {tensor_A.shape}, tensor_B = {tensor_B.shape}')\n",
    "print(f'New shapes: tensor_A = {tensor_A.shape}, tensor_B.T = {tensor_B.T.shape}')\n",
    "print(f'Multiplying: {tensor_A.shape} * {tensor_B.T.shape}')\n",
    "print('Output\\n')\n",
    "output = torch.matmul(tensor_A, tensor_B.T)\n",
    "print(output)\n",
    "print(f'\\nOutput shape: {output.shape}')"
   ],
   "id": "9bd5318047c16454",
   "outputs": [
    {
     "name": "stdout",
     "output_type": "stream",
     "text": [
      "Original shapes: tensor_A = torch.Size([3, 2]), tensor_B = torch.Size([3, 2])\n",
      "New shapes: tensor_A = torch.Size([3, 2]), tensor_B.T = torch.Size([2, 3])\n",
      "Multiplying: torch.Size([3, 2]) * torch.Size([2, 3])\n",
      "Output\n",
      "\n",
      "tensor([[ 27.,  30.,  33.],\n",
      "        [ 61.,  68.,  75.],\n",
      "        [ 95., 106., 117.]])\n",
      "\n",
      "Output shape: torch.Size([3, 3])\n"
     ]
    }
   ],
   "execution_count": 116
  },
  {
   "metadata": {
    "ExecuteTime": {
     "end_time": "2025-06-18T11:12:27.443886Z",
     "start_time": "2025-06-18T11:12:27.437378Z"
    }
   },
   "cell_type": "code",
   "source": "torch.mm(tensor_A, tensor_B.T)",
   "id": "1d8e73b5b759028c",
   "outputs": [
    {
     "data": {
      "text/plain": [
       "tensor([[ 27.,  30.,  33.],\n",
       "        [ 61.,  68.,  75.],\n",
       "        [ 95., 106., 117.]])"
      ]
     },
     "execution_count": 117,
     "metadata": {},
     "output_type": "execute_result"
    }
   ],
   "execution_count": 117
  },
  {
   "metadata": {
    "ExecuteTime": {
     "end_time": "2025-06-18T11:17:10.539535Z",
     "start_time": "2025-06-18T11:17:10.529560Z"
    }
   },
   "cell_type": "code",
   "source": [
    "torch.manual_seed(42)\n",
    "\n",
    "linear = torch.nn.Linear(in_features=2, out_features=3)\n",
    "\n",
    "X = tensor_A\n",
    "output = linear(x)\n",
    "X"
   ],
   "id": "60584aa644463cd",
   "outputs": [
    {
     "data": {
      "text/plain": [
       "tensor([[1., 2.],\n",
       "        [3., 4.],\n",
       "        [5., 6.]])"
      ]
     },
     "execution_count": 122,
     "metadata": {},
     "output_type": "execute_result"
    }
   ],
   "execution_count": 122
  },
  {
   "metadata": {
    "ExecuteTime": {
     "end_time": "2025-06-18T11:19:05.914214Z",
     "start_time": "2025-06-18T11:19:05.909161Z"
    }
   },
   "cell_type": "code",
   "source": [
    "print(f'Input shape: {X.shape}\\n')\n",
    "print(f'Output: {output}\\nOutput shape: {output.shape}\\n')"
   ],
   "id": "a8be590b34c9b80e",
   "outputs": [
    {
     "name": "stdout",
     "output_type": "stream",
     "text": [
      "Input shape: torch.Size([3, 2])\n",
      "\n",
      "Output: tensor([[1.3702, 1.5487, 0.7538],\n",
      "        [3.6252, 2.5165, 0.7293],\n",
      "        [5.8802, 3.4843, 0.7048]], grad_fn=<AddmmBackward0>)\n",
      "Output shape: torch.Size([3, 3])\n",
      "\n"
     ]
    }
   ],
   "execution_count": 124
  },
  {
   "metadata": {
    "ExecuteTime": {
     "end_time": "2025-06-18T11:24:12.266176Z",
     "start_time": "2025-06-18T11:24:12.260838Z"
    }
   },
   "cell_type": "code",
   "source": [
    "x = torch.arange(0, 100, 10)\n",
    "x"
   ],
   "id": "990a2ff32cf98431",
   "outputs": [
    {
     "data": {
      "text/plain": [
       "tensor([ 0, 10, 20, 30, 40, 50, 60, 70, 80, 90])"
      ]
     },
     "execution_count": 125,
     "metadata": {},
     "output_type": "execute_result"
    }
   ],
   "execution_count": 125
  },
  {
   "metadata": {
    "ExecuteTime": {
     "end_time": "2025-06-18T11:27:11.653361Z",
     "start_time": "2025-06-18T11:27:11.647353Z"
    }
   },
   "cell_type": "code",
   "source": [
    "print(f'Minimum: {x.min()}')\n",
    "print(f'Maximum: {x.max()}')\n",
    "print(x.dtype)\n",
    "print(f'Mean: {x.type(torch.float32).mean()}')\n",
    "print(f'Sum: {x.sum()}')"
   ],
   "id": "15a1c48b7371c0f6",
   "outputs": [
    {
     "name": "stdout",
     "output_type": "stream",
     "text": [
      "Minimum: 0\n",
      "Maximum: 90\n",
      "torch.int64\n",
      "Mean: 45.0\n",
      "Sum: 450\n"
     ]
    }
   ],
   "execution_count": 133
  },
  {
   "metadata": {
    "ExecuteTime": {
     "end_time": "2025-06-18T11:30:08.919048Z",
     "start_time": "2025-06-18T11:30:08.909220Z"
    }
   },
   "cell_type": "code",
   "source": [
    "tensor = torch.arange(10, 100, 10)\n",
    "print(f'Tensor: {tensor}\\n')\n",
    "\n",
    "print(f'Index there max value occurs {tensor.argmax()}')\n",
    "print(f'Index there min value occurs {tensor.argmin()}')"
   ],
   "id": "210a246de5146823",
   "outputs": [
    {
     "name": "stdout",
     "output_type": "stream",
     "text": [
      "Tensor: tensor([10, 20, 30, 40, 50, 60, 70, 80, 90])\n",
      "\n",
      "Index there max value occurs 8\n",
      "Index there min value occurs 0\n"
     ]
    }
   ],
   "execution_count": 136
  },
  {
   "metadata": {
    "ExecuteTime": {
     "end_time": "2025-06-18T11:39:02.734127Z",
     "start_time": "2025-06-18T11:39:02.728125Z"
    }
   },
   "cell_type": "code",
   "source": [
    "tensor = torch.arange(10., 100., 10.)\n",
    "tensor.dtype"
   ],
   "id": "9cd2690047de922",
   "outputs": [
    {
     "data": {
      "text/plain": [
       "torch.float32"
      ]
     },
     "execution_count": 138,
     "metadata": {},
     "output_type": "execute_result"
    }
   ],
   "execution_count": 138
  },
  {
   "metadata": {
    "ExecuteTime": {
     "end_time": "2025-06-18T11:39:17.188276Z",
     "start_time": "2025-06-18T11:39:17.179346Z"
    }
   },
   "cell_type": "code",
   "source": [
    "tensor_float_16 = tensor.type(torch.float16)\n",
    "tensor_float_16"
   ],
   "id": "10fa962ecbb8f79d",
   "outputs": [
    {
     "data": {
      "text/plain": [
       "tensor([10., 20., 30., 40., 50., 60., 70., 80., 90.], dtype=torch.float16)"
      ]
     },
     "execution_count": 139,
     "metadata": {},
     "output_type": "execute_result"
    }
   ],
   "execution_count": 139
  },
  {
   "metadata": {
    "ExecuteTime": {
     "end_time": "2025-06-18T11:39:36.291392Z",
     "start_time": "2025-06-18T11:39:36.286008Z"
    }
   },
   "cell_type": "code",
   "source": [
    "tensor_int_8 = tensor.type(torch.int8)\n",
    "tensor_int_8"
   ],
   "id": "fbb0b68f55008b02",
   "outputs": [
    {
     "data": {
      "text/plain": [
       "tensor([10, 20, 30, 40, 50, 60, 70, 80, 90], dtype=torch.int8)"
      ]
     },
     "execution_count": 141,
     "metadata": {},
     "output_type": "execute_result"
    }
   ],
   "execution_count": 141
  },
  {
   "metadata": {
    "ExecuteTime": {
     "end_time": "2025-06-18T12:01:41.795333Z",
     "start_time": "2025-06-18T12:01:41.790060Z"
    }
   },
   "cell_type": "code",
   "source": "import torch",
   "id": "2dd74882acbd4457",
   "outputs": [],
   "execution_count": 142
  },
  {
   "metadata": {
    "ExecuteTime": {
     "end_time": "2025-06-18T12:02:03.110891Z",
     "start_time": "2025-06-18T12:02:03.104744Z"
    }
   },
   "cell_type": "code",
   "source": [
    "x = torch.arange(1, 8)\n",
    "x, x.shape"
   ],
   "id": "d05ab6cab53b1072",
   "outputs": [
    {
     "data": {
      "text/plain": [
       "(tensor([1, 2, 3, 4, 5, 6, 7]), torch.Size([7]))"
      ]
     },
     "execution_count": 144,
     "metadata": {},
     "output_type": "execute_result"
    }
   ],
   "execution_count": 144
  },
  {
   "metadata": {
    "ExecuteTime": {
     "end_time": "2025-06-18T12:03:08.974263Z",
     "start_time": "2025-06-18T12:03:08.968225Z"
    }
   },
   "cell_type": "code",
   "source": [
    "x_reshaped = x.reshape(1, 7)\n",
    "x_reshaped, x_reshaped.shape"
   ],
   "id": "370e8d81849efe9b",
   "outputs": [
    {
     "data": {
      "text/plain": [
       "(tensor([[1, 2, 3, 4, 5, 6, 7]]), torch.Size([1, 7]))"
      ]
     },
     "execution_count": 147,
     "metadata": {},
     "output_type": "execute_result"
    }
   ],
   "execution_count": 147
  },
  {
   "metadata": {
    "ExecuteTime": {
     "end_time": "2025-06-18T12:07:30.709098Z",
     "start_time": "2025-06-18T12:07:30.703106Z"
    }
   },
   "cell_type": "code",
   "source": [
    "z = x.view(1, 7)\n",
    "z, z.shape"
   ],
   "id": "512b40b7a1f0d40a",
   "outputs": [
    {
     "data": {
      "text/plain": [
       "(tensor([[1, 2, 3, 4, 5, 6, 7]]), torch.Size([1, 7]))"
      ]
     },
     "execution_count": 149,
     "metadata": {},
     "output_type": "execute_result"
    }
   ],
   "execution_count": 149
  },
  {
   "metadata": {
    "ExecuteTime": {
     "end_time": "2025-06-18T12:08:16.134171Z",
     "start_time": "2025-06-18T12:08:16.123151Z"
    }
   },
   "cell_type": "code",
   "source": [
    "z[:, 0] = 5\n",
    "z, x"
   ],
   "id": "8cdea1ecf263b764",
   "outputs": [
    {
     "data": {
      "text/plain": [
       "(tensor([[5, 2, 3, 4, 5, 6, 7]]), tensor([5, 2, 3, 4, 5, 6, 7]))"
      ]
     },
     "execution_count": 150,
     "metadata": {},
     "output_type": "execute_result"
    }
   ],
   "execution_count": 150
  },
  {
   "metadata": {
    "ExecuteTime": {
     "end_time": "2025-06-18T12:09:31.020506Z",
     "start_time": "2025-06-18T12:09:31.014505Z"
    }
   },
   "cell_type": "code",
   "source": [
    "x_stacked = torch.stack([x, x, x, x], dim=0)\n",
    "x_stacked"
   ],
   "id": "8c69a13d64cd6708",
   "outputs": [
    {
     "data": {
      "text/plain": [
       "tensor([[5, 2, 3, 4, 5, 6, 7],\n",
       "        [5, 2, 3, 4, 5, 6, 7],\n",
       "        [5, 2, 3, 4, 5, 6, 7],\n",
       "        [5, 2, 3, 4, 5, 6, 7]])"
      ]
     },
     "execution_count": 152,
     "metadata": {},
     "output_type": "execute_result"
    }
   ],
   "execution_count": 152
  },
  {
   "metadata": {
    "ExecuteTime": {
     "end_time": "2025-06-18T12:12:29.280426Z",
     "start_time": "2025-06-18T12:12:29.274940Z"
    }
   },
   "cell_type": "code",
   "source": [
    "print(f'Previous tensor: {x_reshaped}')\n",
    "print(f'Previous tensor shape: {x_reshaped.shape}')\n",
    "\n",
    "x_squeezed = x_reshaped.squeeze()\n",
    "print(f'\\nSqueezed tensor: {x_squeezed}')\n",
    "print(f'Squeezed tensor shape: {x_squeezed.shape}')"
   ],
   "id": "7ab6a8673d30e4d8",
   "outputs": [
    {
     "name": "stdout",
     "output_type": "stream",
     "text": [
      "Previous tensor: tensor([[5, 2, 3, 4, 5, 6, 7]])\n",
      "Previous tensor shape: torch.Size([1, 7])\n",
      "\n",
      "Squeezed tensor: tensor([5, 2, 3, 4, 5, 6, 7])\n",
      "Squeezed tensor shape: torch.Size([7])\n"
     ]
    }
   ],
   "execution_count": 156
  },
  {
   "metadata": {
    "ExecuteTime": {
     "end_time": "2025-06-18T12:16:33.419996Z",
     "start_time": "2025-06-18T12:16:33.415Z"
    }
   },
   "cell_type": "code",
   "source": [
    "x_original = torch.rand(size=(224, 224, 3))\n",
    "\n",
    "x_permuted = x_original.permute(2, 0, 1)\n",
    "\n",
    "print(f'Previous shape {x_original.shape}')\n",
    "print(f'New shape {x_permuted.shape}')"
   ],
   "id": "7d4533e12bad614c",
   "outputs": [
    {
     "name": "stdout",
     "output_type": "stream",
     "text": [
      "Previous shape torch.Size([224, 224, 3])\n",
      "New shape torch.Size([3, 224, 224])\n"
     ]
    }
   ],
   "execution_count": 159
  },
  {
   "metadata": {},
   "cell_type": "markdown",
   "source": "# Indexing (selecting data from tensors)",
   "id": "11c724b351d16585"
  },
  {
   "metadata": {
    "ExecuteTime": {
     "end_time": "2025-06-18T12:20:15.254064Z",
     "start_time": "2025-06-18T12:20:15.248155Z"
    }
   },
   "cell_type": "code",
   "source": [
    "import torch\n",
    "\n",
    "x = torch.arange(1, 10).reshape(1, 3, 3)\n",
    "x, x.shape"
   ],
   "id": "4dc02a027de34792",
   "outputs": [
    {
     "data": {
      "text/plain": [
       "(tensor([[[1, 2, 3],\n",
       "          [4, 5, 6],\n",
       "          [7, 8, 9]]]),\n",
       " torch.Size([1, 3, 3]))"
      ]
     },
     "execution_count": 168,
     "metadata": {},
     "output_type": "execute_result"
    }
   ],
   "execution_count": 168
  },
  {
   "metadata": {
    "ExecuteTime": {
     "end_time": "2025-06-18T12:20:16.007603Z",
     "start_time": "2025-06-18T12:20:16.002476Z"
    }
   },
   "cell_type": "code",
   "source": [
    "print(f\"First square bracket:\\n{x[0]}\")\n",
    "print(f\"Second square bracket: {x[0][0]}\")\n",
    "print(f\"Third square bracket: {x[0][0][0]}\")"
   ],
   "id": "62f86f49b8b606eb",
   "outputs": [
    {
     "name": "stdout",
     "output_type": "stream",
     "text": [
      "First square bracket:\n",
      "tensor([[1, 2, 3],\n",
      "        [4, 5, 6],\n",
      "        [7, 8, 9]])\n",
      "Second square bracket: tensor([1, 2, 3])\n",
      "Third square bracket: 1\n"
     ]
    }
   ],
   "execution_count": 169
  },
  {
   "metadata": {
    "ExecuteTime": {
     "end_time": "2025-06-19T06:16:13.370316Z",
     "start_time": "2025-06-19T06:16:13.364416Z"
    }
   },
   "cell_type": "code",
   "source": "x[:, 0]",
   "id": "bb552119ec6d1f08",
   "outputs": [
    {
     "data": {
      "text/plain": [
       "tensor([[1, 2, 3]])"
      ]
     },
     "execution_count": 171,
     "metadata": {},
     "output_type": "execute_result"
    }
   ],
   "execution_count": 171
  },
  {
   "metadata": {
    "ExecuteTime": {
     "end_time": "2025-06-19T06:16:53.443190Z",
     "start_time": "2025-06-19T06:16:53.434271Z"
    }
   },
   "cell_type": "code",
   "source": "x[:, :, 1]",
   "id": "7214360ba33881fb",
   "outputs": [
    {
     "data": {
      "text/plain": [
       "tensor([[2, 5, 8]])"
      ]
     },
     "execution_count": 172,
     "metadata": {},
     "output_type": "execute_result"
    }
   ],
   "execution_count": 172
  },
  {
   "metadata": {
    "ExecuteTime": {
     "end_time": "2025-06-19T06:18:03.012447Z",
     "start_time": "2025-06-19T06:18:03.007446Z"
    }
   },
   "cell_type": "code",
   "source": "x[:, 1, 1]",
   "id": "563bea941897985f",
   "outputs": [
    {
     "data": {
      "text/plain": [
       "tensor([5])"
      ]
     },
     "execution_count": 178,
     "metadata": {},
     "output_type": "execute_result"
    }
   ],
   "execution_count": 178
  },
  {
   "metadata": {
    "ExecuteTime": {
     "end_time": "2025-06-19T06:18:13.900730Z",
     "start_time": "2025-06-19T06:18:13.896286Z"
    }
   },
   "cell_type": "code",
   "source": "x[0, 0, :]",
   "id": "1e5de31481689fd3",
   "outputs": [
    {
     "data": {
      "text/plain": [
       "tensor([1, 2, 3])"
      ]
     },
     "execution_count": 179,
     "metadata": {},
     "output_type": "execute_result"
    }
   ],
   "execution_count": 179
  },
  {
   "metadata": {
    "ExecuteTime": {
     "end_time": "2025-06-19T06:26:17.655095Z",
     "start_time": "2025-06-19T06:26:17.642913Z"
    }
   },
   "cell_type": "code",
   "source": [
    "import torch\n",
    "import numpy as np\n",
    "\n",
    "array = np.array([1.0, 8.0])\n",
    "tensor = torch.from_numpy(array)\n",
    "tensor, array"
   ],
   "id": "9b7d4051cf243f6a",
   "outputs": [
    {
     "data": {
      "text/plain": [
       "(tensor([1., 8.], dtype=torch.float64), array([1., 8.]))"
      ]
     },
     "execution_count": 181,
     "metadata": {},
     "output_type": "execute_result"
    }
   ],
   "execution_count": 181
  },
  {
   "metadata": {
    "ExecuteTime": {
     "end_time": "2025-06-19T06:43:02.157617Z",
     "start_time": "2025-06-19T06:43:02.151607Z"
    }
   },
   "cell_type": "code",
   "source": [
    "array = array + 1\n",
    "array"
   ],
   "id": "a383475c7beaf930",
   "outputs": [
    {
     "data": {
      "text/plain": [
       "array([ 3., 10.])"
      ]
     },
     "execution_count": 183,
     "metadata": {},
     "output_type": "execute_result"
    }
   ],
   "execution_count": 183
  },
  {
   "metadata": {
    "ExecuteTime": {
     "end_time": "2025-06-19T06:43:08.521817Z",
     "start_time": "2025-06-19T06:43:08.516383Z"
    }
   },
   "cell_type": "code",
   "source": "array, tensor",
   "id": "801f35993e0886d",
   "outputs": [
    {
     "data": {
      "text/plain": [
       "(array([ 3., 10.]), tensor([1., 8.], dtype=torch.float64))"
      ]
     },
     "execution_count": 184,
     "metadata": {},
     "output_type": "execute_result"
    }
   ],
   "execution_count": 184
  },
  {
   "metadata": {
    "ExecuteTime": {
     "end_time": "2025-06-19T06:43:47.441463Z",
     "start_time": "2025-06-19T06:43:47.434358Z"
    }
   },
   "cell_type": "code",
   "source": [
    "tensor = torch.ones(7)\n",
    "numpay_tensor = tensor.numpy()\n",
    "tensor, numpay_tensor"
   ],
   "id": "967cd8167178943d",
   "outputs": [
    {
     "data": {
      "text/plain": [
       "(tensor([1., 1., 1., 1., 1., 1., 1.]),\n",
       " array([1., 1., 1., 1., 1., 1., 1.], dtype=float32))"
      ]
     },
     "execution_count": 185,
     "metadata": {},
     "output_type": "execute_result"
    }
   ],
   "execution_count": 185
  },
  {
   "metadata": {
    "ExecuteTime": {
     "end_time": "2025-06-19T06:44:34.189459Z",
     "start_time": "2025-06-19T06:44:34.183627Z"
    }
   },
   "cell_type": "code",
   "source": [
    "tensor = tensor + 1\n",
    "tensor, numpay_tensor"
   ],
   "id": "5d704288b24d0a48",
   "outputs": [
    {
     "data": {
      "text/plain": [
       "(tensor([2., 2., 2., 2., 2., 2., 2.]),\n",
       " array([1., 1., 1., 1., 1., 1., 1.], dtype=float32))"
      ]
     },
     "execution_count": 186,
     "metadata": {},
     "output_type": "execute_result"
    }
   ],
   "execution_count": 186
  },
  {
   "metadata": {
    "ExecuteTime": {
     "end_time": "2025-06-19T07:21:12.396647Z",
     "start_time": "2025-06-19T07:21:12.387443Z"
    }
   },
   "cell_type": "code",
   "source": [
    "import torch\n",
    "\n",
    "random_tensor_A = torch.rand(size=(3, 4))\n",
    "random_tensor_B = torch.rand(size=(3, 4))\n",
    "\n",
    "print(f\"Tensor A:\\n{random_tensor_A}\\n\")\n",
    "print(f\"Tensor B:\\n{random_tensor_B}\\n\")\n",
    "print(f\"Does Tensor A equal Tensor B? (anywhere)\")\n",
    "random_tensor_A == random_tensor_B"
   ],
   "id": "f093cc35ecdc3b26",
   "outputs": [
    {
     "name": "stdout",
     "output_type": "stream",
     "text": [
      "Tensor A:\n",
      "tensor([[0.2760, 0.3443, 0.2907, 0.2524],\n",
      "        [0.3103, 0.1673, 0.8201, 0.9205],\n",
      "        [0.2719, 0.2012, 0.1478, 0.3702]])\n",
      "\n",
      "Tensor B:\n",
      "tensor([[0.1441, 0.1284, 0.2582, 0.7732],\n",
      "        [0.1060, 0.6737, 0.3027, 0.9716],\n",
      "        [0.3592, 0.6261, 0.9557, 0.0057]])\n",
      "\n",
      "Does Tensor A equal Tensor B? (anywhere)\n"
     ]
    },
    {
     "data": {
      "text/plain": [
       "tensor([[False, False, False, False],\n",
       "        [False, False, False, False],\n",
       "        [False, False, False, False]])"
      ]
     },
     "execution_count": 188,
     "metadata": {},
     "output_type": "execute_result"
    }
   ],
   "execution_count": 188
  },
  {
   "metadata": {
    "ExecuteTime": {
     "end_time": "2025-06-19T07:24:56.712942Z",
     "start_time": "2025-06-19T07:24:56.705086Z"
    }
   },
   "cell_type": "code",
   "source": [
    "import torch\n",
    "import random\n",
    "\n",
    "RANDOM_SEED = 42\n",
    "\n",
    "torch.manual_seed(RANDOM_SEED)\n",
    "random_tensor_C = torch.rand(size=(3, 4))\n",
    "\n",
    "torch.manual_seed(RANDOM_SEED)\n",
    "random_tensor_D = torch.rand(size=(3, 4))\n",
    "\n",
    "print(f\"Tensor C:\\n{random_tensor_C}\\n\")\n",
    "print(f\"Tensor D:\\n{random_tensor_D}\\n\")\n",
    "print(f\"Does Tensor C equal Tensor D? (anywhere)\")\n",
    "random_tensor_C == random_tensor_D"
   ],
   "id": "99c830be02413c14",
   "outputs": [
    {
     "name": "stdout",
     "output_type": "stream",
     "text": [
      "Tensor C:\n",
      "tensor([[0.8823, 0.9150, 0.3829, 0.9593],\n",
      "        [0.3904, 0.6009, 0.2566, 0.7936],\n",
      "        [0.9408, 0.1332, 0.9346, 0.5936]])\n",
      "\n",
      "Tensor D:\n",
      "tensor([[0.8823, 0.9150, 0.3829, 0.9593],\n",
      "        [0.3904, 0.6009, 0.2566, 0.7936],\n",
      "        [0.9408, 0.1332, 0.9346, 0.5936]])\n",
      "\n",
      "Does Tensor C equal Tensor D? (anywhere)\n"
     ]
    },
    {
     "data": {
      "text/plain": [
       "tensor([[True, True, True, True],\n",
       "        [True, True, True, True],\n",
       "        [True, True, True, True]])"
      ]
     },
     "execution_count": 191,
     "metadata": {},
     "output_type": "execute_result"
    }
   ],
   "execution_count": 191
  },
  {
   "metadata": {
    "ExecuteTime": {
     "end_time": "2025-06-19T07:28:30.543876Z",
     "start_time": "2025-06-19T07:28:30.537859Z"
    }
   },
   "cell_type": "code",
   "source": [
    "import torch\n",
    "torch.cuda.is_available()"
   ],
   "id": "899847cda94d987a",
   "outputs": [
    {
     "data": {
      "text/plain": [
       "True"
      ]
     },
     "execution_count": 192,
     "metadata": {},
     "output_type": "execute_result"
    }
   ],
   "execution_count": 192
  },
  {
   "metadata": {
    "ExecuteTime": {
     "end_time": "2025-06-19T07:29:16.976117Z",
     "start_time": "2025-06-19T07:29:16.970854Z"
    }
   },
   "cell_type": "code",
   "source": [
    "device = 'cuda' if torch.cuda.is_available() else 'cpu'\n",
    "device"
   ],
   "id": "336ab881d91c7ff0",
   "outputs": [
    {
     "data": {
      "text/plain": [
       "'cuda'"
      ]
     },
     "execution_count": 193,
     "metadata": {},
     "output_type": "execute_result"
    }
   ],
   "execution_count": 193
  },
  {
   "metadata": {
    "ExecuteTime": {
     "end_time": "2025-06-19T07:30:48.248155Z",
     "start_time": "2025-06-19T07:30:48.243810Z"
    }
   },
   "cell_type": "code",
   "source": "torch.cuda.device_count()",
   "id": "72418355213cbc47",
   "outputs": [
    {
     "data": {
      "text/plain": [
       "1"
      ]
     },
     "execution_count": 194,
     "metadata": {},
     "output_type": "execute_result"
    }
   ],
   "execution_count": 194
  },
  {
   "metadata": {
    "ExecuteTime": {
     "end_time": "2025-06-19T07:32:57.453010Z",
     "start_time": "2025-06-19T07:32:57.446973Z"
    }
   },
   "cell_type": "code",
   "source": "some_tensor = some_tensor.to(device)",
   "id": "8650f2c311e5584d",
   "outputs": [],
   "execution_count": 195
  },
  {
   "metadata": {
    "ExecuteTime": {
     "end_time": "2025-06-19T07:33:41.861048Z",
     "start_time": "2025-06-19T07:33:41.855048Z"
    }
   },
   "cell_type": "code",
   "source": [
    "tensor = torch.tensor([1, 2, 3])\n",
    "print(tensor, tensor.device)"
   ],
   "id": "dfb6f3b14e7f68f1",
   "outputs": [
    {
     "name": "stdout",
     "output_type": "stream",
     "text": [
      "tensor([1, 2, 3]) cpu\n"
     ]
    }
   ],
   "execution_count": 197
  },
  {
   "metadata": {
    "ExecuteTime": {
     "end_time": "2025-06-19T07:34:00.722451Z",
     "start_time": "2025-06-19T07:34:00.713560Z"
    }
   },
   "cell_type": "code",
   "source": [
    "tensor_on_gpu = tensor.to(device)\n",
    "tensor_on_gpu"
   ],
   "id": "1ee313971de9848d",
   "outputs": [
    {
     "data": {
      "text/plain": [
       "tensor([1, 2, 3], device='cuda:0')"
      ]
     },
     "execution_count": 198,
     "metadata": {},
     "output_type": "execute_result"
    }
   ],
   "execution_count": 198
  },
  {
   "metadata": {
    "ExecuteTime": {
     "end_time": "2025-06-19T07:39:14.914699Z",
     "start_time": "2025-06-19T07:39:14.908698Z"
    }
   },
   "cell_type": "code",
   "source": [
    "tensor_back_on_cpu = tensor_on_gpu.cpu().numpy()\n",
    "tensor_back_on_cpu"
   ],
   "id": "aa3d83b440e5c967",
   "outputs": [
    {
     "data": {
      "text/plain": [
       "array([1, 2, 3])"
      ]
     },
     "execution_count": 199,
     "metadata": {},
     "output_type": "execute_result"
    }
   ],
   "execution_count": 199
  },
  {
   "metadata": {
    "ExecuteTime": {
     "end_time": "2025-06-19T07:39:36.276270Z",
     "start_time": "2025-06-19T07:39:36.268176Z"
    }
   },
   "cell_type": "code",
   "source": "tensor_on_gpu",
   "id": "12f633c9984e017d",
   "outputs": [
    {
     "data": {
      "text/plain": [
       "tensor([1, 2, 3], device='cuda:0')"
      ]
     },
     "execution_count": 200,
     "metadata": {},
     "output_type": "execute_result"
    }
   ],
   "execution_count": 200
  },
  {
   "metadata": {},
   "cell_type": "markdown",
   "source": "# Exercises",
   "id": "451f97d898a4d8bf"
  },
  {
   "metadata": {
    "ExecuteTime": {
     "end_time": "2025-06-19T07:42:43.971296Z",
     "start_time": "2025-06-19T07:42:43.964387Z"
    }
   },
   "cell_type": "code",
   "source": [
    "# 2\n",
    "random_tensor = torch.rand(size=(3, 4))\n",
    "random_tensor"
   ],
   "id": "61a271f8b56e1760",
   "outputs": [
    {
     "data": {
      "text/plain": [
       "tensor([[0.8694, 0.5677, 0.7411, 0.4294],\n",
       "        [0.8854, 0.5739, 0.2666, 0.6274],\n",
       "        [0.2696, 0.4414, 0.2969, 0.8317]])"
      ]
     },
     "execution_count": 201,
     "metadata": {},
     "output_type": "execute_result"
    }
   ],
   "execution_count": 201
  },
  {
   "metadata": {
    "ExecuteTime": {
     "end_time": "2025-06-19T09:14:30.576287Z",
     "start_time": "2025-06-19T09:14:30.569868Z"
    }
   },
   "cell_type": "code",
   "source": [
    "tensor_A = torch.randn(size=(1, 7))\n",
    "tensor_B = torch.randn(size=(1, 7))\n",
    "\n",
    "result = torch.matmul(tensor_A, tensor_B.T)\n",
    "result"
   ],
   "id": "1dea48a265d4a6c3",
   "outputs": [
    {
     "data": {
      "text/plain": [
       "tensor([[-0.0553]])"
      ]
     },
     "execution_count": 205,
     "metadata": {},
     "output_type": "execute_result"
    }
   ],
   "execution_count": 205
  },
  {
   "metadata": {},
   "cell_type": "markdown",
   "source": [
    "# 3\n",
    "\n"
   ],
   "id": "5289b95ac4179307"
  },
  {
   "metadata": {
    "ExecuteTime": {
     "end_time": "2025-06-19T09:17:05.514143Z",
     "start_time": "2025-06-19T09:17:05.507793Z"
    }
   },
   "cell_type": "code",
   "source": [
    "torch.manual_seed(42)\n",
    "\n",
    "random_tensor = torch.randn(1, 7)\n",
    "random_tensor"
   ],
   "id": "f3385f7985f80e33",
   "outputs": [
    {
     "data": {
      "text/plain": [
       "tensor([[ 0.3367,  0.1288,  0.2345,  0.2303, -1.1229, -0.1863,  2.2082]])"
      ]
     },
     "execution_count": 208,
     "metadata": {},
     "output_type": "execute_result"
    }
   ],
   "execution_count": 208
  },
  {
   "metadata": {
    "ExecuteTime": {
     "end_time": "2025-06-19T09:20:31.223265Z",
     "start_time": "2025-06-19T09:20:31.215071Z"
    }
   },
   "cell_type": "code",
   "source": [
    "torch.manual_seed(42)\n",
    "\n",
    "tensor_A = torch.randn(size=(1, 7))\n",
    "\n",
    "torch.manual_seed(42)\n",
    "tensor_B = torch.randn(size=(1, 7))\n",
    "\n",
    "torch.manual_seed(42)\n",
    "result = torch.matmul(tensor_A, tensor_B.T)\n",
    "result"
   ],
   "id": "6141774082e8c6a1",
   "outputs": [
    {
     "data": {
      "text/plain": [
       "tensor([[6.4097]])"
      ]
     },
     "execution_count": 213,
     "metadata": {},
     "output_type": "execute_result"
    }
   ],
   "execution_count": 213
  },
  {
   "metadata": {},
   "cell_type": "markdown",
   "source": "# 6",
   "id": "8269fdf042fc70f3"
  },
  {
   "metadata": {
    "ExecuteTime": {
     "end_time": "2025-06-19T09:25:49.121771Z",
     "start_time": "2025-06-19T09:25:49.108674Z"
    }
   },
   "cell_type": "code",
   "source": [
    "device = 'cuda' if torch.cuda.is_available() else 'cpu'\n",
    "\n",
    "torch.manual_seed(1234)\n",
    "\n",
    "random_tensor_A = torch.rand(size=(3, 4), device=device)\n",
    "random_tensor_B = torch.rand(size=(3, 4), device=device)\n",
    "\n",
    "print(random_tensor_A, random_tensor_B)"
   ],
   "id": "3c538897c982b42e",
   "outputs": [
    {
     "name": "stdout",
     "output_type": "stream",
     "text": [
      "tensor([[0.1272, 0.8167, 0.5440, 0.6601],\n",
      "        [0.2721, 0.9737, 0.3903, 0.3394],\n",
      "        [0.5451, 0.7312, 0.3864, 0.5959]], device='cuda:0') tensor([[0.6208, 0.0276, 0.3255, 0.1114],\n",
      "        [0.6812, 0.3608, 0.1715, 0.1965],\n",
      "        [0.8400, 0.0438, 0.3011, 0.0285]], device='cuda:0')\n"
     ]
    }
   ],
   "execution_count": 222
  },
  {
   "metadata": {
    "ExecuteTime": {
     "end_time": "2025-06-19T09:39:38.839648Z",
     "start_time": "2025-06-19T09:39:38.638574Z"
    }
   },
   "cell_type": "code",
   "source": [
    "result = torch.matmul(random_tensor_A, random_tensor_B.T)\n",
    "print(f\"random_tensor_A shape: {random_tensor_A.shape}\")\n",
    "print(f\"random_tensor_B.T shape: {random_tensor_B.T.shape}\")\n",
    "print(f\"Result shape: {result.shape}\")\n",
    "print(f\"\\nMatrix multiplication result:\\n{result}\")\n"
   ],
   "id": "5ee11e38d67b784f",
   "outputs": [
    {
     "name": "stdout",
     "output_type": "stream",
     "text": [
      "random_tensor_A shape: torch.Size([3, 4])\n",
      "random_tensor_B.T shape: torch.Size([4, 3])\n",
      "Result shape: torch.Size([3, 3])\n",
      "\n",
      "Matrix multiplication result:\n",
      "tensor([[0.3522, 0.6043, 0.3252],\n",
      "        [0.3607, 0.6703, 0.3983],\n",
      "        [0.5508, 0.8185, 0.6232]], device='cuda:0')\n"
     ]
    }
   ],
   "execution_count": 223
  },
  {
   "metadata": {
    "ExecuteTime": {
     "end_time": "2025-06-19T09:44:27.344060Z",
     "start_time": "2025-06-19T09:44:27.334815Z"
    }
   },
   "cell_type": "code",
   "source": [
    "min_result = torch.min(result)\n",
    "max_result = torch.max(result)\n",
    "\n",
    "print('Max value: ', max_result)\n",
    "print('Min value: ', min_result)"
   ],
   "id": "292a6fb231525af9",
   "outputs": [
    {
     "name": "stdout",
     "output_type": "stream",
     "text": [
      "Max value:  tensor(0.8185, device='cuda:0')\n",
      "Min value:  tensor(0.3252, device='cuda:0')\n"
     ]
    }
   ],
   "execution_count": 229
  },
  {
   "metadata": {
    "ExecuteTime": {
     "end_time": "2025-06-19T09:44:03.494457Z",
     "start_time": "2025-06-19T09:44:03.488272Z"
    }
   },
   "cell_type": "code",
   "source": [
    "max_index_result = torch.argmax(result)\n",
    "min_index_result = torch.argmin(result)\n",
    "\n",
    "print('Max value: ', max_index_result)\n",
    "print('Min value: ', min_index_result)"
   ],
   "id": "6947551ee68c09c7",
   "outputs": [
    {
     "name": "stdout",
     "output_type": "stream",
     "text": [
      "Max value:  tensor(7, device='cuda:0')\n",
      "Min value:  tensor(2, device='cuda:0')\n"
     ]
    }
   ],
   "execution_count": 228
  },
  {
   "metadata": {
    "ExecuteTime": {
     "end_time": "2025-06-19T09:47:05.329689Z",
     "start_time": "2025-06-19T09:47:05.322589Z"
    }
   },
   "cell_type": "code",
   "source": [
    "torch.manual_seed(7)\n",
    "\n",
    "random_tensor = torch.rand(size=(1, 1, 1, 10))\n",
    "\n",
    "squeezed_tensor = random_tensor.squeeze()\n",
    "\n",
    "print('Original tensor', random_tensor)\n",
    "print('Original tensor shape', random_tensor.shape)\n",
    "\n",
    "print('Squeezed tensor', squeezed_tensor)\n",
    "print('Squeezed tensor shape', squeezed_tensor.shape)"
   ],
   "id": "689c92f1a65c1e07",
   "outputs": [
    {
     "name": "stdout",
     "output_type": "stream",
     "text": [
      "Original tensor tensor([[[[0.5349, 0.1988, 0.6592, 0.6569, 0.2328, 0.4251, 0.2071, 0.6297,\n",
      "           0.3653, 0.8513]]]])\n",
      "Original tensor shape torch.Size([1, 1, 1, 10])\n",
      "Squeezed tensor tensor([0.5349, 0.1988, 0.6592, 0.6569, 0.2328, 0.4251, 0.2071, 0.6297, 0.3653,\n",
      "        0.8513])\n",
      "Squeezed tensor shape torch.Size([10])\n"
     ]
    }
   ],
   "execution_count": 232
  },
  {
   "metadata": {},
   "cell_type": "code",
   "outputs": [],
   "execution_count": null,
   "source": "",
   "id": "832d82249fa83d72"
  }
 ],
 "metadata": {
  "kernelspec": {
   "display_name": "Python 3",
   "language": "python",
   "name": "python3"
  },
  "language_info": {
   "codemirror_mode": {
    "name": "ipython",
    "version": 2
   },
   "file_extension": ".py",
   "mimetype": "text/x-python",
   "name": "python",
   "nbconvert_exporter": "python",
   "pygments_lexer": "ipython2",
   "version": "2.7.6"
  }
 },
 "nbformat": 4,
 "nbformat_minor": 5
}
