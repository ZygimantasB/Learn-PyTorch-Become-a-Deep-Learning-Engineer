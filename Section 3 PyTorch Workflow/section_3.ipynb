{
 "cells": [
  {
   "metadata": {},
   "cell_type": "markdown",
   "source": "# 41. Getting Setup and What We Are Covering",
   "id": "39237606f9c00276"
  },
  {
   "cell_type": "code",
   "id": "initial_id",
   "metadata": {
    "collapsed": true,
    "ExecuteTime": {
     "end_time": "2025-06-15T18:33:00.964396Z",
     "start_time": "2025-06-15T18:33:00.958260Z"
    }
   },
   "source": [
    "what_were_covering = {\n",
    "    1: \"data (prepare and load)\",\n",
    "    2: \"build model\",\n",
    "    3: \"fitting the model to data (training)\",\n",
    "    4: \"making predicitons and evaluating model\",\n",
    "    5: \"saving and loading a model\"\n",
    "}\n",
    "\n",
    "what_were_covering"
   ],
   "outputs": [
    {
     "data": {
      "text/plain": [
       "{1: 'data (prepare and load)',\n",
       " 2: 'build model',\n",
       " 3: 'fitting the model to data (training)',\n",
       " 4: 'making predicitons and evaluating model',\n",
       " 5: 'saving and loading a model'}"
      ]
     },
     "execution_count": 1,
     "metadata": {},
     "output_type": "execute_result"
    }
   ],
   "execution_count": 1
  },
  {
   "metadata": {
    "ExecuteTime": {
     "end_time": "2025-06-15T18:33:26.258506Z",
     "start_time": "2025-06-15T18:33:26.253621Z"
    }
   },
   "cell_type": "code",
   "source": [
    "import torch\n",
    "from torch import nn ## nn contains all\n",
    "import matplotlib.pyplot as plt\n",
    "\n",
    "torch.__version__\n"
   ],
   "id": "cf167afb63089694",
   "outputs": [
    {
     "data": {
      "text/plain": [
       "'2.6.0+cu126'"
      ]
     },
     "execution_count": 3,
     "metadata": {},
     "output_type": "execute_result"
    }
   ],
   "execution_count": 3
  },
  {
   "metadata": {},
   "cell_type": "markdown",
   "source": "# 42. Creating a Simple Dataset Using the Linear Regression Formula",
   "id": "8a0b80cb2795efdb"
  },
  {
   "metadata": {
    "ExecuteTime": {
     "end_time": "2025-06-15T18:33:03.232287Z",
     "start_time": "2025-06-15T18:33:03.230Z"
    }
   },
   "cell_type": "code",
   "source": "",
   "id": "4e95e2a2acf0fddf",
   "outputs": [],
   "execution_count": null
  }
 ],
 "metadata": {
  "kernelspec": {
   "display_name": "Python 3",
   "language": "python",
   "name": "python3"
  },
  "language_info": {
   "codemirror_mode": {
    "name": "ipython",
    "version": 2
   },
   "file_extension": ".py",
   "mimetype": "text/x-python",
   "name": "python",
   "nbconvert_exporter": "python",
   "pygments_lexer": "ipython2",
   "version": "2.7.6"
  }
 },
 "nbformat": 4,
 "nbformat_minor": 5
}
