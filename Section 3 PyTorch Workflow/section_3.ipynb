{
 "cells": [
  {
   "metadata": {},
   "cell_type": "markdown",
   "source": "# 41. Getting Setup and What We Are Covering",
   "id": "39237606f9c00276"
  },
  {
   "cell_type": "code",
   "id": "initial_id",
   "metadata": {
    "collapsed": true,
    "ExecuteTime": {
     "end_time": "2025-06-18T17:50:30.810443Z",
     "start_time": "2025-06-18T17:50:30.804510Z"
    }
   },
   "source": [
    "from IPython.extensions.storemagic import restore_data\n",
    "\n",
    "what_were_covering = {\n",
    "    1: \"data (prepare and load)\",\n",
    "    2: \"build model\",\n",
    "    3: \"fitting the model to data (training)\",\n",
    "    4: \"making predicitons and evaluating model\",\n",
    "    5: \"saving and loading a model\"\n",
    "}\n",
    "\n",
    "what_were_covering"
   ],
   "outputs": [
    {
     "data": {
      "text/plain": [
       "{1: 'data (prepare and load)',\n",
       " 2: 'build model',\n",
       " 3: 'fitting the model to data (training)',\n",
       " 4: 'making predicitons and evaluating model',\n",
       " 5: 'saving and loading a model'}"
      ]
     },
     "execution_count": 1,
     "metadata": {},
     "output_type": "execute_result"
    }
   ],
   "execution_count": 1
  },
  {
   "metadata": {
    "ExecuteTime": {
     "end_time": "2025-06-18T17:50:40.038586Z",
     "start_time": "2025-06-18T17:50:30.841496Z"
    }
   },
   "cell_type": "code",
   "source": [
    "import torch\n",
    "from torch import nn ## nn contains all\n",
    "import matplotlib.pyplot as plt\n",
    "\n",
    "torch.__version__\n"
   ],
   "id": "cf167afb63089694",
   "outputs": [
    {
     "data": {
      "text/plain": [
       "'2.6.0+cu126'"
      ]
     },
     "execution_count": 2,
     "metadata": {},
     "output_type": "execute_result"
    }
   ],
   "execution_count": 2
  },
  {
   "metadata": {},
   "cell_type": "markdown",
   "source": "# 42. Creating a Simple Dataset Using the Linear Regression Formula",
   "id": "8a0b80cb2795efdb"
  },
  {
   "metadata": {
    "ExecuteTime": {
     "end_time": "2025-06-18T17:50:40.331949Z",
     "start_time": "2025-06-18T17:50:40.255237Z"
    }
   },
   "cell_type": "code",
   "source": [
    "weight = 0.7\n",
    "bias = 0.3\n",
    "\n",
    "start = 0\n",
    "end = 1\n",
    "step = 0.02\n",
    "\n",
    "X = torch.arange(start, end, step).unsqueeze(1)\n",
    "y = weight * X + bias\n",
    "\n",
    "X[:10], y[:10], len(X)"
   ],
   "id": "4e95e2a2acf0fddf",
   "outputs": [
    {
     "data": {
      "text/plain": [
       "(tensor([[0.0000],\n",
       "         [0.0200],\n",
       "         [0.0400],\n",
       "         [0.0600],\n",
       "         [0.0800],\n",
       "         [0.1000],\n",
       "         [0.1200],\n",
       "         [0.1400],\n",
       "         [0.1600],\n",
       "         [0.1800]]),\n",
       " tensor([[0.3000],\n",
       "         [0.3140],\n",
       "         [0.3280],\n",
       "         [0.3420],\n",
       "         [0.3560],\n",
       "         [0.3700],\n",
       "         [0.3840],\n",
       "         [0.3980],\n",
       "         [0.4120],\n",
       "         [0.4260]]),\n",
       " 50)"
      ]
     },
     "execution_count": 3,
     "metadata": {},
     "output_type": "execute_result"
    }
   ],
   "execution_count": 3
  },
  {
   "metadata": {},
   "cell_type": "markdown",
   "source": "# 43. Splitting Our Data Into Training and Test Sets",
   "id": "d7a37595108b22f9"
  },
  {
   "metadata": {
    "ExecuteTime": {
     "end_time": "2025-06-18T17:50:40.411308Z",
     "start_time": "2025-06-18T17:50:40.405487Z"
    }
   },
   "cell_type": "code",
   "source": [
    "train_split = int(0.8 * len(X))\n",
    "X_train, y_train = X[:train_split], y[:train_split]\n",
    "X_test, y_test = X[train_split:], y[train_split:]\n",
    "\n",
    "len(X_train), len(y_train), len(X_test), len(y_test)"
   ],
   "id": "18433f323c480ae4",
   "outputs": [
    {
     "data": {
      "text/plain": [
       "(40, 40, 10, 10)"
      ]
     },
     "execution_count": 4,
     "metadata": {},
     "output_type": "execute_result"
    }
   ],
   "execution_count": 4
  },
  {
   "metadata": {},
   "cell_type": "markdown",
   "source": "# 44. Building a function to Visualize Our Data",
   "id": "844dd818afebf3d6"
  },
  {
   "metadata": {
    "ExecuteTime": {
     "end_time": "2025-06-18T17:50:40.483230Z",
     "start_time": "2025-06-18T17:50:40.479670Z"
    }
   },
   "cell_type": "code",
   "source": [
    "def plot_predictions(\n",
    "        train_data=X_train,\n",
    "        train_labels=y_train,\n",
    "        test_labels=y_test,\n",
    "        predictions=None,\n",
    "):\n",
    "    plt.figure(figsize=(10, 6))\n",
    "    plt.scatter(train_data, train_labels, c='blue', s=4, label='Training data')\n",
    "    plt.scatter(X_test, test_labels, c='red', s=4, label='Testing data')\n",
    "\n",
    "    if predictions is not None:\n",
    "        plt.scatter(X_test, predictions, c='green', s=4, label='Predictions')\n",
    "    plt.legend(prop={'size': 14})"
   ],
   "id": "3664e6f8c5ce8238",
   "outputs": [],
   "execution_count": 5
  },
  {
   "metadata": {
    "ExecuteTime": {
     "end_time": "2025-06-18T17:50:40.743993Z",
     "start_time": "2025-06-18T17:50:40.534974Z"
    }
   },
   "cell_type": "code",
   "source": "plot_predictions()",
   "id": "f715f3a6f92a400c",
   "outputs": [
    {
     "data": {
      "text/plain": [
       "<Figure size 1000x600 with 1 Axes>"
      ],
      "image/png": "[encoded data removed]"
     },
     "metadata": {},
     "output_type": "display_data"
    }
   ],
   "execution_count": 6
  },
  {
   "metadata": {},
   "cell_type": "markdown",
   "source": "# 45. Creating Our First PyTorch Model for Linear Regression",
   "id": "a3414ed054349966"
  },
  {
   "metadata": {
    "ExecuteTime": {
     "end_time": "2025-06-18T18:20:12.738106Z",
     "start_time": "2025-06-18T18:20:12.733153Z"
    }
   },
   "cell_type": "code",
   "source": [
    "class LinearRegressionModel(nn.Module):\n",
    "    def __init__(self):\n",
    "        super().__init__()\n",
    "        self.weights = nn.Parameter(torch.randn(1, requires_grad=True, dtype=torch.float))\n",
    "        self.bias = nn.Parameter(torch.randn(1, requires_grad=True, dtype=torch.float))\n",
    "\n",
    "    def forward(self, x: torch.Tensor) -> torch.Tensor:\n",
    "        return self.weights * x + self.bias"
   ],
   "id": "8d90e2559eb4b281",
   "outputs": [],
   "execution_count": 11
  },
  {
   "metadata": {},
   "cell_type": "markdown",
   "source": "# 46. Breaking Down What's Happening in Our PyTorch Linear regression Model",
   "id": "9e85f21a294673d3"
  },
  {
   "metadata": {},
   "cell_type": "markdown",
   "source": "# 47. Discussing Some of the Most Important PyTorch Model Building Classes",
   "id": "bc163ca1bde86c01"
  },
  {
   "metadata": {},
   "cell_type": "markdown",
   "source": "# 48. Checking Out the Internals of Our PyTorch Model",
   "id": "f69fb05304b0675a"
  },
  {
   "metadata": {
    "ExecuteTime": {
     "end_time": "2025-06-18T18:19:15.217424Z",
     "start_time": "2025-06-18T18:19:15.214358Z"
    }
   },
   "cell_type": "code",
   "source": "",
   "id": "64d90ec28124ff74",
   "outputs": [],
   "execution_count": null
  },
  {
   "metadata": {
    "ExecuteTime": {
     "end_time": "2025-06-18T18:19:15.701290Z",
     "start_time": "2025-06-18T18:19:15.698213Z"
    }
   },
   "cell_type": "code",
   "source": "",
   "id": "2710184c3d1e785f",
   "outputs": [],
   "execution_count": null
  }
 ],
 "metadata": {
  "kernelspec": {
   "display_name": "Python 3",
   "language": "python",
   "name": "python3"
  },
  "language_info": {
   "codemirror_mode": {
    "name": "ipython",
    "version": 2
   },
   "file_extension": ".py",
   "mimetype": "text/x-python",
   "name": "python",
   "nbconvert_exporter": "python",
   "pygments_lexer": "ipython2",
   "version": "2.7.6"
  }
 },
 "nbformat": 4,
 "nbformat_minor": 5
}
