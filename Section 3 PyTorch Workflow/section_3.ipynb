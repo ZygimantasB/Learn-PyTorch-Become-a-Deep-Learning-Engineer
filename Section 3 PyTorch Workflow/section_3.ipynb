{
 "cells": [
  {
   "metadata": {},
   "cell_type": "markdown",
   "source": "# 41. Getting Setup and What We Are Covering",
   "id": "39237606f9c00276"
  },
  {
   "cell_type": "code",
   "id": "initial_id",
   "metadata": {
    "collapsed": true,
    "ExecuteTime": {
     "end_time": "2025-06-30T18:39:31.732367Z",
     "start_time": "2025-06-30T18:39:31.725626Z"
    }
   },
   "source": [
    "what_were_covering = {\n",
    "    1: \"data (prepare and load)\",\n",
    "    2: \"build model\",\n",
    "    3: \"fitting the model to data (training)\",\n",
    "    4: \"making predicitons and evaluating model\",\n",
    "    5: \"saving and loading a model\"\n",
    "}\n",
    "\n",
    "what_were_covering"
   ],
   "outputs": [
    {
     "data": {
      "text/plain": [
       "{1: 'data (prepare and load)',\n",
       " 2: 'build model',\n",
       " 3: 'fitting the model to data (training)',\n",
       " 4: 'making predicitons and evaluating model',\n",
       " 5: 'saving and loading a model'}"
      ]
     },
     "execution_count": 1,
     "metadata": {},
     "output_type": "execute_result"
    }
   ],
   "execution_count": 1
  },
  {
   "metadata": {
    "ExecuteTime": {
     "end_time": "2025-06-30T18:39:41.212054Z",
     "start_time": "2025-06-30T18:39:31.901492Z"
    }
   },
   "cell_type": "code",
   "source": [
    "import torch\n",
    "from torch import nn ## nn contains all\n",
    "import matplotlib.pyplot as plt\n",
    "\n",
    "torch.__version__\n"
   ],
   "id": "cf167afb63089694",
   "outputs": [
    {
     "data": {
      "text/plain": [
       "'2.6.0+cu126'"
      ]
     },
     "execution_count": 2,
     "metadata": {},
     "output_type": "execute_result"
    }
   ],
   "execution_count": 2
  },
  {
   "metadata": {},
   "cell_type": "markdown",
   "source": "# 42. Creating a Simple Dataset Using the Linear Regression Formula",
   "id": "8a0b80cb2795efdb"
  },
  {
   "metadata": {
    "ExecuteTime": {
     "end_time": "2025-06-30T18:39:41.300783Z",
     "start_time": "2025-06-30T18:39:41.223645Z"
    }
   },
   "cell_type": "code",
   "source": [
    "weight = 0.7\n",
    "bias = 0.3\n",
    "\n",
    "start = 0\n",
    "end = 1\n",
    "step = 0.02\n",
    "\n",
    "X = torch.arange(start, end, step).unsqueeze(1)\n",
    "y = weight * X + bias\n",
    "\n",
    "X[:10], y[:10], len(X)"
   ],
   "id": "4e95e2a2acf0fddf",
   "outputs": [
    {
     "data": {
      "text/plain": [
       "(tensor([[0.0000],\n",
       "         [0.0200],\n",
       "         [0.0400],\n",
       "         [0.0600],\n",
       "         [0.0800],\n",
       "         [0.1000],\n",
       "         [0.1200],\n",
       "         [0.1400],\n",
       "         [0.1600],\n",
       "         [0.1800]]),\n",
       " tensor([[0.3000],\n",
       "         [0.3140],\n",
       "         [0.3280],\n",
       "         [0.3420],\n",
       "         [0.3560],\n",
       "         [0.3700],\n",
       "         [0.3840],\n",
       "         [0.3980],\n",
       "         [0.4120],\n",
       "         [0.4260]]),\n",
       " 50)"
      ]
     },
     "execution_count": 3,
     "metadata": {},
     "output_type": "execute_result"
    }
   ],
   "execution_count": 3
  },
  {
   "metadata": {},
   "cell_type": "markdown",
   "source": "# 43. Splitting Our Data Into Training and Test Sets",
   "id": "d7a37595108b22f9"
  },
  {
   "metadata": {
    "ExecuteTime": {
     "end_time": "2025-06-30T18:39:41.329945Z",
     "start_time": "2025-06-30T18:39:41.324923Z"
    }
   },
   "cell_type": "code",
   "source": [
    "train_split = int(0.8 * len(X))\n",
    "X_train, y_train = X[:train_split], y[:train_split]\n",
    "X_test, y_test = X[train_split:], y[train_split:]\n",
    "\n",
    "len(X_train), len(y_train), len(X_test), len(y_test)"
   ],
   "id": "18433f323c480ae4",
   "outputs": [
    {
     "data": {
      "text/plain": [
       "(40, 40, 10, 10)"
      ]
     },
     "execution_count": 4,
     "metadata": {},
     "output_type": "execute_result"
    }
   ],
   "execution_count": 4
  },
  {
   "metadata": {},
   "cell_type": "markdown",
   "source": "# 44. Building a function to Visualize Our Data",
   "id": "844dd818afebf3d6"
  },
  {
   "metadata": {
    "ExecuteTime": {
     "end_time": "2025-06-30T18:39:41.380691Z",
     "start_time": "2025-06-30T18:39:41.376997Z"
    }
   },
   "cell_type": "code",
   "source": [
    "def plot_predictions(\n",
    "        train_data=X_train,\n",
    "        train_labels=y_train,\n",
    "        test_labels=y_test,\n",
    "        predictions=None,\n",
    "):\n",
    "    plt.figure(figsize=(10, 6))\n",
    "    plt.scatter(train_data, train_labels, c='blue', s=4, label='Training data')\n",
    "    plt.scatter(X_test, test_labels, c='red', s=4, label='Testing data')\n",
    "\n",
    "    if predictions is not None:\n",
    "        plt.scatter(X_test, predictions, c='green', s=4, label='Predictions')\n",
    "    plt.legend(prop={'size': 14})"
   ],
   "id": "3664e6f8c5ce8238",
   "outputs": [],
   "execution_count": 5
  },
  {
   "metadata": {
    "ExecuteTime": {
     "end_time": "2025-06-30T18:39:41.674950Z",
     "start_time": "2025-06-30T18:39:41.427735Z"
    }
   },
   "cell_type": "code",
   "source": "plot_predictions()",
   "id": "f715f3a6f92a400c",
   "outputs": [
    {
     "data": {
      "text/plain": [
       "<Figure size 1000x600 with 1 Axes>"
      ],
      "image/png": "[encoded data removed]"
     },
     "metadata": {},
     "output_type": "display_data"
    }
   ],
   "execution_count": 6
  },
  {
   "metadata": {},
   "cell_type": "markdown",
   "source": "# 45. Creating Our First PyTorch Model for Linear Regression",
   "id": "a3414ed054349966"
  },
  {
   "metadata": {
    "ExecuteTime": {
     "end_time": "2025-06-30T18:39:41.700828Z",
     "start_time": "2025-06-30T18:39:41.695296Z"
    }
   },
   "cell_type": "code",
   "source": [
    "class LinearRegressionModel(nn.Module):\n",
    "    def __init__(self):\n",
    "        super().__init__()\n",
    "        self.weights = nn.Parameter(torch.randn(1, requires_grad=True, dtype=torch.float))\n",
    "        self.bias = nn.Parameter(torch.randn(1, requires_grad=True, dtype=torch.float))\n",
    "\n",
    "    def forward(self, x: torch.Tensor) -> torch.Tensor:\n",
    "        return self.weights * x + self.bias"
   ],
   "id": "8d90e2559eb4b281",
   "outputs": [],
   "execution_count": 7
  },
  {
   "metadata": {},
   "cell_type": "markdown",
   "source": "# 46. Breaking Down What's Happening in Our PyTorch Linear regression Model",
   "id": "9e85f21a294673d3"
  },
  {
   "metadata": {},
   "cell_type": "markdown",
   "source": "# 47. Discussing Some of the Most Important PyTorch Model Building Classes",
   "id": "bc163ca1bde86c01"
  },
  {
   "metadata": {},
   "cell_type": "markdown",
   "source": "# 48. Checking Out the Internals of Our PyTorch Model",
   "id": "f69fb05304b0675a"
  },
  {
   "metadata": {
    "ExecuteTime": {
     "end_time": "2025-06-30T18:39:41.755116Z",
     "start_time": "2025-06-30T18:39:41.725212Z"
    }
   },
   "cell_type": "code",
   "source": [
    "torch.manual_seed(42)\n",
    "\n",
    "model_0 = LinearRegressionModel()\n",
    "\n",
    "list(model_0.parameters())"
   ],
   "id": "64d90ec28124ff74",
   "outputs": [
    {
     "data": {
      "text/plain": [
       "[Parameter containing:\n",
       " tensor([0.3367], requires_grad=True),\n",
       " Parameter containing:\n",
       " tensor([0.1288], requires_grad=True)]"
      ]
     },
     "execution_count": 8,
     "metadata": {},
     "output_type": "execute_result"
    }
   ],
   "execution_count": 8
  },
  {
   "metadata": {
    "ExecuteTime": {
     "end_time": "2025-06-30T18:39:41.812028Z",
     "start_time": "2025-06-30T18:39:41.804512Z"
    }
   },
   "cell_type": "code",
   "source": [
    "torch.manual_seed(42)\n",
    "torch.randn(1)"
   ],
   "id": "2710184c3d1e785f",
   "outputs": [
    {
     "data": {
      "text/plain": [
       "tensor([0.3367])"
      ]
     },
     "execution_count": 9,
     "metadata": {},
     "output_type": "execute_result"
    }
   ],
   "execution_count": 9
  },
  {
   "metadata": {
    "ExecuteTime": {
     "end_time": "2025-06-30T18:39:41.864974Z",
     "start_time": "2025-06-30T18:39:41.857757Z"
    }
   },
   "cell_type": "code",
   "source": "model_0.state_dict()",
   "id": "38ca82730f09f12e",
   "outputs": [
    {
     "data": {
      "text/plain": [
       "OrderedDict([('weights', tensor([0.3367])), ('bias', tensor([0.1288]))])"
      ]
     },
     "execution_count": 10,
     "metadata": {},
     "output_type": "execute_result"
    }
   ],
   "execution_count": 10
  },
  {
   "metadata": {
    "ExecuteTime": {
     "end_time": "2025-06-30T18:39:41.891847Z",
     "start_time": "2025-06-30T18:39:41.887031Z"
    }
   },
   "cell_type": "code",
   "source": "weight, bias",
   "id": "5a5461f66fff07aa",
   "outputs": [
    {
     "data": {
      "text/plain": [
       "(0.7, 0.3)"
      ]
     },
     "execution_count": 11,
     "metadata": {},
     "output_type": "execute_result"
    }
   ],
   "execution_count": 11
  },
  {
   "metadata": {},
   "cell_type": "markdown",
   "source": "# 49. Making Predictions With Our Random Model Using Inference Mode",
   "id": "170f9913994bcf"
  },
  {
   "metadata": {
    "ExecuteTime": {
     "end_time": "2025-06-30T18:39:41.940298Z",
     "start_time": "2025-06-30T18:39:41.934280Z"
    }
   },
   "cell_type": "code",
   "source": [
    "with torch.inference_mode():\n",
    "    y_preds = model_0(X_test)\n",
    "\n",
    "y_preds"
   ],
   "id": "dbcd3f2754c22daa",
   "outputs": [
    {
     "data": {
      "text/plain": [
       "tensor([[0.3982],\n",
       "        [0.4049],\n",
       "        [0.4116],\n",
       "        [0.4184],\n",
       "        [0.4251],\n",
       "        [0.4318],\n",
       "        [0.4386],\n",
       "        [0.4453],\n",
       "        [0.4520],\n",
       "        [0.4588]])"
      ]
     },
     "execution_count": 12,
     "metadata": {},
     "output_type": "execute_result"
    }
   ],
   "execution_count": 12
  },
  {
   "metadata": {
    "ExecuteTime": {
     "end_time": "2025-06-30T18:39:42.343321Z",
     "start_time": "2025-06-30T18:39:42.061619Z"
    }
   },
   "cell_type": "code",
   "source": "plot_predictions(predictions=y_preds)",
   "id": "74e1a49a45f6122",
   "outputs": [
    {
     "data": {
      "text/plain": [
       "<Figure size 1000x600 with 1 Axes>"
      ],
      "image/png": "[encoded data removed]"
     },
     "metadata": {},
     "output_type": "display_data"
    }
   ],
   "execution_count": 13
  },
  {
   "metadata": {},
   "cell_type": "markdown",
   "source": "# 50. Training a Model Intuition (The Things We Need)",
   "id": "b29e9762c2808104"
  },
  {
   "metadata": {
    "ExecuteTime": {
     "end_time": "2025-06-30T18:39:42.411138Z",
     "start_time": "2025-06-30T18:39:42.407125Z"
    }
   },
   "cell_type": "code",
   "source": [
    "# loss function - the function we use to measure how far off our predictions are from the actual data\n",
    "# loss function might be called cost function or criterion function.\n",
    "# loss function - measures how far off our predictions are from the actual data\n",
    "# optimizer - the algorithm we use to adjust the parameters of our model so they best fit the training data\n",
    "\n",
    "# And especially for PyTorch, we need:\n",
    "# A training loop\n",
    "# A testing loop\n",
    "\n",
    "loss_fn = nn.MSELoss()"
   ],
   "id": "a4a9d6210f114f8a",
   "outputs": [],
   "execution_count": 14
  },
  {
   "metadata": {
    "ExecuteTime": {
     "end_time": "2025-06-30T18:39:42.471321Z",
     "start_time": "2025-06-30T18:39:42.466834Z"
    }
   },
   "cell_type": "code",
   "source": "model_0.parameters()",
   "id": "b62b08069503e908",
   "outputs": [
    {
     "data": {
      "text/plain": [
       "<generator object Module.parameters at 0x000001CA8E6F8D60>"
      ]
     },
     "execution_count": 15,
     "metadata": {},
     "output_type": "execute_result"
    }
   ],
   "execution_count": 15
  },
  {
   "metadata": {},
   "cell_type": "markdown",
   "source": "# 51. Setting Up an Optimizer and a Loss Function",
   "id": "aa3e10be0ac392fd"
  },
  {
   "metadata": {
    "ExecuteTime": {
     "end_time": "2025-06-30T19:17:33.807774Z",
     "start_time": "2025-06-30T19:17:33.804349Z"
    }
   },
   "cell_type": "code",
   "source": [
    "# set up the lost function\n",
    "loss_fn = nn.MSELoss() # how wrong is our model?"
   ],
   "id": "6a8199b8f8d54283",
   "outputs": [],
   "execution_count": 16
  },
  {
   "metadata": {
    "ExecuteTime": {
     "end_time": "2025-06-30T19:26:07.599846Z",
     "start_time": "2025-06-30T19:26:07.595848Z"
    }
   },
   "cell_type": "code",
   "source": [
    "optimizer = torch.optim.SGD(\n",
    "    params=model_0.parameters(),\n",
    "    lr=0.001\n",
    ") # how do we adjust the parameters?"
   ],
   "id": "4acb506014c9811a",
   "outputs": [],
   "execution_count": 18
  },
  {
   "metadata": {},
   "cell_type": "markdown",
   "source": "# 52. PyTorch Training Loop Steps and Intuition",
   "id": "f5dca4d278e88f31"
  },
  {
   "metadata": {},
   "cell_type": "code",
   "outputs": [],
   "execution_count": null,
   "source": "",
   "id": "685e45c9a2df61c0"
  }
 ],
 "metadata": {
  "kernelspec": {
   "display_name": "Python 3",
   "language": "python",
   "name": "python3"
  },
  "language_info": {
   "codemirror_mode": {
    "name": "ipython",
    "version": 2
   },
   "file_extension": ".py",
   "mimetype": "text/x-python",
   "name": "python",
   "nbconvert_exporter": "python",
   "pygments_lexer": "ipython2",
   "version": "2.7.6"
  }
 },
 "nbformat": 4,
 "nbformat_minor": 5
}
