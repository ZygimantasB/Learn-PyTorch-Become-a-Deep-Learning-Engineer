{
 "cells": [
  {
   "metadata": {},
   "cell_type": "markdown",
   "source": "# Section 2: PyTorch Fundamentals",
   "id": "5fc7a1a6bb010bb7"
  },
  {
   "metadata": {},
   "cell_type": "markdown",
   "source": "# 9. The Number 1 Rule of Machine Learning and What Is Deep Learning Good For",
   "id": "4062c72750928eed"
  },
  {
   "cell_type": "code",
   "execution_count": null,
   "id": "initial_id",
   "metadata": {
    "collapsed": true
   },
   "outputs": [],
   "source": ""
  }
 ],
 "metadata": {
  "kernelspec": {
   "display_name": "Python 3",
   "language": "python",
   "name": "python3"
  },
  "language_info": {
   "codemirror_mode": {
    "name": "ipython",
    "version": 2
   },
   "file_extension": ".py",
   "mimetype": "text/x-python",
   "name": "python",
   "nbconvert_exporter": "python",
   "pygments_lexer": "ipython2",
   "version": "2.7.6"
  }
 },
 "nbformat": 4,
 "nbformat_minor": 5
}
