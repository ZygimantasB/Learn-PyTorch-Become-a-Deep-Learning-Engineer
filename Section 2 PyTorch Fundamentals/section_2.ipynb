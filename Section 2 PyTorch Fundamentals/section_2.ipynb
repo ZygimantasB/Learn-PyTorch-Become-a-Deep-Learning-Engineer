{
 "cells": [
  {
   "metadata": {},
   "cell_type": "markdown",
   "source": "# 8. Why Use Machine Learning or Deep Learning",
   "id": "5fc7a1a6bb010bb7"
  },
  {
   "metadata": {},
   "cell_type": "markdown",
   "source": "# 9. The Number 1 Rule of Machine Learning and What Is Deep Learning Good For",
   "id": "4062c72750928eed"
  },
  {
   "metadata": {},
   "cell_type": "markdown",
   "source": "# 10. Machine Learning vs. Deep Learning",
   "id": "b75980b972cef882"
  },
  {
   "metadata": {},
   "cell_type": "markdown",
   "source": "# 11. Anatomy of Neural Networks",
   "id": "93627ea0a257e7bb"
  },
  {
   "metadata": {},
   "cell_type": "markdown",
   "source": "# 12. Different Types of Learning Paradigms",
   "id": "8e253449e855455d"
  },
  {
   "metadata": {},
   "cell_type": "markdown",
   "source": "# 13. What Can Deep Learning Be Used For",
   "id": "8a065ba97b464120"
  },
  {
   "metadata": {},
   "cell_type": "markdown",
   "source": "# 14. What Is and Why PyTorch",
   "id": "dfff58efb7f3c939"
  },
  {
   "metadata": {},
   "cell_type": "markdown",
   "source": "# 15. What Are Tensors",
   "id": "798484f76d531be5"
  },
  {
   "metadata": {},
   "cell_type": "markdown",
   "source": "# 16. What We Are Going To Cover With PyTorch",
   "id": "19c0557440ab6acb"
  },
  {
   "metadata": {},
   "cell_type": "markdown",
   "source": "# 17. How To and How Not To Approach This Course",
   "id": "f8611a03a53c71cd"
  },
  {
   "metadata": {},
   "cell_type": "markdown",
   "source": "# 19. Getting Setup to Write PyTorch Code",
   "id": "e1664a578e88bea4"
  },
  {
   "cell_type": "code",
   "execution_count": null,
   "id": "initial_id",
   "metadata": {
    "collapsed": true
   },
   "outputs": [],
   "source": ""
  }
 ],
 "metadata": {
  "kernelspec": {
   "display_name": "Python 3",
   "language": "python",
   "name": "python3"
  },
  "language_info": {
   "codemirror_mode": {
    "name": "ipython",
    "version": 2
   },
   "file_extension": ".py",
   "mimetype": "text/x-python",
   "name": "python",
   "nbconvert_exporter": "python",
   "pygments_lexer": "ipython2",
   "version": "2.7.6"
  }
 },
 "nbformat": 4,
 "nbformat_minor": 5
}
