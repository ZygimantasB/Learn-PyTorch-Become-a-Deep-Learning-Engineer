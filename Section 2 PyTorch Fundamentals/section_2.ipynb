{
 "cells": [
  {
   "metadata": {},
   "cell_type": "markdown",
   "source": "# 8. Why Use Machine Learning or Deep Learning",
   "id": "5fc7a1a6bb010bb7"
  },
  {
   "metadata": {},
   "cell_type": "markdown",
   "source": "# 9. The Number 1 Rule of Machine Learning and What Is Deep Learning Good For",
   "id": "4062c72750928eed"
  },
  {
   "metadata": {},
   "cell_type": "markdown",
   "source": "# 10. Machine Learning vs. Deep Learning",
   "id": "b75980b972cef882"
  },
  {
   "metadata": {},
   "cell_type": "markdown",
   "source": "# 11. Anatomy of Neural Networks",
   "id": "93627ea0a257e7bb"
  },
  {
   "metadata": {},
   "cell_type": "markdown",
   "source": "# 12. Different Types of Learning Paradigms",
   "id": "8e253449e855455d"
  },
  {
   "metadata": {},
   "cell_type": "markdown",
   "source": "# 13. What Can Deep Learning Be Used For",
   "id": "8a065ba97b464120"
  },
  {
   "metadata": {},
   "cell_type": "markdown",
   "source": "# 14. What Is and Why PyTorch",
   "id": "dfff58efb7f3c939"
  },
  {
   "metadata": {},
   "cell_type": "markdown",
   "source": "# 15. What Are Tensors",
   "id": "798484f76d531be5"
  },
  {
   "metadata": {},
   "cell_type": "markdown",
   "source": "# 16. What We Are Going To Cover With PyTorch",
   "id": "19c0557440ab6acb"
  },
  {
   "metadata": {},
   "cell_type": "markdown",
   "source": "# 17. How To and How Not To Approach This Course",
   "id": "f8611a03a53c71cd"
  },
  {
   "metadata": {},
   "cell_type": "markdown",
   "source": "# 19. Getting Setup to Write PyTorch Code",
   "id": "e1664a578e88bea4"
  },
  {
   "metadata": {
    "ExecuteTime": {
     "end_time": "2025-06-15T15:08:46.787882Z",
     "start_time": "2025-06-15T15:08:34.330605Z"
    }
   },
   "cell_type": "code",
   "source": [
    "import torch\n",
    "import polars as pl\n",
    "import matplotlib.pyplot as plt\n",
    "import seaborn as sns\n",
    "import altair as alt\n",
    "import plotly.express as px\n",
    "import numpy as np\n",
    "import hvplot.polars\n",
    "from torch.xpu import device"
   ],
   "id": "2c7e739ad4b308c1",
   "outputs": [
    {
     "data": {
      "text/html": [
       "<script type=\"esms-options\">{\"shimMode\": true}</script><style>*[data-root-id],\n",
       "*[data-root-id] > * {\n",
       "  box-sizing: border-box;\n",
       "  font-family: var(--jp-ui-font-family);\n",
       "  font-size: var(--jp-ui-font-size1);\n",
       "  color: var(--vscode-editor-foreground, var(--jp-ui-font-color1));\n",
       "}\n",
       "\n",
       "/* Override VSCode background color */\n",
       ".cell-output-ipywidget-background:has(\n",
       "    > .cell-output-ipywidget-background > .lm-Widget > *[data-root-id]\n",
       "  ),\n",
       ".cell-output-ipywidget-background:has(> .lm-Widget > *[data-root-id]) {\n",
       "  background-color: transparent !important;\n",
       "}\n",
       "</style>"
      ]
     },
     "metadata": {},
     "output_type": "display_data"
    },
    {
     "data": {
      "application/javascript": "(function(root) {\n  function now() {\n    return new Date();\n  }\n\n  const force = true;\n  const py_version = '3.6.3'.replace('rc', '-rc.').replace('.dev', '-dev.');\n  const reloading = false;\n  const Bokeh = root.Bokeh;\n\n  // Set a timeout for this load but only if we are not already initializing\n  if (typeof (root._bokeh_timeout) === \"undefined\" || (force || !root._bokeh_is_initializing)) {\n    root._bokeh_timeout = Date.now() + 5000;\n    root._bokeh_failed_load = false;\n  }\n\n  function run_callbacks() {\n    try {\n      root._bokeh_onload_callbacks.forEach(function(callback) {\n        if (callback != null)\n          callback();\n      });\n    } finally {\n      delete root._bokeh_onload_callbacks;\n    }\n    console.debug(\"Bokeh: all callbacks have finished\");\n  }\n\n  function load_libs(css_urls, js_urls, js_modules, js_exports, callback) {\n    if (css_urls == null) css_urls = [];\n    if (js_urls == null) js_urls = [];\n    if (js_modules == null) js_modules = [];\n    if (js_exports == null) js_exports = {};\n\n    root._bokeh_onload_callbacks.push(callback);\n\n    if (root._bokeh_is_loading > 0) {\n      // Don't load bokeh if it is still initializing\n      console.debug(\"Bokeh: BokehJS is being loaded, scheduling callback at\", now());\n      return null;\n    } else if (js_urls.length === 0 && js_modules.length === 0 && Object.keys(js_exports).length === 0) {\n      // There is nothing to load\n      run_callbacks();\n      return null;\n    }\n\n    function on_load() {\n      root._bokeh_is_loading--;\n      if (root._bokeh_is_loading === 0) {\n        console.debug(\"Bokeh: all BokehJS libraries/stylesheets loaded\");\n        run_callbacks()\n      }\n    }\n    window._bokeh_on_load = on_load\n\n    function on_error(e) {\n      const src_el = e.srcElement\n      console.error(\"failed to load \" + (src_el.href || src_el.src));\n    }\n\n    const skip = [];\n    if (window.requirejs) {\n      window.requirejs.config({'packages': {}, 'paths': {}, 'shim': {}});\n      root._bokeh_is_loading = css_urls.length + 0;\n    } else {\n      root._bokeh_is_loading = css_urls.length + js_urls.length + js_modules.length + Object.keys(js_exports).length;\n    }\n\n    const existing_stylesheets = []\n    const links = document.getElementsByTagName('link')\n    for (let i = 0; i < links.length; i++) {\n      const link = links[i]\n      if (link.href != null) {\n        existing_stylesheets.push(link.href)\n      }\n    }\n    for (let i = 0; i < css_urls.length; i++) {\n      const url = css_urls[i];\n      const escaped = encodeURI(url)\n      if (existing_stylesheets.indexOf(escaped) !== -1) {\n        on_load()\n        continue;\n      }\n      const element = document.createElement(\"link\");\n      element.onload = on_load;\n      element.onerror = on_error;\n      element.rel = \"stylesheet\";\n      element.type = \"text/css\";\n      element.href = url;\n      console.debug(\"Bokeh: injecting link tag for BokehJS stylesheet: \", url);\n      document.body.appendChild(element);\n    }    var existing_scripts = []\n    const scripts = document.getElementsByTagName('script')\n    for (let i = 0; i < scripts.length; i++) {\n      var script = scripts[i]\n      if (script.src != null) {\n        existing_scripts.push(script.src)\n      }\n    }\n    for (let i = 0; i < js_urls.length; i++) {\n      const url = js_urls[i];\n      const escaped = encodeURI(url)\n      if (skip.indexOf(escaped) !== -1 || existing_scripts.indexOf(escaped) !== -1) {\n        if (!window.requirejs) {\n          on_load();\n        }\n        continue;\n      }\n      const element = document.createElement('script');\n      element.onload = on_load;\n      element.onerror = on_error;\n      element.async = false;\n      element.src = url;\n      console.debug(\"Bokeh: injecting script tag for BokehJS library: \", url);\n      document.head.appendChild(element);\n    }\n    for (let i = 0; i < js_modules.length; i++) {\n      const url = js_modules[i];\n      const escaped = encodeURI(url)\n      if (skip.indexOf(escaped) !== -1 || existing_scripts.indexOf(escaped) !== -1) {\n        if (!window.requirejs) {\n          on_load();\n        }\n        continue;\n      }\n      var element = document.createElement('script');\n      element.onload = on_load;\n      element.onerror = on_error;\n      element.async = false;\n      element.src = url;\n      element.type = \"module\";\n      console.debug(\"Bokeh: injecting script tag for BokehJS library: \", url);\n      document.head.appendChild(element);\n    }\n    for (const name in js_exports) {\n      const url = js_exports[name];\n      const escaped = encodeURI(url)\n      if (skip.indexOf(escaped) >= 0 || root[name] != null) {\n        if (!window.requirejs) {\n          on_load();\n        }\n        continue;\n      }\n      var element = document.createElement('script');\n      element.onerror = on_error;\n      element.async = false;\n      element.type = \"module\";\n      console.debug(\"Bokeh: injecting script tag for BokehJS library: \", url);\n      element.textContent = `\n      import ${name} from \"${url}\"\n      window.${name} = ${name}\n      window._bokeh_on_load()\n      `\n      document.head.appendChild(element);\n    }\n    if (!js_urls.length && !js_modules.length) {\n      on_load()\n    }\n  };\n\n  function inject_raw_css(css) {\n    const element = document.createElement(\"style\");\n    element.appendChild(document.createTextNode(css));\n    document.body.appendChild(element);\n  }\n\n  const js_urls = [\"https://cdn.holoviz.org/panel/1.6.1/dist/bundled/reactiveesm/es-module-shims@^1.10.0/dist/es-module-shims.min.js\", \"https://cdn.bokeh.org/bokeh/release/bokeh-3.6.3.min.js\", \"https://cdn.bokeh.org/bokeh/release/bokeh-gl-3.6.3.min.js\", \"https://cdn.bokeh.org/bokeh/release/bokeh-widgets-3.6.3.min.js\", \"https://cdn.bokeh.org/bokeh/release/bokeh-tables-3.6.3.min.js\", \"https://cdn.holoviz.org/panel/1.6.1/dist/panel.min.js\"];\n  const js_modules = [];\n  const js_exports = {};\n  const css_urls = [];\n  const inline_js = [    function(Bokeh) {\n      Bokeh.set_log_level(\"info\");\n    },\nfunction(Bokeh) {} // ensure no trailing comma for IE\n  ];\n\n  function run_inline_js() {\n    if ((root.Bokeh !== undefined) || (force === true)) {\n      for (let i = 0; i < inline_js.length; i++) {\n        try {\n          inline_js[i].call(root, root.Bokeh);\n        } catch(e) {\n          if (!reloading) {\n            throw e;\n          }\n        }\n      }\n      // Cache old bokeh versions\n      if (Bokeh != undefined && !reloading) {\n        var NewBokeh = root.Bokeh;\n        if (Bokeh.versions === undefined) {\n          Bokeh.versions = new Map();\n        }\n        if (NewBokeh.version !== Bokeh.version) {\n          Bokeh.versions.set(NewBokeh.version, NewBokeh)\n        }\n        root.Bokeh = Bokeh;\n      }\n    } else if (Date.now() < root._bokeh_timeout) {\n      setTimeout(run_inline_js, 100);\n    } else if (!root._bokeh_failed_load) {\n      console.log(\"Bokeh: BokehJS failed to load within specified timeout.\");\n      root._bokeh_failed_load = true;\n    }\n    root._bokeh_is_initializing = false\n  }\n\n  function load_or_wait() {\n    // Implement a backoff loop that tries to ensure we do not load multiple\n    // versions of Bokeh and its dependencies at the same time.\n    // In recent versions we use the root._bokeh_is_initializing flag\n    // to determine whether there is an ongoing attempt to initialize\n    // bokeh, however for backward compatibility we also try to ensure\n    // that we do not start loading a newer (Panel>=1.0 and Bokeh>3) version\n    // before older versions are fully initialized.\n    if (root._bokeh_is_initializing && Date.now() > root._bokeh_timeout) {\n      // If the timeout and bokeh was not successfully loaded we reset\n      // everything and try loading again\n      root._bokeh_timeout = Date.now() + 5000;\n      root._bokeh_is_initializing = false;\n      root._bokeh_onload_callbacks = undefined;\n      root._bokeh_is_loading = 0\n      console.log(\"Bokeh: BokehJS was loaded multiple times but one version failed to initialize.\");\n      load_or_wait();\n    } else if (root._bokeh_is_initializing || (typeof root._bokeh_is_initializing === \"undefined\" && root._bokeh_onload_callbacks !== undefined)) {\n      setTimeout(load_or_wait, 100);\n    } else {\n      root._bokeh_is_initializing = true\n      root._bokeh_onload_callbacks = []\n      const bokeh_loaded = root.Bokeh != null && (root.Bokeh.version === py_version || (root.Bokeh.versions !== undefined && root.Bokeh.versions.has(py_version)));\n      if (!reloading && !bokeh_loaded) {\n        if (root.Bokeh) {\n          root.Bokeh = undefined;\n        }\n        console.debug(\"Bokeh: BokehJS not loaded, scheduling load and callback at\", now());\n      }\n      load_libs(css_urls, js_urls, js_modules, js_exports, function() {\n        console.debug(\"Bokeh: BokehJS plotting callback run at\", now());\n        run_inline_js();\n      });\n    }\n  }\n  // Give older versions of the autoload script a head-start to ensure\n  // they initialize before we start loading newer version.\n  setTimeout(load_or_wait, 100)\n}(window));",
      "application/vnd.holoviews_load.v0+json": "(function(root) {\n  function now() {\n    return new Date();\n  }\n\n  const force = true;\n  const py_version = '3.6.3'.replace('rc', '-rc.').replace('.dev', '-dev.');\n  const reloading = false;\n  const Bokeh = root.Bokeh;\n\n  // Set a timeout for this load but only if we are not already initializing\n  if (typeof (root._bokeh_timeout) === \"undefined\" || (force || !root._bokeh_is_initializing)) {\n    root._bokeh_timeout = Date.now() + 5000;\n    root._bokeh_failed_load = false;\n  }\n\n  function run_callbacks() {\n    try {\n      root._bokeh_onload_callbacks.forEach(function(callback) {\n        if (callback != null)\n          callback();\n      });\n    } finally {\n      delete root._bokeh_onload_callbacks;\n    }\n    console.debug(\"Bokeh: all callbacks have finished\");\n  }\n\n  function load_libs(css_urls, js_urls, js_modules, js_exports, callback) {\n    if (css_urls == null) css_urls = [];\n    if (js_urls == null) js_urls = [];\n    if (js_modules == null) js_modules = [];\n    if (js_exports == null) js_exports = {};\n\n    root._bokeh_onload_callbacks.push(callback);\n\n    if (root._bokeh_is_loading > 0) {\n      // Don't load bokeh if it is still initializing\n      console.debug(\"Bokeh: BokehJS is being loaded, scheduling callback at\", now());\n      return null;\n    } else if (js_urls.length === 0 && js_modules.length === 0 && Object.keys(js_exports).length === 0) {\n      // There is nothing to load\n      run_callbacks();\n      return null;\n    }\n\n    function on_load() {\n      root._bokeh_is_loading--;\n      if (root._bokeh_is_loading === 0) {\n        console.debug(\"Bokeh: all BokehJS libraries/stylesheets loaded\");\n        run_callbacks()\n      }\n    }\n    window._bokeh_on_load = on_load\n\n    function on_error(e) {\n      const src_el = e.srcElement\n      console.error(\"failed to load \" + (src_el.href || src_el.src));\n    }\n\n    const skip = [];\n    if (window.requirejs) {\n      window.requirejs.config({'packages': {}, 'paths': {}, 'shim': {}});\n      root._bokeh_is_loading = css_urls.length + 0;\n    } else {\n      root._bokeh_is_loading = css_urls.length + js_urls.length + js_modules.length + Object.keys(js_exports).length;\n    }\n\n    const existing_stylesheets = []\n    const links = document.getElementsByTagName('link')\n    for (let i = 0; i < links.length; i++) {\n      const link = links[i]\n      if (link.href != null) {\n        existing_stylesheets.push(link.href)\n      }\n    }\n    for (let i = 0; i < css_urls.length; i++) {\n      const url = css_urls[i];\n      const escaped = encodeURI(url)\n      if (existing_stylesheets.indexOf(escaped) !== -1) {\n        on_load()\n        continue;\n      }\n      const element = document.createElement(\"link\");\n      element.onload = on_load;\n      element.onerror = on_error;\n      element.rel = \"stylesheet\";\n      element.type = \"text/css\";\n      element.href = url;\n      console.debug(\"Bokeh: injecting link tag for BokehJS stylesheet: \", url);\n      document.body.appendChild(element);\n    }    var existing_scripts = []\n    const scripts = document.getElementsByTagName('script')\n    for (let i = 0; i < scripts.length; i++) {\n      var script = scripts[i]\n      if (script.src != null) {\n        existing_scripts.push(script.src)\n      }\n    }\n    for (let i = 0; i < js_urls.length; i++) {\n      const url = js_urls[i];\n      const escaped = encodeURI(url)\n      if (skip.indexOf(escaped) !== -1 || existing_scripts.indexOf(escaped) !== -1) {\n        if (!window.requirejs) {\n          on_load();\n        }\n        continue;\n      }\n      const element = document.createElement('script');\n      element.onload = on_load;\n      element.onerror = on_error;\n      element.async = false;\n      element.src = url;\n      console.debug(\"Bokeh: injecting script tag for BokehJS library: \", url);\n      document.head.appendChild(element);\n    }\n    for (let i = 0; i < js_modules.length; i++) {\n      const url = js_modules[i];\n      const escaped = encodeURI(url)\n      if (skip.indexOf(escaped) !== -1 || existing_scripts.indexOf(escaped) !== -1) {\n        if (!window.requirejs) {\n          on_load();\n        }\n        continue;\n      }\n      var element = document.createElement('script');\n      element.onload = on_load;\n      element.onerror = on_error;\n      element.async = false;\n      element.src = url;\n      element.type = \"module\";\n      console.debug(\"Bokeh: injecting script tag for BokehJS library: \", url);\n      document.head.appendChild(element);\n    }\n    for (const name in js_exports) {\n      const url = js_exports[name];\n      const escaped = encodeURI(url)\n      if (skip.indexOf(escaped) >= 0 || root[name] != null) {\n        if (!window.requirejs) {\n          on_load();\n        }\n        continue;\n      }\n      var element = document.createElement('script');\n      element.onerror = on_error;\n      element.async = false;\n      element.type = \"module\";\n      console.debug(\"Bokeh: injecting script tag for BokehJS library: \", url);\n      element.textContent = `\n      import ${name} from \"${url}\"\n      window.${name} = ${name}\n      window._bokeh_on_load()\n      `\n      document.head.appendChild(element);\n    }\n    if (!js_urls.length && !js_modules.length) {\n      on_load()\n    }\n  };\n\n  function inject_raw_css(css) {\n    const element = document.createElement(\"style\");\n    element.appendChild(document.createTextNode(css));\n    document.body.appendChild(element);\n  }\n\n  const js_urls = [\"https://cdn.holoviz.org/panel/1.6.1/dist/bundled/reactiveesm/es-module-shims@^1.10.0/dist/es-module-shims.min.js\", \"https://cdn.bokeh.org/bokeh/release/bokeh-3.6.3.min.js\", \"https://cdn.bokeh.org/bokeh/release/bokeh-gl-3.6.3.min.js\", \"https://cdn.bokeh.org/bokeh/release/bokeh-widgets-3.6.3.min.js\", \"https://cdn.bokeh.org/bokeh/release/bokeh-tables-3.6.3.min.js\", \"https://cdn.holoviz.org/panel/1.6.1/dist/panel.min.js\"];\n  const js_modules = [];\n  const js_exports = {};\n  const css_urls = [];\n  const inline_js = [    function(Bokeh) {\n      Bokeh.set_log_level(\"info\");\n    },\nfunction(Bokeh) {} // ensure no trailing comma for IE\n  ];\n\n  function run_inline_js() {\n    if ((root.Bokeh !== undefined) || (force === true)) {\n      for (let i = 0; i < inline_js.length; i++) {\n        try {\n          inline_js[i].call(root, root.Bokeh);\n        } catch(e) {\n          if (!reloading) {\n            throw e;\n          }\n        }\n      }\n      // Cache old bokeh versions\n      if (Bokeh != undefined && !reloading) {\n        var NewBokeh = root.Bokeh;\n        if (Bokeh.versions === undefined) {\n          Bokeh.versions = new Map();\n        }\n        if (NewBokeh.version !== Bokeh.version) {\n          Bokeh.versions.set(NewBokeh.version, NewBokeh)\n        }\n        root.Bokeh = Bokeh;\n      }\n    } else if (Date.now() < root._bokeh_timeout) {\n      setTimeout(run_inline_js, 100);\n    } else if (!root._bokeh_failed_load) {\n      console.log(\"Bokeh: BokehJS failed to load within specified timeout.\");\n      root._bokeh_failed_load = true;\n    }\n    root._bokeh_is_initializing = false\n  }\n\n  function load_or_wait() {\n    // Implement a backoff loop that tries to ensure we do not load multiple\n    // versions of Bokeh and its dependencies at the same time.\n    // In recent versions we use the root._bokeh_is_initializing flag\n    // to determine whether there is an ongoing attempt to initialize\n    // bokeh, however for backward compatibility we also try to ensure\n    // that we do not start loading a newer (Panel>=1.0 and Bokeh>3) version\n    // before older versions are fully initialized.\n    if (root._bokeh_is_initializing && Date.now() > root._bokeh_timeout) {\n      // If the timeout and bokeh was not successfully loaded we reset\n      // everything and try loading again\n      root._bokeh_timeout = Date.now() + 5000;\n      root._bokeh_is_initializing = false;\n      root._bokeh_onload_callbacks = undefined;\n      root._bokeh_is_loading = 0\n      console.log(\"Bokeh: BokehJS was loaded multiple times but one version failed to initialize.\");\n      load_or_wait();\n    } else if (root._bokeh_is_initializing || (typeof root._bokeh_is_initializing === \"undefined\" && root._bokeh_onload_callbacks !== undefined)) {\n      setTimeout(load_or_wait, 100);\n    } else {\n      root._bokeh_is_initializing = true\n      root._bokeh_onload_callbacks = []\n      const bokeh_loaded = root.Bokeh != null && (root.Bokeh.version === py_version || (root.Bokeh.versions !== undefined && root.Bokeh.versions.has(py_version)));\n      if (!reloading && !bokeh_loaded) {\n        if (root.Bokeh) {\n          root.Bokeh = undefined;\n        }\n        console.debug(\"Bokeh: BokehJS not loaded, scheduling load and callback at\", now());\n      }\n      load_libs(css_urls, js_urls, js_modules, js_exports, function() {\n        console.debug(\"Bokeh: BokehJS plotting callback run at\", now());\n        run_inline_js();\n      });\n    }\n  }\n  // Give older versions of the autoload script a head-start to ensure\n  // they initialize before we start loading newer version.\n  setTimeout(load_or_wait, 100)\n}(window));"
     },
     "metadata": {},
     "output_type": "display_data"
    },
    {
     "data": {
      "application/vnd.holoviews_load.v0+json": "\nif ((window.PyViz === undefined) || (window.PyViz instanceof HTMLElement)) {\n  window.PyViz = {comms: {}, comm_status:{}, kernels:{}, receivers: {}, plot_index: []}\n}\n\n\n    function JupyterCommManager() {\n    }\n\n    JupyterCommManager.prototype.register_target = function(plot_id, comm_id, msg_handler) {\n      if (window.comm_manager || ((window.Jupyter !== undefined) && (Jupyter.notebook.kernel != null))) {\n        var comm_manager = window.comm_manager || Jupyter.notebook.kernel.comm_manager;\n        comm_manager.register_target(comm_id, function(comm) {\n          comm.on_msg(msg_handler);\n        });\n      } else if ((plot_id in window.PyViz.kernels) && (window.PyViz.kernels[plot_id])) {\n        window.PyViz.kernels[plot_id].registerCommTarget(comm_id, function(comm) {\n          comm.onMsg = msg_handler;\n        });\n      } else if (typeof google != 'undefined' && google.colab.kernel != null) {\n        google.colab.kernel.comms.registerTarget(comm_id, (comm) => {\n          var messages = comm.messages[Symbol.asyncIterator]();\n          function processIteratorResult(result) {\n            var message = result.value;\n            console.log(message)\n            var content = {data: message.data, comm_id};\n            var buffers = []\n            for (var buffer of message.buffers || []) {\n              buffers.push(new DataView(buffer))\n            }\n            var metadata = message.metadata || {};\n            var msg = {content, buffers, metadata}\n            msg_handler(msg);\n            return messages.next().then(processIteratorResult);\n          }\n          return messages.next().then(processIteratorResult);\n        })\n      }\n    }\n\n    JupyterCommManager.prototype.get_client_comm = function(plot_id, comm_id, msg_handler) {\n      if (comm_id in window.PyViz.comms) {\n        return window.PyViz.comms[comm_id];\n      } else if (window.comm_manager || ((window.Jupyter !== undefined) && (Jupyter.notebook.kernel != null))) {\n        var comm_manager = window.comm_manager || Jupyter.notebook.kernel.comm_manager;\n        var comm = comm_manager.new_comm(comm_id, {}, {}, {}, comm_id);\n        if (msg_handler) {\n          comm.on_msg(msg_handler);\n        }\n      } else if ((plot_id in window.PyViz.kernels) && (window.PyViz.kernels[plot_id])) {\n        var comm = window.PyViz.kernels[plot_id].connectToComm(comm_id);\n        comm.open();\n        if (msg_handler) {\n          comm.onMsg = msg_handler;\n        }\n      } else if (typeof google != 'undefined' && google.colab.kernel != null) {\n        var comm_promise = google.colab.kernel.comms.open(comm_id)\n        comm_promise.then((comm) => {\n          window.PyViz.comms[comm_id] = comm;\n          if (msg_handler) {\n            var messages = comm.messages[Symbol.asyncIterator]();\n            function processIteratorResult(result) {\n              var message = result.value;\n              var content = {data: message.data};\n              var metadata = message.metadata || {comm_id};\n              var msg = {content, metadata}\n              msg_handler(msg);\n              return messages.next().then(processIteratorResult);\n            }\n            return messages.next().then(processIteratorResult);\n          }\n        })\n        var sendClosure = (data, metadata, buffers, disposeOnDone) => {\n          return comm_promise.then((comm) => {\n            comm.send(data, metadata, buffers, disposeOnDone);\n          });\n        };\n        var comm = {\n          send: sendClosure\n        };\n      }\n      window.PyViz.comms[comm_id] = comm;\n      return comm;\n    }\n    window.PyViz.comm_manager = new JupyterCommManager();\n    \n\n\nvar JS_MIME_TYPE = 'application/javascript';\nvar HTML_MIME_TYPE = 'text/html';\nvar EXEC_MIME_TYPE = 'application/vnd.holoviews_exec.v0+json';\nvar CLASS_NAME = 'output';\n\n/**\n * Render data to the DOM node\n */\nfunction render(props, node) {\n  var div = document.createElement(\"div\");\n  var script = document.createElement(\"script\");\n  node.appendChild(div);\n  node.appendChild(script);\n}\n\n/**\n * Handle when a new output is added\n */\nfunction handle_add_output(event, handle) {\n  var output_area = handle.output_area;\n  var output = handle.output;\n  if ((output.data == undefined) || (!output.data.hasOwnProperty(EXEC_MIME_TYPE))) {\n    return\n  }\n  var id = output.metadata[EXEC_MIME_TYPE][\"id\"];\n  var toinsert = output_area.element.find(\".\" + CLASS_NAME.split(' ')[0]);\n  if (id !== undefined) {\n    var nchildren = toinsert.length;\n    var html_node = toinsert[nchildren-1].children[0];\n    html_node.innerHTML = output.data[HTML_MIME_TYPE];\n    var scripts = [];\n    var nodelist = html_node.querySelectorAll(\"script\");\n    for (var i in nodelist) {\n      if (nodelist.hasOwnProperty(i)) {\n        scripts.push(nodelist[i])\n      }\n    }\n\n    scripts.forEach( function (oldScript) {\n      var newScript = document.createElement(\"script\");\n      var attrs = [];\n      var nodemap = oldScript.attributes;\n      for (var j in nodemap) {\n        if (nodemap.hasOwnProperty(j)) {\n          attrs.push(nodemap[j])\n        }\n      }\n      attrs.forEach(function(attr) { newScript.setAttribute(attr.name, attr.value) });\n      newScript.appendChild(document.createTextNode(oldScript.innerHTML));\n      oldScript.parentNode.replaceChild(newScript, oldScript);\n    });\n    if (JS_MIME_TYPE in output.data) {\n      toinsert[nchildren-1].children[1].textContent = output.data[JS_MIME_TYPE];\n    }\n    output_area._hv_plot_id = id;\n    if ((window.Bokeh !== undefined) && (id in Bokeh.index)) {\n      window.PyViz.plot_index[id] = Bokeh.index[id];\n    } else {\n      window.PyViz.plot_index[id] = null;\n    }\n  } else if (output.metadata[EXEC_MIME_TYPE][\"server_id\"] !== undefined) {\n    var bk_div = document.createElement(\"div\");\n    bk_div.innerHTML = output.data[HTML_MIME_TYPE];\n    var script_attrs = bk_div.children[0].attributes;\n    for (var i = 0; i < script_attrs.length; i++) {\n      toinsert[toinsert.length - 1].childNodes[1].setAttribute(script_attrs[i].name, script_attrs[i].value);\n    }\n    // store reference to server id on output_area\n    output_area._bokeh_server_id = output.metadata[EXEC_MIME_TYPE][\"server_id\"];\n  }\n}\n\n/**\n * Handle when an output is cleared or removed\n */\nfunction handle_clear_output(event, handle) {\n  var id = handle.cell.output_area._hv_plot_id;\n  var server_id = handle.cell.output_area._bokeh_server_id;\n  if (((id === undefined) || !(id in PyViz.plot_index)) && (server_id !== undefined)) { return; }\n  var comm = window.PyViz.comm_manager.get_client_comm(\"hv-extension-comm\", \"hv-extension-comm\", function () {});\n  if (server_id !== null) {\n    comm.send({event_type: 'server_delete', 'id': server_id});\n    return;\n  } else if (comm !== null) {\n    comm.send({event_type: 'delete', 'id': id});\n  }\n  delete PyViz.plot_index[id];\n  if ((window.Bokeh !== undefined) & (id in window.Bokeh.index)) {\n    var doc = window.Bokeh.index[id].model.document\n    doc.clear();\n    const i = window.Bokeh.documents.indexOf(doc);\n    if (i > -1) {\n      window.Bokeh.documents.splice(i, 1);\n    }\n  }\n}\n\n/**\n * Handle kernel restart event\n */\nfunction handle_kernel_cleanup(event, handle) {\n  delete PyViz.comms[\"hv-extension-comm\"];\n  window.PyViz.plot_index = {}\n}\n\n/**\n * Handle update_display_data messages\n */\nfunction handle_update_output(event, handle) {\n  handle_clear_output(event, {cell: {output_area: handle.output_area}})\n  handle_add_output(event, handle)\n}\n\nfunction register_renderer(events, OutputArea) {\n  function append_mime(data, metadata, element) {\n    // create a DOM node to render to\n    var toinsert = this.create_output_subarea(\n    metadata,\n    CLASS_NAME,\n    EXEC_MIME_TYPE\n    );\n    this.keyboard_manager.register_events(toinsert);\n    // Render to node\n    var props = {data: data, metadata: metadata[EXEC_MIME_TYPE]};\n    render(props, toinsert[0]);\n    element.append(toinsert);\n    return toinsert\n  }\n\n  events.on('output_added.OutputArea', handle_add_output);\n  events.on('output_updated.OutputArea', handle_update_output);\n  events.on('clear_output.CodeCell', handle_clear_output);\n  events.on('delete.Cell', handle_clear_output);\n  events.on('kernel_ready.Kernel', handle_kernel_cleanup);\n\n  OutputArea.prototype.register_mime_type(EXEC_MIME_TYPE, append_mime, {\n    safe: true,\n    index: 0\n  });\n}\n\nif (window.Jupyter !== undefined) {\n  try {\n    var events = require('base/js/events');\n    var OutputArea = require('notebook/js/outputarea').OutputArea;\n    if (OutputArea.prototype.mime_types().indexOf(EXEC_MIME_TYPE) == -1) {\n      register_renderer(events, OutputArea);\n    }\n  } catch(err) {\n  }\n}\n",
      "application/javascript": "\nif ((window.PyViz === undefined) || (window.PyViz instanceof HTMLElement)) {\n  window.PyViz = {comms: {}, comm_status:{}, kernels:{}, receivers: {}, plot_index: []}\n}\n\n\n    function JupyterCommManager() {\n    }\n\n    JupyterCommManager.prototype.register_target = function(plot_id, comm_id, msg_handler) {\n      if (window.comm_manager || ((window.Jupyter !== undefined) && (Jupyter.notebook.kernel != null))) {\n        var comm_manager = window.comm_manager || Jupyter.notebook.kernel.comm_manager;\n        comm_manager.register_target(comm_id, function(comm) {\n          comm.on_msg(msg_handler);\n        });\n      } else if ((plot_id in window.PyViz.kernels) && (window.PyViz.kernels[plot_id])) {\n        window.PyViz.kernels[plot_id].registerCommTarget(comm_id, function(comm) {\n          comm.onMsg = msg_handler;\n        });\n      } else if (typeof google != 'undefined' && google.colab.kernel != null) {\n        google.colab.kernel.comms.registerTarget(comm_id, (comm) => {\n          var messages = comm.messages[Symbol.asyncIterator]();\n          function processIteratorResult(result) {\n            var message = result.value;\n            console.log(message)\n            var content = {data: message.data, comm_id};\n            var buffers = []\n            for (var buffer of message.buffers || []) {\n              buffers.push(new DataView(buffer))\n            }\n            var metadata = message.metadata || {};\n            var msg = {content, buffers, metadata}\n            msg_handler(msg);\n            return messages.next().then(processIteratorResult);\n          }\n          return messages.next().then(processIteratorResult);\n        })\n      }\n    }\n\n    JupyterCommManager.prototype.get_client_comm = function(plot_id, comm_id, msg_handler) {\n      if (comm_id in window.PyViz.comms) {\n        return window.PyViz.comms[comm_id];\n      } else if (window.comm_manager || ((window.Jupyter !== undefined) && (Jupyter.notebook.kernel != null))) {\n        var comm_manager = window.comm_manager || Jupyter.notebook.kernel.comm_manager;\n        var comm = comm_manager.new_comm(comm_id, {}, {}, {}, comm_id);\n        if (msg_handler) {\n          comm.on_msg(msg_handler);\n        }\n      } else if ((plot_id in window.PyViz.kernels) && (window.PyViz.kernels[plot_id])) {\n        var comm = window.PyViz.kernels[plot_id].connectToComm(comm_id);\n        comm.open();\n        if (msg_handler) {\n          comm.onMsg = msg_handler;\n        }\n      } else if (typeof google != 'undefined' && google.colab.kernel != null) {\n        var comm_promise = google.colab.kernel.comms.open(comm_id)\n        comm_promise.then((comm) => {\n          window.PyViz.comms[comm_id] = comm;\n          if (msg_handler) {\n            var messages = comm.messages[Symbol.asyncIterator]();\n            function processIteratorResult(result) {\n              var message = result.value;\n              var content = {data: message.data};\n              var metadata = message.metadata || {comm_id};\n              var msg = {content, metadata}\n              msg_handler(msg);\n              return messages.next().then(processIteratorResult);\n            }\n            return messages.next().then(processIteratorResult);\n          }\n        })\n        var sendClosure = (data, metadata, buffers, disposeOnDone) => {\n          return comm_promise.then((comm) => {\n            comm.send(data, metadata, buffers, disposeOnDone);\n          });\n        };\n        var comm = {\n          send: sendClosure\n        };\n      }\n      window.PyViz.comms[comm_id] = comm;\n      return comm;\n    }\n    window.PyViz.comm_manager = new JupyterCommManager();\n    \n\n\nvar JS_MIME_TYPE = 'application/javascript';\nvar HTML_MIME_TYPE = 'text/html';\nvar EXEC_MIME_TYPE = 'application/vnd.holoviews_exec.v0+json';\nvar CLASS_NAME = 'output';\n\n/**\n * Render data to the DOM node\n */\nfunction render(props, node) {\n  var div = document.createElement(\"div\");\n  var script = document.createElement(\"script\");\n  node.appendChild(div);\n  node.appendChild(script);\n}\n\n/**\n * Handle when a new output is added\n */\nfunction handle_add_output(event, handle) {\n  var output_area = handle.output_area;\n  var output = handle.output;\n  if ((output.data == undefined) || (!output.data.hasOwnProperty(EXEC_MIME_TYPE))) {\n    return\n  }\n  var id = output.metadata[EXEC_MIME_TYPE][\"id\"];\n  var toinsert = output_area.element.find(\".\" + CLASS_NAME.split(' ')[0]);\n  if (id !== undefined) {\n    var nchildren = toinsert.length;\n    var html_node = toinsert[nchildren-1].children[0];\n    html_node.innerHTML = output.data[HTML_MIME_TYPE];\n    var scripts = [];\n    var nodelist = html_node.querySelectorAll(\"script\");\n    for (var i in nodelist) {\n      if (nodelist.hasOwnProperty(i)) {\n        scripts.push(nodelist[i])\n      }\n    }\n\n    scripts.forEach( function (oldScript) {\n      var newScript = document.createElement(\"script\");\n      var attrs = [];\n      var nodemap = oldScript.attributes;\n      for (var j in nodemap) {\n        if (nodemap.hasOwnProperty(j)) {\n          attrs.push(nodemap[j])\n        }\n      }\n      attrs.forEach(function(attr) { newScript.setAttribute(attr.name, attr.value) });\n      newScript.appendChild(document.createTextNode(oldScript.innerHTML));\n      oldScript.parentNode.replaceChild(newScript, oldScript);\n    });\n    if (JS_MIME_TYPE in output.data) {\n      toinsert[nchildren-1].children[1].textContent = output.data[JS_MIME_TYPE];\n    }\n    output_area._hv_plot_id = id;\n    if ((window.Bokeh !== undefined) && (id in Bokeh.index)) {\n      window.PyViz.plot_index[id] = Bokeh.index[id];\n    } else {\n      window.PyViz.plot_index[id] = null;\n    }\n  } else if (output.metadata[EXEC_MIME_TYPE][\"server_id\"] !== undefined) {\n    var bk_div = document.createElement(\"div\");\n    bk_div.innerHTML = output.data[HTML_MIME_TYPE];\n    var script_attrs = bk_div.children[0].attributes;\n    for (var i = 0; i < script_attrs.length; i++) {\n      toinsert[toinsert.length - 1].childNodes[1].setAttribute(script_attrs[i].name, script_attrs[i].value);\n    }\n    // store reference to server id on output_area\n    output_area._bokeh_server_id = output.metadata[EXEC_MIME_TYPE][\"server_id\"];\n  }\n}\n\n/**\n * Handle when an output is cleared or removed\n */\nfunction handle_clear_output(event, handle) {\n  var id = handle.cell.output_area._hv_plot_id;\n  var server_id = handle.cell.output_area._bokeh_server_id;\n  if (((id === undefined) || !(id in PyViz.plot_index)) && (server_id !== undefined)) { return; }\n  var comm = window.PyViz.comm_manager.get_client_comm(\"hv-extension-comm\", \"hv-extension-comm\", function () {});\n  if (server_id !== null) {\n    comm.send({event_type: 'server_delete', 'id': server_id});\n    return;\n  } else if (comm !== null) {\n    comm.send({event_type: 'delete', 'id': id});\n  }\n  delete PyViz.plot_index[id];\n  if ((window.Bokeh !== undefined) & (id in window.Bokeh.index)) {\n    var doc = window.Bokeh.index[id].model.document\n    doc.clear();\n    const i = window.Bokeh.documents.indexOf(doc);\n    if (i > -1) {\n      window.Bokeh.documents.splice(i, 1);\n    }\n  }\n}\n\n/**\n * Handle kernel restart event\n */\nfunction handle_kernel_cleanup(event, handle) {\n  delete PyViz.comms[\"hv-extension-comm\"];\n  window.PyViz.plot_index = {}\n}\n\n/**\n * Handle update_display_data messages\n */\nfunction handle_update_output(event, handle) {\n  handle_clear_output(event, {cell: {output_area: handle.output_area}})\n  handle_add_output(event, handle)\n}\n\nfunction register_renderer(events, OutputArea) {\n  function append_mime(data, metadata, element) {\n    // create a DOM node to render to\n    var toinsert = this.create_output_subarea(\n    metadata,\n    CLASS_NAME,\n    EXEC_MIME_TYPE\n    );\n    this.keyboard_manager.register_events(toinsert);\n    // Render to node\n    var props = {data: data, metadata: metadata[EXEC_MIME_TYPE]};\n    render(props, toinsert[0]);\n    element.append(toinsert);\n    return toinsert\n  }\n\n  events.on('output_added.OutputArea', handle_add_output);\n  events.on('output_updated.OutputArea', handle_update_output);\n  events.on('clear_output.CodeCell', handle_clear_output);\n  events.on('delete.Cell', handle_clear_output);\n  events.on('kernel_ready.Kernel', handle_kernel_cleanup);\n\n  OutputArea.prototype.register_mime_type(EXEC_MIME_TYPE, append_mime, {\n    safe: true,\n    index: 0\n  });\n}\n\nif (window.Jupyter !== undefined) {\n  try {\n    var events = require('base/js/events');\n    var OutputArea = require('notebook/js/outputarea').OutputArea;\n    if (OutputArea.prototype.mime_types().indexOf(EXEC_MIME_TYPE) == -1) {\n      register_renderer(events, OutputArea);\n    }\n  } catch(err) {\n  }\n}\n"
     },
     "metadata": {},
     "output_type": "display_data"
    },
    {
     "data": {
      "text/html": [
       "<div id='b1b7ff8d-e173-4677-9f3b-c07dc9efdc3c'>\n",
       "  <div id=\"c1c58bc6-57be-4717-aa7c-54b70becb701\" data-root-id=\"b1b7ff8d-e173-4677-9f3b-c07dc9efdc3c\" style=\"display: contents;\"></div>\n",
       "</div>\n",
       "<script type=\"application/javascript\">(function(root) {\n",
       "  var docs_json = {\"a7fafe80-16e7-48c4-9d01-627dfefaebc7\":{\"version\":\"3.6.3\",\"title\":\"Bokeh Application\",\"roots\":[{\"type\":\"object\",\"name\":\"panel.models.browser.BrowserInfo\",\"id\":\"b1b7ff8d-e173-4677-9f3b-c07dc9efdc3c\"},{\"type\":\"object\",\"name\":\"panel.models.comm_manager.CommManager\",\"id\":\"29264689-e2da-461b-b354-1915b452a50a\",\"attributes\":{\"plot_id\":\"b1b7ff8d-e173-4677-9f3b-c07dc9efdc3c\",\"comm_id\":\"5b0c6b310d584a0fb756aea003a389c4\",\"client_comm_id\":\"b5b0bbc99f394c50bf2211d14e05cce9\"}}],\"defs\":[{\"type\":\"model\",\"name\":\"ReactiveHTML1\"},{\"type\":\"model\",\"name\":\"FlexBox1\",\"properties\":[{\"name\":\"align_content\",\"kind\":\"Any\",\"default\":\"flex-start\"},{\"name\":\"align_items\",\"kind\":\"Any\",\"default\":\"flex-start\"},{\"name\":\"flex_direction\",\"kind\":\"Any\",\"default\":\"row\"},{\"name\":\"flex_wrap\",\"kind\":\"Any\",\"default\":\"wrap\"},{\"name\":\"gap\",\"kind\":\"Any\",\"default\":\"\"},{\"name\":\"justify_content\",\"kind\":\"Any\",\"default\":\"flex-start\"}]},{\"type\":\"model\",\"name\":\"FloatPanel1\",\"properties\":[{\"name\":\"config\",\"kind\":\"Any\",\"default\":{\"type\":\"map\"}},{\"name\":\"contained\",\"kind\":\"Any\",\"default\":true},{\"name\":\"position\",\"kind\":\"Any\",\"default\":\"right-top\"},{\"name\":\"offsetx\",\"kind\":\"Any\",\"default\":null},{\"name\":\"offsety\",\"kind\":\"Any\",\"default\":null},{\"name\":\"theme\",\"kind\":\"Any\",\"default\":\"primary\"},{\"name\":\"status\",\"kind\":\"Any\",\"default\":\"normalized\"}]},{\"type\":\"model\",\"name\":\"GridStack1\",\"properties\":[{\"name\":\"mode\",\"kind\":\"Any\",\"default\":\"warn\"},{\"name\":\"ncols\",\"kind\":\"Any\",\"default\":null},{\"name\":\"nrows\",\"kind\":\"Any\",\"default\":null},{\"name\":\"allow_resize\",\"kind\":\"Any\",\"default\":true},{\"name\":\"allow_drag\",\"kind\":\"Any\",\"default\":true},{\"name\":\"state\",\"kind\":\"Any\",\"default\":[]}]},{\"type\":\"model\",\"name\":\"drag1\",\"properties\":[{\"name\":\"slider_width\",\"kind\":\"Any\",\"default\":5},{\"name\":\"slider_color\",\"kind\":\"Any\",\"default\":\"black\"},{\"name\":\"value\",\"kind\":\"Any\",\"default\":50}]},{\"type\":\"model\",\"name\":\"click1\",\"properties\":[{\"name\":\"terminal_output\",\"kind\":\"Any\",\"default\":\"\"},{\"name\":\"debug_name\",\"kind\":\"Any\",\"default\":\"\"},{\"name\":\"clears\",\"kind\":\"Any\",\"default\":0}]},{\"type\":\"model\",\"name\":\"FastWrapper1\",\"properties\":[{\"name\":\"object\",\"kind\":\"Any\",\"default\":null},{\"name\":\"style\",\"kind\":\"Any\",\"default\":null}]},{\"type\":\"model\",\"name\":\"NotificationAreaBase1\",\"properties\":[{\"name\":\"js_events\",\"kind\":\"Any\",\"default\":{\"type\":\"map\"}},{\"name\":\"position\",\"kind\":\"Any\",\"default\":\"bottom-right\"},{\"name\":\"_clear\",\"kind\":\"Any\",\"default\":0}]},{\"type\":\"model\",\"name\":\"NotificationArea1\",\"properties\":[{\"name\":\"js_events\",\"kind\":\"Any\",\"default\":{\"type\":\"map\"}},{\"name\":\"notifications\",\"kind\":\"Any\",\"default\":[]},{\"name\":\"position\",\"kind\":\"Any\",\"default\":\"bottom-right\"},{\"name\":\"_clear\",\"kind\":\"Any\",\"default\":0},{\"name\":\"types\",\"kind\":\"Any\",\"default\":[{\"type\":\"map\",\"entries\":[[\"type\",\"warning\"],[\"background\",\"#ffc107\"],[\"icon\",{\"type\":\"map\",\"entries\":[[\"className\",\"fas fa-exclamation-triangle\"],[\"tagName\",\"i\"],[\"color\",\"white\"]]}]]},{\"type\":\"map\",\"entries\":[[\"type\",\"info\"],[\"background\",\"#007bff\"],[\"icon\",{\"type\":\"map\",\"entries\":[[\"className\",\"fas fa-info-circle\"],[\"tagName\",\"i\"],[\"color\",\"white\"]]}]]}]}]},{\"type\":\"model\",\"name\":\"Notification\",\"properties\":[{\"name\":\"background\",\"kind\":\"Any\",\"default\":null},{\"name\":\"duration\",\"kind\":\"Any\",\"default\":3000},{\"name\":\"icon\",\"kind\":\"Any\",\"default\":null},{\"name\":\"message\",\"kind\":\"Any\",\"default\":\"\"},{\"name\":\"notification_type\",\"kind\":\"Any\",\"default\":null},{\"name\":\"_rendered\",\"kind\":\"Any\",\"default\":false},{\"name\":\"_destroyed\",\"kind\":\"Any\",\"default\":false}]},{\"type\":\"model\",\"name\":\"TemplateActions1\",\"properties\":[{\"name\":\"open_modal\",\"kind\":\"Any\",\"default\":0},{\"name\":\"close_modal\",\"kind\":\"Any\",\"default\":0}]},{\"type\":\"model\",\"name\":\"BootstrapTemplateActions1\",\"properties\":[{\"name\":\"open_modal\",\"kind\":\"Any\",\"default\":0},{\"name\":\"close_modal\",\"kind\":\"Any\",\"default\":0}]},{\"type\":\"model\",\"name\":\"TemplateEditor1\",\"properties\":[{\"name\":\"layout\",\"kind\":\"Any\",\"default\":[]}]},{\"type\":\"model\",\"name\":\"MaterialTemplateActions1\",\"properties\":[{\"name\":\"open_modal\",\"kind\":\"Any\",\"default\":0},{\"name\":\"close_modal\",\"kind\":\"Any\",\"default\":0}]},{\"type\":\"model\",\"name\":\"ReactiveESM1\",\"properties\":[{\"name\":\"esm_constants\",\"kind\":\"Any\",\"default\":{\"type\":\"map\"}}]},{\"type\":\"model\",\"name\":\"JSComponent1\",\"properties\":[{\"name\":\"esm_constants\",\"kind\":\"Any\",\"default\":{\"type\":\"map\"}}]},{\"type\":\"model\",\"name\":\"ReactComponent1\",\"properties\":[{\"name\":\"esm_constants\",\"kind\":\"Any\",\"default\":{\"type\":\"map\"}}]},{\"type\":\"model\",\"name\":\"AnyWidgetComponent1\",\"properties\":[{\"name\":\"esm_constants\",\"kind\":\"Any\",\"default\":{\"type\":\"map\"}}]},{\"type\":\"model\",\"name\":\"request_value1\",\"properties\":[{\"name\":\"fill\",\"kind\":\"Any\",\"default\":\"none\"},{\"name\":\"_synced\",\"kind\":\"Any\",\"default\":null},{\"name\":\"_request_sync\",\"kind\":\"Any\",\"default\":0}]}]}};\n",
       "  var render_items = [{\"docid\":\"a7fafe80-16e7-48c4-9d01-627dfefaebc7\",\"roots\":{\"b1b7ff8d-e173-4677-9f3b-c07dc9efdc3c\":\"c1c58bc6-57be-4717-aa7c-54b70becb701\"},\"root_ids\":[\"b1b7ff8d-e173-4677-9f3b-c07dc9efdc3c\"]}];\n",
       "  var docs = Object.values(docs_json)\n",
       "  if (!docs) {\n",
       "    return\n",
       "  }\n",
       "  const py_version = docs[0].version.replace('rc', '-rc.').replace('.dev', '-dev.')\n",
       "  async function embed_document(root) {\n",
       "    var Bokeh = get_bokeh(root)\n",
       "    await Bokeh.embed.embed_items_notebook(docs_json, render_items);\n",
       "    for (const render_item of render_items) {\n",
       "      for (const root_id of render_item.root_ids) {\n",
       "\tconst id_el = document.getElementById(root_id)\n",
       "\tif (id_el.children.length && id_el.children[0].hasAttribute('data-root-id')) {\n",
       "\t  const root_el = id_el.children[0]\n",
       "\t  root_el.id = root_el.id + '-rendered'\n",
       "\t  for (const child of root_el.children) {\n",
       "            // Ensure JupyterLab does not capture keyboard shortcuts\n",
       "            // see: https://jupyterlab.readthedocs.io/en/4.1.x/extension/notebook.html#keyboard-interaction-model\n",
       "\t    child.setAttribute('data-lm-suppress-shortcuts', 'true')\n",
       "\t  }\n",
       "\t}\n",
       "      }\n",
       "    }\n",
       "  }\n",
       "  function get_bokeh(root) {\n",
       "    if (root.Bokeh === undefined) {\n",
       "      return null\n",
       "    } else if (root.Bokeh.version !== py_version) {\n",
       "      if (root.Bokeh.versions === undefined || !root.Bokeh.versions.has(py_version)) {\n",
       "\treturn null\n",
       "      }\n",
       "      return root.Bokeh.versions.get(py_version);\n",
       "    } else if (root.Bokeh.version === py_version) {\n",
       "      return root.Bokeh\n",
       "    }\n",
       "    return null\n",
       "  }\n",
       "  function is_loaded(root) {\n",
       "    var Bokeh = get_bokeh(root)\n",
       "    return (Bokeh != null && Bokeh.Panel !== undefined)\n",
       "  }\n",
       "  if (is_loaded(root)) {\n",
       "    embed_document(root);\n",
       "  } else {\n",
       "    var attempts = 0;\n",
       "    var timer = setInterval(function(root) {\n",
       "      if (is_loaded(root)) {\n",
       "        clearInterval(timer);\n",
       "        embed_document(root);\n",
       "      } else if (document.readyState == \"complete\") {\n",
       "        attempts++;\n",
       "        if (attempts > 200) {\n",
       "          clearInterval(timer);\n",
       "\t  var Bokeh = get_bokeh(root)\n",
       "\t  if (Bokeh == null || Bokeh.Panel == null) {\n",
       "            console.warn(\"Panel: ERROR: Unable to run Panel code because Bokeh or Panel library is missing\");\n",
       "\t  } else {\n",
       "\t    console.warn(\"Panel: WARNING: Attempting to render but not all required libraries could be resolved.\")\n",
       "\t    embed_document(root)\n",
       "\t  }\n",
       "        }\n",
       "      }\n",
       "    }, 25, root)\n",
       "  }\n",
       "})(window);</script>"
      ],
      "application/vnd.holoviews_exec.v0+json": ""
     },
     "metadata": {
      "application/vnd.holoviews_exec.v0+json": {
       "id": "b1b7ff8d-e173-4677-9f3b-c07dc9efdc3c"
      }
     },
     "output_type": "display_data"
    }
   ],
   "execution_count": 1
  },
  {
   "metadata": {
    "ExecuteTime": {
     "end_time": "2025-06-15T15:08:46.895478Z",
     "start_time": "2025-06-15T15:08:46.870646Z"
    }
   },
   "cell_type": "code",
   "source": [
    "print(torch.__version__)\n",
    "print(f\"CUDA available: {torch.cuda.is_available()}\")"
   ],
   "id": "b1e34074aae68627",
   "outputs": [
    {
     "name": "stdout",
     "output_type": "stream",
     "text": [
      "2.6.0+cu126\n",
      "CUDA available: True\n"
     ]
    }
   ],
   "execution_count": 2
  },
  {
   "metadata": {},
   "cell_type": "markdown",
   "source": "# 20. Introduction to PyTorch Tensors",
   "id": "c6fd897fb8caf563"
  },
  {
   "metadata": {
    "ExecuteTime": {
     "end_time": "2025-06-15T15:08:47.328021Z",
     "start_time": "2025-06-15T15:08:47.133641Z"
    }
   },
   "cell_type": "code",
   "source": "!nvidia-smi",
   "id": "6309e9b1276eab67",
   "outputs": [
    {
     "name": "stdout",
     "output_type": "stream",
     "text": [
      "Sun Jun 15 18:08:47 2025       \n",
      "+-----------------------------------------------------------------------------------------+\n",
      "| NVIDIA-SMI 576.28                 Driver Version: 576.28         CUDA Version: 12.9     |\n",
      "|-----------------------------------------+------------------------+----------------------+\n",
      "| GPU  Name                  Driver-Model | Bus-Id          Disp.A | Volatile Uncorr. ECC |\n",
      "| Fan  Temp   Perf          Pwr:Usage/Cap |           Memory-Usage | GPU-Util  Compute M. |\n",
      "|                                         |                        |               MIG M. |\n",
      "|=========================================+========================+======================|\n",
      "|   0  NVIDIA GeForce RTX 3060      WDDM  |   00000000:2B:00.0  On |                  N/A |\n",
      "| 31%   39C    P3             28W /  170W |    4016MiB /  12288MiB |     14%      Default |\n",
      "|                                         |                        |                  N/A |\n",
      "+-----------------------------------------+------------------------+----------------------+\n",
      "                                                                                         \n",
      "+-----------------------------------------------------------------------------------------+\n",
      "| Processes:                                                                              |\n",
      "|  GPU   GI   CI              PID   Type   Process name                        GPU Memory |\n",
      "|        ID   ID                                                               Usage      |\n",
      "|=========================================================================================|\n",
      "|    0   N/A  N/A            1552    C+G   ...ef.win7x64\\steamwebhelper.exe      N/A      |\n",
      "|    0   N/A  N/A            2728    C+G   C:\\Windows\\explorer.exe               N/A      |\n",
      "|    0   N/A  N/A            3820    C+G   ...indows\\System32\\ShellHost.exe      N/A      |\n",
      "|    0   N/A  N/A            4964    C+G   ...2txyewy\\CrossDeviceResume.exe      N/A      |\n",
      "|    0   N/A  N/A            9336    C+G   ...rograms\\nordpass\\NordPass.exe      N/A      |\n",
      "|    0   N/A  N/A           11800    C+G   ...ams\\signal-desktop\\Signal.exe      N/A      |\n",
      "|    0   N/A  N/A           15576    C+G   ...Chrome\\Application\\chrome.exe      N/A      |\n",
      "|    0   N/A  N/A           15684    C+G   ...grams\\LM Studio\\LM Studio.exe      N/A      |\n",
      "|    0   N/A  N/A           16540    C+G   ...em32\\ApplicationFrameHost.exe      N/A      |\n",
      "|    0   N/A  N/A           16832    C+G   ..._cw5n1h2txyewy\\SearchHost.exe      N/A      |\n",
      "|    0   N/A  N/A           16864    C+G   ...y\\StartMenuExperienceHost.exe      N/A      |\n",
      "|    0   N/A  N/A           16888    C+G   ...yb3d8bbwe\\Microsoft.Notes.exe      N/A      |\n",
      "|    0   N/A  N/A           17668    C+G   ...IA App\\CEF\\NVIDIA Overlay.exe      N/A      |\n",
      "|    0   N/A  N/A           18488    C+G   ...5n1h2txyewy\\TextInputHost.exe      N/A      |\n",
      "|    0   N/A  N/A           19060    C+G   ...IA App\\CEF\\NVIDIA Overlay.exe      N/A      |\n",
      "|    0   N/A  N/A           19320    C+G   ...xyewy\\ShellExperienceHost.exe      N/A      |\n",
      "|    0   N/A  N/A           20772    C+G   ....0.3296.68\\msedgewebview2.exe      N/A      |\n",
      "|    0   N/A  N/A           22524    C+G   ...s\\PowerToys.PowerLauncher.exe      N/A      |\n",
      "|    0   N/A  N/A           23068    C+G   ...m\\109.0.3.0\\GoogleDriveFS.exe      N/A      |\n",
      "|    0   N/A  N/A           23516    C+G   ...s\\PowerToys.AdvancedPaste.exe      N/A      |\n",
      "|    0   N/A  N/A           23992    C+G   ...UI3Apps\\PowerToys.Peek.UI.exe      N/A      |\n",
      "|    0   N/A  N/A           25216    C+G   ...8bbwe\\PhoneExperienceHost.exe      N/A      |\n",
      "|    0   N/A  N/A           25672    C+G   ...Chrome\\Application\\chrome.exe      N/A      |\n",
      "|    0   N/A  N/A           26312    C+G   ...s\\PowerToys.ColorPickerUI.exe      N/A      |\n",
      "|    0   N/A  N/A           26476    C+G   ...Toys\\PowerToys.FancyZones.exe      N/A      |\n",
      "|    0   N/A  N/A           32504    C+G   ...crosoft OneDrive\\OneDrive.exe      N/A      |\n",
      "|    0   N/A  N/A           33692    C+G   ...ntrolPanel\\SystemSettings.exe      N/A      |\n",
      "|    0   N/A  N/A           34640    C+G   ...pp-4.0.531\\RazerAppEngine.exe      N/A      |\n",
      "|    0   N/A  N/A           34864    C+G   ...Claude\\app-0.10.14\\claude.exe      N/A      |\n",
      "|    0   N/A  N/A           35828      C   ...grams\\LM Studio\\LM Studio.exe      N/A      |\n",
      "|    0   N/A  N/A           36632    C+G   ...zer Axon\\RazerAxon.Player.exe      N/A      |\n",
      "|    0   N/A  N/A           37364    C+G   ...aSpell\\jbr\\bin\\cef_server.exe      N/A      |\n",
      "|    0   N/A  N/A           40832    C+G   ....0.3296.68\\msedgewebview2.exe      N/A      |\n",
      "|    0   N/A  N/A           40988    C+G   ...2QBCNWAHQRFUFL3WW7Q\\DeepL.exe      N/A      |\n",
      "|    0   N/A  N/A           44592    C+G   ...s\\Mozilla Firefox\\firefox.exe      N/A      |\n",
      "|    0   N/A  N/A           44736    C+G   ...s\\Mozilla Firefox\\firefox.exe      N/A      |\n",
      "|    0   N/A  N/A           50736    C+G   ...al\\Programs\\Notion\\Notion.exe      N/A      |\n",
      "|    0   N/A  N/A           51852    C+G   ...kyb3d8bbwe\\EdgeGameAssist.exe      N/A      |\n",
      "+-----------------------------------------------------------------------------------------+\n"
     ]
    }
   ],
   "execution_count": 3
  },
  {
   "metadata": {
    "ExecuteTime": {
     "end_time": "2025-06-15T15:08:47.401323Z",
     "start_time": "2025-06-15T15:08:47.355788Z"
    }
   },
   "cell_type": "code",
   "source": [
    "scaler = torch.tensor(7)\n",
    "scaler"
   ],
   "id": "bd7503d84f8d773",
   "outputs": [
    {
     "data": {
      "text/plain": [
       "tensor(7)"
      ]
     },
     "execution_count": 4,
     "metadata": {},
     "output_type": "execute_result"
    }
   ],
   "execution_count": 4
  },
  {
   "metadata": {
    "ExecuteTime": {
     "end_time": "2025-06-15T15:08:47.621656Z",
     "start_time": "2025-06-15T15:08:47.616657Z"
    }
   },
   "cell_type": "code",
   "source": "scaler.ndim",
   "id": "c3a1ab97673096ff",
   "outputs": [
    {
     "data": {
      "text/plain": [
       "0"
      ]
     },
     "execution_count": 5,
     "metadata": {},
     "output_type": "execute_result"
    }
   ],
   "execution_count": 5
  },
  {
   "metadata": {
    "ExecuteTime": {
     "end_time": "2025-06-15T15:08:47.712414Z",
     "start_time": "2025-06-15T15:08:47.708452Z"
    }
   },
   "cell_type": "code",
   "source": "scaler.item()",
   "id": "33254e4efb56c7f3",
   "outputs": [
    {
     "data": {
      "text/plain": [
       "7"
      ]
     },
     "execution_count": 6,
     "metadata": {},
     "output_type": "execute_result"
    }
   ],
   "execution_count": 6
  },
  {
   "metadata": {
    "ExecuteTime": {
     "end_time": "2025-06-15T15:08:47.756350Z",
     "start_time": "2025-06-15T15:08:47.753039Z"
    }
   },
   "cell_type": "code",
   "source": [
    "# Vector\n",
    "vector = torch.tensor([1, 2, 3, 4, 5])"
   ],
   "id": "b24e335d8c762349",
   "outputs": [],
   "execution_count": 7
  },
  {
   "metadata": {
    "ExecuteTime": {
     "end_time": "2025-06-15T15:08:47.787832Z",
     "start_time": "2025-06-15T15:08:47.784001Z"
    }
   },
   "cell_type": "code",
   "source": "vector.ndim",
   "id": "2e717defaf80b3bc",
   "outputs": [
    {
     "data": {
      "text/plain": [
       "1"
      ]
     },
     "execution_count": 8,
     "metadata": {},
     "output_type": "execute_result"
    }
   ],
   "execution_count": 8
  },
  {
   "metadata": {
    "ExecuteTime": {
     "end_time": "2025-06-15T15:08:47.842675Z",
     "start_time": "2025-06-15T15:08:47.838447Z"
    }
   },
   "cell_type": "code",
   "source": "vector.shape",
   "id": "e2fac3fd9145be13",
   "outputs": [
    {
     "data": {
      "text/plain": [
       "torch.Size([5])"
      ]
     },
     "execution_count": 9,
     "metadata": {},
     "output_type": "execute_result"
    }
   ],
   "execution_count": 9
  },
  {
   "metadata": {
    "ExecuteTime": {
     "end_time": "2025-06-15T15:08:47.896915Z",
     "start_time": "2025-06-15T15:08:47.894024Z"
    }
   },
   "cell_type": "code",
   "source": [
    "# Matrix\n",
    "matrix = torch.tensor([[1, 2], [3, 4], [5, 6]])"
   ],
   "id": "cf2f0694f96d1ab0",
   "outputs": [],
   "execution_count": 10
  },
  {
   "metadata": {
    "ExecuteTime": {
     "end_time": "2025-06-15T15:08:47.927335Z",
     "start_time": "2025-06-15T15:08:47.923846Z"
    }
   },
   "cell_type": "code",
   "source": "matrix.ndim",
   "id": "2d41cacf66e85304",
   "outputs": [
    {
     "data": {
      "text/plain": [
       "2"
      ]
     },
     "execution_count": 11,
     "metadata": {},
     "output_type": "execute_result"
    }
   ],
   "execution_count": 11
  },
  {
   "metadata": {
    "ExecuteTime": {
     "end_time": "2025-06-15T15:08:47.972834Z",
     "start_time": "2025-06-15T15:08:47.969220Z"
    }
   },
   "cell_type": "code",
   "source": "matrix.shape",
   "id": "95a7b6988cf3eb5a",
   "outputs": [
    {
     "data": {
      "text/plain": [
       "torch.Size([3, 2])"
      ]
     },
     "execution_count": 12,
     "metadata": {},
     "output_type": "execute_result"
    }
   ],
   "execution_count": 12
  },
  {
   "metadata": {
    "ExecuteTime": {
     "end_time": "2025-06-15T15:08:48.029738Z",
     "start_time": "2025-06-15T15:08:48.025340Z"
    }
   },
   "cell_type": "code",
   "source": "matrix[0]",
   "id": "75e2243d4bd84220",
   "outputs": [
    {
     "data": {
      "text/plain": [
       "tensor([1, 2])"
      ]
     },
     "execution_count": 13,
     "metadata": {},
     "output_type": "execute_result"
    }
   ],
   "execution_count": 13
  },
  {
   "metadata": {
    "ExecuteTime": {
     "end_time": "2025-06-15T15:08:48.079324Z",
     "start_time": "2025-06-15T15:08:48.076321Z"
    }
   },
   "cell_type": "code",
   "source": "TENSOR = torch.tensor([[1, 2, 3], [4, 5, 6], [7, 8, 9]])",
   "id": "1277c98d74596afb",
   "outputs": [],
   "execution_count": 14
  },
  {
   "metadata": {
    "ExecuteTime": {
     "end_time": "2025-06-15T15:08:48.111362Z",
     "start_time": "2025-06-15T15:08:48.105989Z"
    }
   },
   "cell_type": "code",
   "source": "TENSOR",
   "id": "a80cfb9d2f78825",
   "outputs": [
    {
     "data": {
      "text/plain": [
       "tensor([[1, 2, 3],\n",
       "        [4, 5, 6],\n",
       "        [7, 8, 9]])"
      ]
     },
     "execution_count": 15,
     "metadata": {},
     "output_type": "execute_result"
    }
   ],
   "execution_count": 15
  },
  {
   "metadata": {
    "ExecuteTime": {
     "end_time": "2025-06-15T15:08:48.199865Z",
     "start_time": "2025-06-15T15:08:48.195715Z"
    }
   },
   "cell_type": "code",
   "source": "TENSOR.ndim",
   "id": "34381fa5ec54e18d",
   "outputs": [
    {
     "data": {
      "text/plain": [
       "2"
      ]
     },
     "execution_count": 16,
     "metadata": {},
     "output_type": "execute_result"
    }
   ],
   "execution_count": 16
  },
  {
   "metadata": {
    "ExecuteTime": {
     "end_time": "2025-06-15T15:08:48.599467Z",
     "start_time": "2025-06-15T15:08:48.595497Z"
    }
   },
   "cell_type": "code",
   "source": "TENSOR.shape",
   "id": "a0e138b817fd6263",
   "outputs": [
    {
     "data": {
      "text/plain": [
       "torch.Size([3, 3])"
      ]
     },
     "execution_count": 17,
     "metadata": {},
     "output_type": "execute_result"
    }
   ],
   "execution_count": 17
  },
  {
   "metadata": {
    "ExecuteTime": {
     "end_time": "2025-06-15T15:08:48.757619Z",
     "start_time": "2025-06-15T15:08:48.753349Z"
    }
   },
   "cell_type": "code",
   "source": "TENSOR[0]",
   "id": "c68cbea7b780f281",
   "outputs": [
    {
     "data": {
      "text/plain": [
       "tensor([1, 2, 3])"
      ]
     },
     "execution_count": 18,
     "metadata": {},
     "output_type": "execute_result"
    }
   ],
   "execution_count": 18
  },
  {
   "metadata": {},
   "cell_type": "markdown",
   "source": "# 21. Creating Random Tensors in PyTorch",
   "id": "d31a96f5efaa2af7"
  },
  {
   "metadata": {
    "ExecuteTime": {
     "end_time": "2025-06-15T15:08:48.908110Z",
     "start_time": "2025-06-15T15:08:48.844681Z"
    }
   },
   "cell_type": "code",
   "source": [
    "random_tensor = torch.rand(1, 3, 4)\n",
    "random_tensor"
   ],
   "id": "43e47f0ef92d8608",
   "outputs": [
    {
     "data": {
      "text/plain": [
       "tensor([[[0.0434, 0.6193, 0.7912, 0.5646],\n",
       "         [0.3057, 0.0058, 0.5001, 0.6288],\n",
       "         [0.8814, 0.0974, 0.2911, 0.6064]]])"
      ]
     },
     "execution_count": 19,
     "metadata": {},
     "output_type": "execute_result"
    }
   ],
   "execution_count": 19
  },
  {
   "metadata": {
    "ExecuteTime": {
     "end_time": "2025-06-15T15:08:48.938428Z",
     "start_time": "2025-06-15T15:08:48.934601Z"
    }
   },
   "cell_type": "code",
   "source": "random_tensor.ndim",
   "id": "96113cdc206dc588",
   "outputs": [
    {
     "data": {
      "text/plain": [
       "3"
      ]
     },
     "execution_count": 20,
     "metadata": {},
     "output_type": "execute_result"
    }
   ],
   "execution_count": 20
  },
  {
   "metadata": {
    "ExecuteTime": {
     "end_time": "2025-06-15T15:08:49.021335Z",
     "start_time": "2025-06-15T15:08:49.016826Z"
    }
   },
   "cell_type": "code",
   "source": "random_tensor.shape",
   "id": "a8b1360cf72eb36b",
   "outputs": [
    {
     "data": {
      "text/plain": [
       "torch.Size([1, 3, 4])"
      ]
     },
     "execution_count": 21,
     "metadata": {},
     "output_type": "execute_result"
    }
   ],
   "execution_count": 21
  },
  {
   "metadata": {
    "ExecuteTime": {
     "end_time": "2025-06-15T15:08:49.085307Z",
     "start_time": "2025-06-15T15:08:49.074906Z"
    }
   },
   "cell_type": "code",
   "source": [
    "random_image_size_tensor = torch.rand(size=[224, 224, 3])\n",
    "random_image_size_tensor"
   ],
   "id": "84100faf15b09a4c",
   "outputs": [
    {
     "data": {
      "text/plain": [
       "tensor([[[0.4567, 0.3521, 0.7320],\n",
       "         [0.9590, 0.3137, 0.0556],\n",
       "         [0.0160, 0.2962, 0.8948],\n",
       "         ...,\n",
       "         [0.3140, 0.9291, 0.3131],\n",
       "         [0.2114, 0.9666, 0.7266],\n",
       "         [0.2647, 0.9337, 0.4586]],\n",
       "\n",
       "        [[0.6824, 0.4239, 0.1193],\n",
       "         [0.4668, 0.0043, 0.1346],\n",
       "         [0.9815, 0.1558, 0.7159],\n",
       "         ...,\n",
       "         [0.0997, 0.8038, 0.6781],\n",
       "         [0.4679, 0.0688, 0.5912],\n",
       "         [0.8096, 0.9343, 0.0406]],\n",
       "\n",
       "        [[0.8684, 0.2095, 0.7308],\n",
       "         [0.1885, 0.6690, 0.3113],\n",
       "         [0.1845, 0.1987, 0.5165],\n",
       "         ...,\n",
       "         [0.9585, 0.8347, 0.9442],\n",
       "         [0.3080, 0.6049, 0.8688],\n",
       "         [0.0541, 0.9018, 0.3828]],\n",
       "\n",
       "        ...,\n",
       "\n",
       "        [[0.7467, 0.0114, 0.8860],\n",
       "         [0.5147, 0.8736, 0.2423],\n",
       "         [0.0884, 0.2206, 0.7522],\n",
       "         ...,\n",
       "         [0.1787, 0.3175, 0.9536],\n",
       "         [0.4142, 0.4385, 0.4721],\n",
       "         [0.0771, 0.7163, 0.0797]],\n",
       "\n",
       "        [[0.8864, 0.3333, 0.9290],\n",
       "         [0.2662, 0.5218, 0.2848],\n",
       "         [0.0239, 0.4299, 0.2846],\n",
       "         ...,\n",
       "         [0.0024, 0.6610, 0.2061],\n",
       "         [0.1687, 0.2367, 0.1916],\n",
       "         [0.3727, 0.8781, 0.9531]],\n",
       "\n",
       "        [[0.2098, 0.7355, 0.9640],\n",
       "         [0.3540, 0.9077, 0.0306],\n",
       "         [0.2280, 0.8740, 0.2722],\n",
       "         ...,\n",
       "         [0.6742, 0.6182, 0.2326],\n",
       "         [0.2500, 0.8350, 0.2702],\n",
       "         [0.6306, 0.3995, 0.9439]]])"
      ]
     },
     "execution_count": 22,
     "metadata": {},
     "output_type": "execute_result"
    }
   ],
   "execution_count": 22
  },
  {
   "metadata": {
    "ExecuteTime": {
     "end_time": "2025-06-15T15:08:49.144462Z",
     "start_time": "2025-06-15T15:08:49.140748Z"
    }
   },
   "cell_type": "code",
   "source": "random_image_size_tensor.shape, random_image_size_tensor.ndim",
   "id": "d5047441cd33c1e1",
   "outputs": [
    {
     "data": {
      "text/plain": [
       "(torch.Size([224, 224, 3]), 3)"
      ]
     },
     "execution_count": 23,
     "metadata": {},
     "output_type": "execute_result"
    }
   ],
   "execution_count": 23
  },
  {
   "metadata": {},
   "cell_type": "markdown",
   "source": "# 22. Creating Tensors With Zeros and Ones in PyTorch",
   "id": "9fc071b325bbd610"
  },
  {
   "metadata": {
    "ExecuteTime": {
     "end_time": "2025-06-15T15:08:49.199798Z",
     "start_time": "2025-06-15T15:08:49.194800Z"
    }
   },
   "cell_type": "code",
   "source": "torch.rand(3, 3)",
   "id": "42de56a0ec27e2e9",
   "outputs": [
    {
     "data": {
      "text/plain": [
       "tensor([[0.2888, 0.7766, 0.6062],\n",
       "        [0.0600, 0.1011, 0.2956],\n",
       "        [0.3800, 0.7027, 0.0608]])"
      ]
     },
     "execution_count": 24,
     "metadata": {},
     "output_type": "execute_result"
    }
   ],
   "execution_count": 24
  },
  {
   "metadata": {
    "ExecuteTime": {
     "end_time": "2025-06-15T15:08:49.289732Z",
     "start_time": "2025-06-15T15:08:49.285730Z"
    }
   },
   "cell_type": "code",
   "source": "zeros = torch.zeros(3, 3)",
   "id": "508f1df61de1513d",
   "outputs": [],
   "execution_count": 25
  },
  {
   "metadata": {
    "ExecuteTime": {
     "end_time": "2025-06-15T15:08:49.429695Z",
     "start_time": "2025-06-15T15:08:49.425478Z"
    }
   },
   "cell_type": "code",
   "source": "np.zeros((3, 3))",
   "id": "a409dbf0038ee952",
   "outputs": [
    {
     "data": {
      "text/plain": [
       "array([[0., 0., 0.],\n",
       "       [0., 0., 0.],\n",
       "       [0., 0., 0.]])"
      ]
     },
     "execution_count": 26,
     "metadata": {},
     "output_type": "execute_result"
    }
   ],
   "execution_count": 26
  },
  {
   "metadata": {
    "ExecuteTime": {
     "end_time": "2025-06-15T15:08:49.560906Z",
     "start_time": "2025-06-15T15:08:49.555394Z"
    }
   },
   "cell_type": "code",
   "source": [
    "ones = torch.ones(3, 3)\n",
    "ones"
   ],
   "id": "dc84735c13d290d9",
   "outputs": [
    {
     "data": {
      "text/plain": [
       "tensor([[1., 1., 1.],\n",
       "        [1., 1., 1.],\n",
       "        [1., 1., 1.]])"
      ]
     },
     "execution_count": 27,
     "metadata": {},
     "output_type": "execute_result"
    }
   ],
   "execution_count": 27
  },
  {
   "metadata": {
    "ExecuteTime": {
     "end_time": "2025-06-15T15:08:49.749990Z",
     "start_time": "2025-06-15T15:08:49.745989Z"
    }
   },
   "cell_type": "code",
   "source": "ones.dtype",
   "id": "c88f04e3b1660209",
   "outputs": [
    {
     "data": {
      "text/plain": [
       "torch.float32"
      ]
     },
     "execution_count": 28,
     "metadata": {},
     "output_type": "execute_result"
    }
   ],
   "execution_count": 28
  },
  {
   "metadata": {},
   "cell_type": "markdown",
   "source": "# 23. Creating a Tensor Range and Tensors Like Other Tensors",
   "id": "de6802b2c602d75d"
  },
  {
   "metadata": {
    "ExecuteTime": {
     "end_time": "2025-06-15T15:08:49.922630Z",
     "start_time": "2025-06-15T15:08:49.915398Z"
    }
   },
   "cell_type": "code",
   "source": "one_to_ten = torch.arange(0, 11, 1)",
   "id": "14815a9c08ced079",
   "outputs": [],
   "execution_count": 29
  },
  {
   "metadata": {
    "ExecuteTime": {
     "end_time": "2025-06-15T15:08:49.959406Z",
     "start_time": "2025-06-15T15:08:49.954403Z"
    }
   },
   "cell_type": "code",
   "source": "torch.arange(start=0, end=100, step=3)",
   "id": "a7eee0bdb088649b",
   "outputs": [
    {
     "data": {
      "text/plain": [
       "tensor([ 0,  3,  6,  9, 12, 15, 18, 21, 24, 27, 30, 33, 36, 39, 42, 45, 48, 51,\n",
       "        54, 57, 60, 63, 66, 69, 72, 75, 78, 81, 84, 87, 90, 93, 96, 99])"
      ]
     },
     "execution_count": 30,
     "metadata": {},
     "output_type": "execute_result"
    }
   ],
   "execution_count": 30
  },
  {
   "metadata": {
    "ExecuteTime": {
     "end_time": "2025-06-15T15:08:50.058151Z",
     "start_time": "2025-06-15T15:08:50.052942Z"
    }
   },
   "cell_type": "code",
   "source": [
    "ten_zeros = torch.zeros_like(one_to_ten)\n",
    "ten_zeros"
   ],
   "id": "b00ae902716f7c1f",
   "outputs": [
    {
     "data": {
      "text/plain": [
       "tensor([0, 0, 0, 0, 0, 0, 0, 0, 0, 0, 0])"
      ]
     },
     "execution_count": 31,
     "metadata": {},
     "output_type": "execute_result"
    }
   ],
   "execution_count": 31
  },
  {
   "metadata": {},
   "cell_type": "markdown",
   "source": "# 24. Dealing With Tensor Data Types",
   "id": "8105e19cf476d92f"
  },
  {
   "metadata": {
    "ExecuteTime": {
     "end_time": "2025-06-15T15:08:50.375803Z",
     "start_time": "2025-06-15T15:08:50.138456Z"
    }
   },
   "cell_type": "code",
   "source": [
    "float_32_tensor = torch.tensor(\n",
    "    [1, 2, 3],\n",
    "    dtype=torch.float16,\n",
    "    device=\"cuda\",\n",
    "    requires_grad=False\n",
    ")\n",
    "float_32_tensor"
   ],
   "id": "ca3b32017a5bfd20",
   "outputs": [
    {
     "data": {
      "text/plain": [
       "tensor([1., 2., 3.], device='cuda:0', dtype=torch.float16)"
      ]
     },
     "execution_count": 32,
     "metadata": {},
     "output_type": "execute_result"
    }
   ],
   "execution_count": 32
  },
  {
   "metadata": {
    "ExecuteTime": {
     "end_time": "2025-06-15T15:08:50.403458Z",
     "start_time": "2025-06-15T15:08:50.399368Z"
    }
   },
   "cell_type": "code",
   "source": "float_32_tensor.dtype",
   "id": "5403e982394e44a7",
   "outputs": [
    {
     "data": {
      "text/plain": [
       "torch.float16"
      ]
     },
     "execution_count": 33,
     "metadata": {},
     "output_type": "execute_result"
    }
   ],
   "execution_count": 33
  },
  {
   "metadata": {
    "ExecuteTime": {
     "end_time": "2025-06-15T15:08:50.451547Z",
     "start_time": "2025-06-15T15:08:50.447546Z"
    }
   },
   "cell_type": "code",
   "source": "float_32_tensor.device",
   "id": "d8a3bbb73212e2d6",
   "outputs": [
    {
     "data": {
      "text/plain": [
       "device(type='cuda', index=0)"
      ]
     },
     "execution_count": 34,
     "metadata": {},
     "output_type": "execute_result"
    }
   ],
   "execution_count": 34
  },
  {
   "metadata": {
    "ExecuteTime": {
     "end_time": "2025-06-15T15:08:50.528478Z",
     "start_time": "2025-06-15T15:08:50.523114Z"
    }
   },
   "cell_type": "code",
   "source": [
    "float_16_tensor = float_32_tensor.to(dtype=torch.float16)\n",
    "float_16_tensor"
   ],
   "id": "bfd9343d710d35f5",
   "outputs": [
    {
     "data": {
      "text/plain": [
       "tensor([1., 2., 3.], device='cuda:0', dtype=torch.float16)"
      ]
     },
     "execution_count": 35,
     "metadata": {},
     "output_type": "execute_result"
    }
   ],
   "execution_count": 35
  },
  {
   "metadata": {},
   "cell_type": "markdown",
   "source": "# 25. Getting Tensor Attributes",
   "id": "3dd46251dcf97ec3"
  },
  {
   "metadata": {
    "ExecuteTime": {
     "end_time": "2025-06-15T15:08:50.616078Z",
     "start_time": "2025-06-15T15:08:50.610663Z"
    }
   },
   "cell_type": "code",
   "source": "float_16_tensor * float_32_tensor",
   "id": "9cf758f62ed04c36",
   "outputs": [
    {
     "data": {
      "text/plain": [
       "tensor([1., 4., 9.], device='cuda:0', dtype=torch.float16)"
      ]
     },
     "execution_count": 36,
     "metadata": {},
     "output_type": "execute_result"
    }
   ],
   "execution_count": 36
  },
  {
   "metadata": {
    "ExecuteTime": {
     "end_time": "2025-06-15T15:08:50.677406Z",
     "start_time": "2025-06-15T15:08:50.674403Z"
    }
   },
   "cell_type": "code",
   "source": "int_32_tensor = torch.tensor([1, 2, 3], dtype=torch.int32)",
   "id": "962e5897ad668dbc",
   "outputs": [],
   "execution_count": 37
  },
  {
   "metadata": {
    "ExecuteTime": {
     "end_time": "2025-06-15T15:08:50.708920Z",
     "start_time": "2025-06-15T15:08:50.705821Z"
    }
   },
   "cell_type": "code",
   "source": "# int_32_tensor * float_32_tensor # Error",
   "id": "1109fd37d4ff38a7",
   "outputs": [],
   "execution_count": 38
  },
  {
   "metadata": {
    "ExecuteTime": {
     "end_time": "2025-06-15T15:08:50.736765Z",
     "start_time": "2025-06-15T15:08:50.732600Z"
    }
   },
   "cell_type": "code",
   "source": "int_32_tensor.dtype",
   "id": "2fda4cf331cdfc68",
   "outputs": [
    {
     "data": {
      "text/plain": [
       "torch.int32"
      ]
     },
     "execution_count": 39,
     "metadata": {},
     "output_type": "execute_result"
    }
   ],
   "execution_count": 39
  },
  {
   "metadata": {
    "ExecuteTime": {
     "end_time": "2025-06-15T15:08:50.779680Z",
     "start_time": "2025-06-15T15:08:50.775681Z"
    }
   },
   "cell_type": "code",
   "source": "float_32_tensor.device",
   "id": "83bf23a17ab6f5c8",
   "outputs": [
    {
     "data": {
      "text/plain": [
       "device(type='cuda', index=0)"
      ]
     },
     "execution_count": 40,
     "metadata": {},
     "output_type": "execute_result"
    }
   ],
   "execution_count": 40
  },
  {
   "metadata": {
    "ExecuteTime": {
     "end_time": "2025-06-15T15:08:50.843900Z",
     "start_time": "2025-06-15T15:08:50.839594Z"
    }
   },
   "cell_type": "code",
   "source": "float_32_tensor.requires_grad",
   "id": "277fac4e420b966c",
   "outputs": [
    {
     "data": {
      "text/plain": [
       "False"
      ]
     },
     "execution_count": 41,
     "metadata": {},
     "output_type": "execute_result"
    }
   ],
   "execution_count": 41
  },
  {
   "metadata": {
    "ExecuteTime": {
     "end_time": "2025-06-15T15:08:50.911427Z",
     "start_time": "2025-06-15T15:08:50.906425Z"
    }
   },
   "cell_type": "code",
   "source": "float_32_tensor.shape",
   "id": "79ef36beab05beff",
   "outputs": [
    {
     "data": {
      "text/plain": [
       "torch.Size([3])"
      ]
     },
     "execution_count": 42,
     "metadata": {},
     "output_type": "execute_result"
    }
   ],
   "execution_count": 42
  },
  {
   "metadata": {
    "ExecuteTime": {
     "end_time": "2025-06-15T15:08:50.972013Z",
     "start_time": "2025-06-15T15:08:50.967997Z"
    }
   },
   "cell_type": "code",
   "source": "float_32_tensor.size()",
   "id": "4cf8019f16c0c59e",
   "outputs": [
    {
     "data": {
      "text/plain": [
       "torch.Size([3])"
      ]
     },
     "execution_count": 43,
     "metadata": {},
     "output_type": "execute_result"
    }
   ],
   "execution_count": 43
  },
  {
   "metadata": {},
   "cell_type": "markdown",
   "source": "# 26. Manipulating Tensors (Tensor Operations)",
   "id": "978915155e7b9cef"
  },
  {
   "metadata": {
    "ExecuteTime": {
     "end_time": "2025-06-15T15:08:51.027164Z",
     "start_time": "2025-06-15T15:08:51.023861Z"
    }
   },
   "cell_type": "code",
   "source": "float_32_tensor.device",
   "id": "be5e60ffe308e3b9",
   "outputs": [
    {
     "data": {
      "text/plain": [
       "device(type='cuda', index=0)"
      ]
     },
     "execution_count": 44,
     "metadata": {},
     "output_type": "execute_result"
    }
   ],
   "execution_count": 44
  },
  {
   "metadata": {
    "ExecuteTime": {
     "end_time": "2025-06-15T15:08:51.085737Z",
     "start_time": "2025-06-15T15:08:51.080258Z"
    }
   },
   "cell_type": "code",
   "source": [
    "tensor = torch.tensor([1, 2, 3])\n",
    "tensor + 10"
   ],
   "id": "b5f4077230354ddf",
   "outputs": [
    {
     "data": {
      "text/plain": [
       "tensor([11, 12, 13])"
      ]
     },
     "execution_count": 45,
     "metadata": {},
     "output_type": "execute_result"
    }
   ],
   "execution_count": 45
  },
  {
   "metadata": {
    "ExecuteTime": {
     "end_time": "2025-06-15T15:08:51.146960Z",
     "start_time": "2025-06-15T15:08:51.142512Z"
    }
   },
   "cell_type": "code",
   "source": "tensor = tensor * 10",
   "id": "4384fcab90cd7e93",
   "outputs": [],
   "execution_count": 46
  },
  {
   "metadata": {
    "ExecuteTime": {
     "end_time": "2025-06-15T15:08:51.192798Z",
     "start_time": "2025-06-15T15:08:51.185856Z"
    }
   },
   "cell_type": "code",
   "source": "tensor - 15",
   "id": "dd1e839632488255",
   "outputs": [
    {
     "data": {
      "text/plain": [
       "tensor([-5,  5, 15])"
      ]
     },
     "execution_count": 47,
     "metadata": {},
     "output_type": "execute_result"
    }
   ],
   "execution_count": 47
  },
  {
   "metadata": {
    "ExecuteTime": {
     "end_time": "2025-06-15T15:08:51.241879Z",
     "start_time": "2025-06-15T15:08:51.237370Z"
    }
   },
   "cell_type": "code",
   "source": "torch.mul(tensor, 10)",
   "id": "54de2db7ab53cb2a",
   "outputs": [
    {
     "data": {
      "text/plain": [
       "tensor([100, 200, 300])"
      ]
     },
     "execution_count": 48,
     "metadata": {},
     "output_type": "execute_result"
    }
   ],
   "execution_count": 48
  },
  {
   "metadata": {
    "ExecuteTime": {
     "end_time": "2025-06-15T15:08:51.297586Z",
     "start_time": "2025-06-15T15:08:51.293491Z"
    }
   },
   "cell_type": "code",
   "source": "torch.add(tensor, 10)",
   "id": "d712fdb605c565c6",
   "outputs": [
    {
     "data": {
      "text/plain": [
       "tensor([20, 30, 40])"
      ]
     },
     "execution_count": 49,
     "metadata": {},
     "output_type": "execute_result"
    }
   ],
   "execution_count": 49
  },
  {
   "metadata": {
    "ExecuteTime": {
     "end_time": "2025-06-15T15:08:51.357129Z",
     "start_time": "2025-06-15T15:08:51.351661Z"
    }
   },
   "cell_type": "code",
   "source": "torch.div(tensor, 10)",
   "id": "bea31f25fe0f9a3e",
   "outputs": [
    {
     "data": {
      "text/plain": [
       "tensor([1., 2., 3.])"
      ]
     },
     "execution_count": 50,
     "metadata": {},
     "output_type": "execute_result"
    }
   ],
   "execution_count": 50
  },
  {
   "metadata": {
    "ExecuteTime": {
     "end_time": "2025-06-15T15:08:51.427997Z",
     "start_time": "2025-06-15T15:08:51.423996Z"
    }
   },
   "cell_type": "code",
   "source": "torch.sub(tensor, 10)",
   "id": "b41408f01c0eda08",
   "outputs": [
    {
     "data": {
      "text/plain": [
       "tensor([ 0, 10, 20])"
      ]
     },
     "execution_count": 51,
     "metadata": {},
     "output_type": "execute_result"
    }
   ],
   "execution_count": 51
  },
  {
   "metadata": {},
   "cell_type": "markdown",
   "source": "# 27. Matrix Multiplication (Part 1)",
   "id": "5da880b5e564237f"
  },
  {
   "metadata": {
    "ExecuteTime": {
     "end_time": "2025-06-15T15:08:51.504658Z",
     "start_time": "2025-06-15T15:08:51.499554Z"
    }
   },
   "cell_type": "code",
   "source": "tensor",
   "id": "c60a0757f77423d7",
   "outputs": [
    {
     "data": {
      "text/plain": [
       "tensor([10, 20, 30])"
      ]
     },
     "execution_count": 52,
     "metadata": {},
     "output_type": "execute_result"
    }
   ],
   "execution_count": 52
  },
  {
   "metadata": {
    "ExecuteTime": {
     "end_time": "2025-06-15T15:08:51.555509Z",
     "start_time": "2025-06-15T15:08:51.551315Z"
    }
   },
   "cell_type": "code",
   "source": "tensor * tensor",
   "id": "b17fa5b8855d5854",
   "outputs": [
    {
     "data": {
      "text/plain": [
       "tensor([100, 400, 900])"
      ]
     },
     "execution_count": 53,
     "metadata": {},
     "output_type": "execute_result"
    }
   ],
   "execution_count": 53
  },
  {
   "metadata": {
    "ExecuteTime": {
     "end_time": "2025-06-15T15:08:51.608007Z",
     "start_time": "2025-06-15T15:08:51.603891Z"
    }
   },
   "cell_type": "code",
   "source": [
    "print(tensor, '*', tensor)\n",
    "print(f'PyTorch Multiplication: {torch.mul(tensor, tensor)}')"
   ],
   "id": "a5909bc389a450e",
   "outputs": [
    {
     "name": "stdout",
     "output_type": "stream",
     "text": [
      "tensor([10, 20, 30]) * tensor([10, 20, 30])\n",
      "PyTorch Multiplication: tensor([100, 400, 900])\n"
     ]
    }
   ],
   "execution_count": 54
  },
  {
   "metadata": {
    "ExecuteTime": {
     "end_time": "2025-06-15T15:08:51.684989Z",
     "start_time": "2025-06-15T15:08:51.671527Z"
    }
   },
   "cell_type": "code",
   "source": [
    "%%time\n",
    "torch.matmul(tensor, tensor)"
   ],
   "id": "e1d1903844dbe128",
   "outputs": [
    {
     "name": "stdout",
     "output_type": "stream",
     "text": [
      "CPU times: total: 0 ns\n",
      "Wall time: 6.71 ms\n"
     ]
    },
    {
     "data": {
      "text/plain": [
       "tensor(1400)"
      ]
     },
     "execution_count": 55,
     "metadata": {},
     "output_type": "execute_result"
    }
   ],
   "execution_count": 55
  },
  {
   "metadata": {
    "ExecuteTime": {
     "end_time": "2025-06-15T15:08:51.761846Z",
     "start_time": "2025-06-15T15:08:51.757515Z"
    }
   },
   "cell_type": "code",
   "source": "tensor @ tensor",
   "id": "34f7b55f7b4be215",
   "outputs": [
    {
     "data": {
      "text/plain": [
       "tensor(1400)"
      ]
     },
     "execution_count": 56,
     "metadata": {},
     "output_type": "execute_result"
    }
   ],
   "execution_count": 56
  },
  {
   "metadata": {
    "ExecuteTime": {
     "end_time": "2025-06-15T15:08:51.837280Z",
     "start_time": "2025-06-15T15:08:51.832276Z"
    }
   },
   "cell_type": "code",
   "source": [
    "%%time\n",
    "value = 0\n",
    "for i in range(len(tensor)):\n",
    "    value += tensor[i] * tensor[i]\n",
    "print(value)"
   ],
   "id": "2a579f1fa5d24332",
   "outputs": [
    {
     "name": "stdout",
     "output_type": "stream",
     "text": [
      "tensor(1400)\n",
      "CPU times: total: 0 ns\n",
      "Wall time: 1e+03 μs\n"
     ]
    }
   ],
   "execution_count": 57
  },
  {
   "metadata": {},
   "cell_type": "markdown",
   "source": "# 28. Matrix Multiplication (Part 2): The Two Main Rules of Matrix Multiplication",
   "id": "576dd30e2aaa1948"
  },
  {
   "metadata": {
    "ExecuteTime": {
     "end_time": "2025-06-15T15:08:51.897636Z",
     "start_time": "2025-06-15T15:08:51.893626Z"
    }
   },
   "cell_type": "code",
   "source": "tensor @ tensor",
   "id": "3f304275ef00bde",
   "outputs": [
    {
     "data": {
      "text/plain": [
       "tensor(1400)"
      ]
     },
     "execution_count": 58,
     "metadata": {},
     "output_type": "execute_result"
    }
   ],
   "execution_count": 58
  },
  {
   "metadata": {
    "ExecuteTime": {
     "end_time": "2025-06-15T15:08:51.986008Z",
     "start_time": "2025-06-15T15:08:51.981917Z"
    }
   },
   "cell_type": "code",
   "source": "torch.rand(3, 2).shape",
   "id": "8dace5a1e7977fb9",
   "outputs": [
    {
     "data": {
      "text/plain": [
       "torch.Size([3, 2])"
      ]
     },
     "execution_count": 59,
     "metadata": {},
     "output_type": "execute_result"
    }
   ],
   "execution_count": 59
  },
  {
   "metadata": {
    "ExecuteTime": {
     "end_time": "2025-06-15T15:08:52.065999Z",
     "start_time": "2025-06-15T15:08:52.051408Z"
    }
   },
   "cell_type": "code",
   "source": "torch.rand(3, 10) @ torch.rand(10, 3)",
   "id": "c5a29b6cbd2f81c4",
   "outputs": [
    {
     "data": {
      "text/plain": [
       "tensor([[1.9473, 1.5382, 1.6783],\n",
       "        [2.7991, 2.9063, 2.3772],\n",
       "        [3.0163, 2.6171, 2.5665]])"
      ]
     },
     "execution_count": 60,
     "metadata": {},
     "output_type": "execute_result"
    }
   ],
   "execution_count": 60
  },
  {
   "metadata": {},
   "cell_type": "markdown",
   "source": "# 29. Matrix Multiplication (Part 3): Dealing With Tensor Shape Errors",
   "id": "5b5adaa2bdb466b4"
  },
  {
   "metadata": {
    "ExecuteTime": {
     "end_time": "2025-06-15T15:08:52.129156Z",
     "start_time": "2025-06-15T15:08:52.125158Z"
    }
   },
   "cell_type": "code",
   "source": [
    "tensor_A = torch.tensor([[1, 2],\n",
    "                        [3, 4],\n",
    "                        [5, 6]])\n",
    "\n",
    "tensor_B = torch.tensor([[7, 8],\n",
    "                        [9, 10],\n",
    "                        [11, 12]])"
   ],
   "id": "2045cf20898799f0",
   "outputs": [],
   "execution_count": 61
  },
  {
   "metadata": {
    "ExecuteTime": {
     "end_time": "2025-06-15T15:08:52.276252Z",
     "start_time": "2025-06-15T15:08:52.273058Z"
    }
   },
   "cell_type": "code",
   "source": "# torch.matmul(tensor_A, tensor_B) # Error",
   "id": "79e0168b382dedc0",
   "outputs": [],
   "execution_count": 62
  },
  {
   "metadata": {
    "ExecuteTime": {
     "end_time": "2025-06-15T15:08:52.334964Z",
     "start_time": "2025-06-15T15:08:52.330529Z"
    }
   },
   "cell_type": "code",
   "source": "tensor_A.shape, tensor_B.shape",
   "id": "7c08e62e35485b96",
   "outputs": [
    {
     "data": {
      "text/plain": [
       "(torch.Size([3, 2]), torch.Size([3, 2]))"
      ]
     },
     "execution_count": 63,
     "metadata": {},
     "output_type": "execute_result"
    }
   ],
   "execution_count": 63
  },
  {
   "metadata": {
    "ExecuteTime": {
     "end_time": "2025-06-15T15:08:52.414647Z",
     "start_time": "2025-06-15T15:08:52.408218Z"
    }
   },
   "cell_type": "code",
   "source": "tensor_B.T, tensor_B.T.shape",
   "id": "ecdf0d3259fdb5d2",
   "outputs": [
    {
     "data": {
      "text/plain": [
       "(tensor([[ 7,  9, 11],\n",
       "         [ 8, 10, 12]]),\n",
       " torch.Size([2, 3]))"
      ]
     },
     "execution_count": 64,
     "metadata": {},
     "output_type": "execute_result"
    }
   ],
   "execution_count": 64
  },
  {
   "metadata": {
    "ExecuteTime": {
     "end_time": "2025-06-15T15:08:52.493633Z",
     "start_time": "2025-06-15T15:08:52.489335Z"
    }
   },
   "cell_type": "code",
   "source": "tensor_B",
   "id": "2dca31a87a252c5f",
   "outputs": [
    {
     "data": {
      "text/plain": [
       "tensor([[ 7,  8],\n",
       "        [ 9, 10],\n",
       "        [11, 12]])"
      ]
     },
     "execution_count": 65,
     "metadata": {},
     "output_type": "execute_result"
    }
   ],
   "execution_count": 65
  },
  {
   "metadata": {
    "ExecuteTime": {
     "end_time": "2025-06-15T15:08:52.587150Z",
     "start_time": "2025-06-15T15:08:52.582776Z"
    }
   },
   "cell_type": "code",
   "source": "torch.matmul(tensor_A, tensor_B.T)",
   "id": "ec926d77807f344b",
   "outputs": [
    {
     "data": {
      "text/plain": [
       "tensor([[ 23,  29,  35],\n",
       "        [ 53,  67,  81],\n",
       "        [ 83, 105, 127]])"
      ]
     },
     "execution_count": 66,
     "metadata": {},
     "output_type": "execute_result"
    }
   ],
   "execution_count": 66
  },
  {
   "metadata": {
    "ExecuteTime": {
     "end_time": "2025-06-15T15:08:52.760156Z",
     "start_time": "2025-06-15T15:08:52.755249Z"
    }
   },
   "cell_type": "code",
   "source": [
    "print(f\" Original shapes: tensor A {tensor_A.shape}, tensor B = {tensor_B.shape}\")\n",
    "print(f'New shape: {torch.matmul(tensor_A, tensor_B.T).shape}')\n",
    "print(f'Multiplication: {torch.matmul(tensor_A, tensor_B.T)}')\n",
    "print(f'Output \\n')\n",
    "output = torch.matmul(tensor_A, tensor_B.T)\n",
    "print(output)\n",
    "print(f'\\nOutput shape: {output.shape}')"
   ],
   "id": "53500a4bef9147c5",
   "outputs": [
    {
     "name": "stdout",
     "output_type": "stream",
     "text": [
      " Original shapes: tensor A torch.Size([3, 2]), tensor B = torch.Size([3, 2])\n",
      "New shape: torch.Size([3, 3])\n",
      "Multiplication: tensor([[ 23,  29,  35],\n",
      "        [ 53,  67,  81],\n",
      "        [ 83, 105, 127]])\n",
      "Output \n",
      "\n",
      "tensor([[ 23,  29,  35],\n",
      "        [ 53,  67,  81],\n",
      "        [ 83, 105, 127]])\n",
      "\n",
      "Output shape: torch.Size([3, 3])\n"
     ]
    }
   ],
   "execution_count": 67
  },
  {
   "metadata": {},
   "cell_type": "markdown",
   "source": "# 30. Finding the Min Max Mean and Sum of Tensors (Tensor Aggregation)",
   "id": "f1555d25e26e416"
  },
  {
   "metadata": {
    "ExecuteTime": {
     "end_time": "2025-06-15T15:08:52.937807Z",
     "start_time": "2025-06-15T15:08:52.934546Z"
    }
   },
   "cell_type": "code",
   "source": "x = torch.arange(0, 100, 10)",
   "id": "1ae1c4c72d401363",
   "outputs": [],
   "execution_count": 68
  },
  {
   "metadata": {
    "ExecuteTime": {
     "end_time": "2025-06-15T15:08:53.037622Z",
     "start_time": "2025-06-15T15:08:53.031800Z"
    }
   },
   "cell_type": "code",
   "source": "torch.sum(x)",
   "id": "631d67ab5fd898b7",
   "outputs": [
    {
     "data": {
      "text/plain": [
       "tensor(450)"
      ]
     },
     "execution_count": 69,
     "metadata": {},
     "output_type": "execute_result"
    }
   ],
   "execution_count": 69
  },
  {
   "metadata": {
    "ExecuteTime": {
     "end_time": "2025-06-15T15:08:53.132598Z",
     "start_time": "2025-06-15T15:08:53.126198Z"
    }
   },
   "cell_type": "code",
   "source": "torch.min(x)",
   "id": "9aa1ec63d3e4487e",
   "outputs": [
    {
     "data": {
      "text/plain": [
       "tensor(0)"
      ]
     },
     "execution_count": 70,
     "metadata": {},
     "output_type": "execute_result"
    }
   ],
   "execution_count": 70
  },
  {
   "metadata": {
    "ExecuteTime": {
     "end_time": "2025-06-15T15:08:53.223865Z",
     "start_time": "2025-06-15T15:08:53.219350Z"
    }
   },
   "cell_type": "code",
   "source": "torch.max(x)",
   "id": "6f3f8683dbfc2de9",
   "outputs": [
    {
     "data": {
      "text/plain": [
       "tensor(90)"
      ]
     },
     "execution_count": 71,
     "metadata": {},
     "output_type": "execute_result"
    }
   ],
   "execution_count": 71
  },
  {
   "metadata": {
    "ExecuteTime": {
     "end_time": "2025-06-15T15:08:53.304199Z",
     "start_time": "2025-06-15T15:08:53.296689Z"
    }
   },
   "cell_type": "code",
   "source": "torch.mean(x, dtype=torch.float32)",
   "id": "240bbbfa180ae005",
   "outputs": [
    {
     "data": {
      "text/plain": [
       "tensor(45.)"
      ]
     },
     "execution_count": 72,
     "metadata": {},
     "output_type": "execute_result"
    }
   ],
   "execution_count": 72
  },
  {
   "metadata": {
    "ExecuteTime": {
     "end_time": "2025-06-15T15:08:53.378498Z",
     "start_time": "2025-06-15T15:08:53.373498Z"
    }
   },
   "cell_type": "code",
   "source": "x.type(torch.float32).mean()",
   "id": "172a37c0437ccbe6",
   "outputs": [
    {
     "data": {
      "text/plain": [
       "tensor(45.)"
      ]
     },
     "execution_count": 73,
     "metadata": {},
     "output_type": "execute_result"
    }
   ],
   "execution_count": 73
  },
  {
   "metadata": {
    "ExecuteTime": {
     "end_time": "2025-06-15T15:08:53.434432Z",
     "start_time": "2025-06-15T15:08:53.430408Z"
    }
   },
   "cell_type": "code",
   "source": "torch.sum(x), torch.min(x), torch.max(x), torch.mean(x, dtype=torch.float32)",
   "id": "a56d5eab58e4e8e7",
   "outputs": [
    {
     "data": {
      "text/plain": [
       "(tensor(450), tensor(0), tensor(90), tensor(45.))"
      ]
     },
     "execution_count": 74,
     "metadata": {},
     "output_type": "execute_result"
    }
   ],
   "execution_count": 74
  },
  {
   "metadata": {
    "ExecuteTime": {
     "end_time": "2025-06-15T15:08:53.507825Z",
     "start_time": "2025-06-15T15:08:53.500311Z"
    }
   },
   "cell_type": "code",
   "source": "torch.argmax(x)",
   "id": "9a48bdb02e773847",
   "outputs": [
    {
     "data": {
      "text/plain": [
       "tensor(9)"
      ]
     },
     "execution_count": 75,
     "metadata": {},
     "output_type": "execute_result"
    }
   ],
   "execution_count": 75
  },
  {
   "metadata": {
    "ExecuteTime": {
     "end_time": "2025-06-15T15:08:53.586081Z",
     "start_time": "2025-06-15T15:08:53.580570Z"
    }
   },
   "cell_type": "code",
   "source": "torch.argmin(x)",
   "id": "bb1fd4735c0f5a58",
   "outputs": [
    {
     "data": {
      "text/plain": [
       "tensor(0)"
      ]
     },
     "execution_count": 76,
     "metadata": {},
     "output_type": "execute_result"
    }
   ],
   "execution_count": 76
  },
  {
   "metadata": {},
   "cell_type": "markdown",
   "source": "# 31. Finding The Positional Min and Max of Tensors",
   "id": "173efb5c19260ffb"
  },
  {
   "metadata": {
    "ExecuteTime": {
     "end_time": "2025-06-15T15:08:53.671622Z",
     "start_time": "2025-06-15T15:08:53.668573Z"
    }
   },
   "cell_type": "code",
   "source": "x = torch.arange(1, 101, 10)",
   "id": "1c498e582dc3ed67",
   "outputs": [],
   "execution_count": 77
  },
  {
   "metadata": {
    "ExecuteTime": {
     "end_time": "2025-06-15T15:08:53.695591Z",
     "start_time": "2025-06-15T15:08:53.691615Z"
    }
   },
   "cell_type": "code",
   "source": "x.argmax()",
   "id": "2ed677b8c079d5ed",
   "outputs": [
    {
     "data": {
      "text/plain": [
       "tensor(9)"
      ]
     },
     "execution_count": 78,
     "metadata": {},
     "output_type": "execute_result"
    }
   ],
   "execution_count": 78
  },
  {
   "metadata": {
    "ExecuteTime": {
     "end_time": "2025-06-15T15:08:53.769726Z",
     "start_time": "2025-06-15T15:08:53.764726Z"
    }
   },
   "cell_type": "code",
   "source": "x.argmin()",
   "id": "d30dd0cfa010f52",
   "outputs": [
    {
     "data": {
      "text/plain": [
       "tensor(0)"
      ]
     },
     "execution_count": 79,
     "metadata": {},
     "output_type": "execute_result"
    }
   ],
   "execution_count": 79
  },
  {
   "metadata": {},
   "cell_type": "markdown",
   "source": "# 32. Reshaping, Viewing and Stacking Tensors",
   "id": "8f5e60703a79db23"
  },
  {
   "metadata": {
    "ExecuteTime": {
     "end_time": "2025-06-15T15:08:53.841157Z",
     "start_time": "2025-06-15T15:08:53.833905Z"
    }
   },
   "cell_type": "code",
   "source": [
    "x = torch.arange(1., 10)\n",
    "x, x.shape"
   ],
   "id": "53c53bb06ef1d001",
   "outputs": [
    {
     "data": {
      "text/plain": [
       "(tensor([1., 2., 3., 4., 5., 6., 7., 8., 9.]), torch.Size([9]))"
      ]
     },
     "execution_count": 80,
     "metadata": {},
     "output_type": "execute_result"
    }
   ],
   "execution_count": 80
  },
  {
   "metadata": {
    "ExecuteTime": {
     "end_time": "2025-06-15T15:08:53.909823Z",
     "start_time": "2025-06-15T15:08:53.905455Z"
    }
   },
   "cell_type": "code",
   "source": [
    "x_reshaped = x.reshape(1, 9)\n",
    "x_reshaped, x_reshaped.shape"
   ],
   "id": "9f44e38d320f8805",
   "outputs": [
    {
     "data": {
      "text/plain": [
       "(tensor([[1., 2., 3., 4., 5., 6., 7., 8., 9.]]), torch.Size([1, 9]))"
      ]
     },
     "execution_count": 81,
     "metadata": {},
     "output_type": "execute_result"
    }
   ],
   "execution_count": 81
  },
  {
   "metadata": {
    "ExecuteTime": {
     "end_time": "2025-06-15T15:08:54.004662Z",
     "start_time": "2025-06-15T15:08:53.999840Z"
    }
   },
   "cell_type": "code",
   "source": [
    "z = x.view(1, 9)\n",
    "z, z.shape"
   ],
   "id": "5c5907d377099053",
   "outputs": [
    {
     "data": {
      "text/plain": [
       "(tensor([[1., 2., 3., 4., 5., 6., 7., 8., 9.]]), torch.Size([1, 9]))"
      ]
     },
     "execution_count": 82,
     "metadata": {},
     "output_type": "execute_result"
    }
   ],
   "execution_count": 82
  },
  {
   "metadata": {
    "ExecuteTime": {
     "end_time": "2025-06-15T15:08:54.089224Z",
     "start_time": "2025-06-15T15:08:54.080134Z"
    }
   },
   "cell_type": "code",
   "source": [
    "z[:, 0] = 5\n",
    "z, x"
   ],
   "id": "b2995c8edbf12fa1",
   "outputs": [
    {
     "data": {
      "text/plain": [
       "(tensor([[5., 2., 3., 4., 5., 6., 7., 8., 9.]]),\n",
       " tensor([5., 2., 3., 4., 5., 6., 7., 8., 9.]))"
      ]
     },
     "execution_count": 83,
     "metadata": {},
     "output_type": "execute_result"
    }
   ],
   "execution_count": 83
  },
  {
   "metadata": {
    "ExecuteTime": {
     "end_time": "2025-06-15T15:08:54.152734Z",
     "start_time": "2025-06-15T15:08:54.147325Z"
    }
   },
   "cell_type": "code",
   "source": [
    "x_stacked = torch.stack([x, x, x, x], dim=1)\n",
    "x_stacked"
   ],
   "id": "f198fa0e1a08bc3d",
   "outputs": [
    {
     "data": {
      "text/plain": [
       "tensor([[5., 5., 5., 5.],\n",
       "        [2., 2., 2., 2.],\n",
       "        [3., 3., 3., 3.],\n",
       "        [4., 4., 4., 4.],\n",
       "        [5., 5., 5., 5.],\n",
       "        [6., 6., 6., 6.],\n",
       "        [7., 7., 7., 7.],\n",
       "        [8., 8., 8., 8.],\n",
       "        [9., 9., 9., 9.]])"
      ]
     },
     "execution_count": 84,
     "metadata": {},
     "output_type": "execute_result"
    }
   ],
   "execution_count": 84
  },
  {
   "metadata": {},
   "cell_type": "markdown",
   "source": "# 33. Squeezing, Unsqueezing and Permuting Tensors",
   "id": "872e91fcdde9b26a"
  },
  {
   "metadata": {
    "ExecuteTime": {
     "end_time": "2025-06-15T15:08:54.226184Z",
     "start_time": "2025-06-15T15:08:54.221849Z"
    }
   },
   "cell_type": "code",
   "source": "x_reshaped",
   "id": "5f7cec3169491c61",
   "outputs": [
    {
     "data": {
      "text/plain": [
       "tensor([[5., 2., 3., 4., 5., 6., 7., 8., 9.]])"
      ]
     },
     "execution_count": 85,
     "metadata": {},
     "output_type": "execute_result"
    }
   ],
   "execution_count": 85
  },
  {
   "metadata": {
    "ExecuteTime": {
     "end_time": "2025-06-15T15:08:54.407772Z",
     "start_time": "2025-06-15T15:08:54.403369Z"
    }
   },
   "cell_type": "code",
   "source": "x_reshaped.squeeze()",
   "id": "33b2160f1de7e37b",
   "outputs": [
    {
     "data": {
      "text/plain": [
       "tensor([5., 2., 3., 4., 5., 6., 7., 8., 9.])"
      ]
     },
     "execution_count": 86,
     "metadata": {},
     "output_type": "execute_result"
    }
   ],
   "execution_count": 86
  },
  {
   "metadata": {
    "ExecuteTime": {
     "end_time": "2025-06-15T15:08:54.607109Z",
     "start_time": "2025-06-15T15:08:54.602631Z"
    }
   },
   "cell_type": "code",
   "source": [
    "print(f\"Previous tensor: {x_reshaped}\")\n",
    "print(f'Previous shape: {x_reshaped.squeeze().shape}')\n",
    "\n",
    "x_squeezed = x_reshaped.squeeze()\n",
    "print(f'\\nNew tensor: {x_squeezed}')\n",
    "print(f'New shape: {x_squeezed.shape}')"
   ],
   "id": "855e91cf6718e8c4",
   "outputs": [
    {
     "name": "stdout",
     "output_type": "stream",
     "text": [
      "Previous tensor: tensor([[5., 2., 3., 4., 5., 6., 7., 8., 9.]])\n",
      "Previous shape: torch.Size([9])\n",
      "\n",
      "New tensor: tensor([5., 2., 3., 4., 5., 6., 7., 8., 9.])\n",
      "New shape: torch.Size([9])\n"
     ]
    }
   ],
   "execution_count": 87
  },
  {
   "metadata": {
    "ExecuteTime": {
     "end_time": "2025-06-15T15:08:54.687303Z",
     "start_time": "2025-06-15T15:08:54.682303Z"
    }
   },
   "cell_type": "code",
   "source": [
    "print(f'Previous target: {x_squeezed}')\n",
    "print(f'Previous shape: {x_squeezed.unsqueeze(dim=0).shape}')\n",
    "\n",
    "x_unsqueezed = x_squeezed.unsqueeze(dim=0)\n",
    "\n",
    "print(f'\\nNew tensor: {x_unsqueezed}')\n",
    "print(f'New shape: {x_unsqueezed.shape}')"
   ],
   "id": "171bd78947729243",
   "outputs": [
    {
     "name": "stdout",
     "output_type": "stream",
     "text": [
      "Previous target: tensor([5., 2., 3., 4., 5., 6., 7., 8., 9.])\n",
      "Previous shape: torch.Size([1, 9])\n",
      "\n",
      "New tensor: tensor([[5., 2., 3., 4., 5., 6., 7., 8., 9.]])\n",
      "New shape: torch.Size([1, 9])\n"
     ]
    }
   ],
   "execution_count": 88
  },
  {
   "metadata": {
    "ExecuteTime": {
     "end_time": "2025-06-15T15:08:54.765476Z",
     "start_time": "2025-06-15T15:08:54.761613Z"
    }
   },
   "cell_type": "code",
   "source": [
    "x_original = torch.rand(size=(224, 224, 3))\n",
    "\n",
    "x_permuted = x_original.permute(2, 0, 1)\n",
    "print(f'Previous shape: {x_original.shape}')\n",
    "print(f'New shape: {x_permuted.shape}') # color channel, width, height"
   ],
   "id": "eef9bc8da7f6b832",
   "outputs": [
    {
     "name": "stdout",
     "output_type": "stream",
     "text": [
      "Previous shape: torch.Size([224, 224, 3])\n",
      "New shape: torch.Size([3, 224, 224])\n"
     ]
    }
   ],
   "execution_count": 89
  },
  {
   "metadata": {},
   "cell_type": "markdown",
   "source": "# 34. Selecting Data From Tensors (Indexing)",
   "id": "3b2f67bb5a6d7d61"
  },
  {
   "metadata": {
    "ExecuteTime": {
     "end_time": "2025-06-15T15:08:54.856291Z",
     "start_time": "2025-06-15T15:08:54.851285Z"
    }
   },
   "cell_type": "code",
   "source": [
    "x_original[0, 0, 0] = 728218\n",
    "x_original[0, 0, 0], x_permuted[0, 0, 0]"
   ],
   "id": "a6a8b7c2e055f56d",
   "outputs": [
    {
     "data": {
      "text/plain": [
       "(tensor(728218.), tensor(728218.))"
      ]
     },
     "execution_count": 90,
     "metadata": {},
     "output_type": "execute_result"
    }
   ],
   "execution_count": 90
  },
  {
   "metadata": {
    "ExecuteTime": {
     "end_time": "2025-06-15T15:08:54.931175Z",
     "start_time": "2025-06-15T15:08:54.926670Z"
    }
   },
   "cell_type": "code",
   "source": [
    "x = torch.arange(1, 10).reshape(1, 3, 3)\n",
    "x, x.shape"
   ],
   "id": "f8ef1930b2165804",
   "outputs": [
    {
     "data": {
      "text/plain": [
       "(tensor([[[1, 2, 3],\n",
       "          [4, 5, 6],\n",
       "          [7, 8, 9]]]),\n",
       " torch.Size([1, 3, 3]))"
      ]
     },
     "execution_count": 91,
     "metadata": {},
     "output_type": "execute_result"
    }
   ],
   "execution_count": 91
  },
  {
   "metadata": {
    "ExecuteTime": {
     "end_time": "2025-06-15T15:08:54.993523Z",
     "start_time": "2025-06-15T15:08:54.988913Z"
    }
   },
   "cell_type": "code",
   "source": "x[0]",
   "id": "a9e4eeeee4570430",
   "outputs": [
    {
     "data": {
      "text/plain": [
       "tensor([[1, 2, 3],\n",
       "        [4, 5, 6],\n",
       "        [7, 8, 9]])"
      ]
     },
     "execution_count": 92,
     "metadata": {},
     "output_type": "execute_result"
    }
   ],
   "execution_count": 92
  },
  {
   "metadata": {
    "ExecuteTime": {
     "end_time": "2025-06-15T15:08:55.078749Z",
     "start_time": "2025-06-15T15:08:55.073752Z"
    }
   },
   "cell_type": "code",
   "source": "x[0][0]",
   "id": "7582093755dfc0d6",
   "outputs": [
    {
     "data": {
      "text/plain": [
       "tensor([1, 2, 3])"
      ]
     },
     "execution_count": 93,
     "metadata": {},
     "output_type": "execute_result"
    }
   ],
   "execution_count": 93
  },
  {
   "metadata": {
    "ExecuteTime": {
     "end_time": "2025-06-15T15:08:55.243512Z",
     "start_time": "2025-06-15T15:08:55.239096Z"
    }
   },
   "cell_type": "code",
   "source": "x[0][0][0]",
   "id": "7de216198562a7f5",
   "outputs": [
    {
     "data": {
      "text/plain": [
       "tensor(1)"
      ]
     },
     "execution_count": 94,
     "metadata": {},
     "output_type": "execute_result"
    }
   ],
   "execution_count": 94
  },
  {
   "metadata": {
    "ExecuteTime": {
     "end_time": "2025-06-15T15:08:55.371773Z",
     "start_time": "2025-06-15T15:08:55.367269Z"
    }
   },
   "cell_type": "code",
   "source": "x[0][0][1]",
   "id": "b48d3d48b83b9d56",
   "outputs": [
    {
     "data": {
      "text/plain": [
       "tensor(2)"
      ]
     },
     "execution_count": 95,
     "metadata": {},
     "output_type": "execute_result"
    }
   ],
   "execution_count": 95
  },
  {
   "metadata": {
    "ExecuteTime": {
     "end_time": "2025-06-15T15:08:55.443805Z",
     "start_time": "2025-06-15T15:08:55.439469Z"
    }
   },
   "cell_type": "code",
   "source": "x[0][2][2]",
   "id": "6261b230dcb8f2c3",
   "outputs": [
    {
     "data": {
      "text/plain": [
       "tensor(9)"
      ]
     },
     "execution_count": 96,
     "metadata": {},
     "output_type": "execute_result"
    }
   ],
   "execution_count": 96
  },
  {
   "metadata": {
    "ExecuteTime": {
     "end_time": "2025-06-15T15:08:55.500784Z",
     "start_time": "2025-06-15T15:08:55.496278Z"
    }
   },
   "cell_type": "code",
   "source": "x[:,0]",
   "id": "3b191d4799afd586",
   "outputs": [
    {
     "data": {
      "text/plain": [
       "tensor([[1, 2, 3]])"
      ]
     },
     "execution_count": 97,
     "metadata": {},
     "output_type": "execute_result"
    }
   ],
   "execution_count": 97
  },
  {
   "metadata": {
    "ExecuteTime": {
     "end_time": "2025-06-15T15:08:55.595426Z",
     "start_time": "2025-06-15T15:08:55.591219Z"
    }
   },
   "cell_type": "code",
   "source": "x[:,:,1]",
   "id": "26e04094efee6fff",
   "outputs": [
    {
     "data": {
      "text/plain": [
       "tensor([[2, 5, 8]])"
      ]
     },
     "execution_count": 98,
     "metadata": {},
     "output_type": "execute_result"
    }
   ],
   "execution_count": 98
  },
  {
   "metadata": {
    "ExecuteTime": {
     "end_time": "2025-06-15T15:08:55.844616Z",
     "start_time": "2025-06-15T15:08:55.840211Z"
    }
   },
   "cell_type": "code",
   "source": "x[:,1 , 1]",
   "id": "6254d6d732a9a3fb",
   "outputs": [
    {
     "data": {
      "text/plain": [
       "tensor([5])"
      ]
     },
     "execution_count": 99,
     "metadata": {},
     "output_type": "execute_result"
    }
   ],
   "execution_count": 99
  },
  {
   "metadata": {
    "ExecuteTime": {
     "end_time": "2025-06-15T15:08:55.948622Z",
     "start_time": "2025-06-15T15:08:55.944164Z"
    }
   },
   "cell_type": "code",
   "source": "x[0, 0, :]",
   "id": "a1c04778c3076d7d",
   "outputs": [
    {
     "data": {
      "text/plain": [
       "tensor([1, 2, 3])"
      ]
     },
     "execution_count": 100,
     "metadata": {},
     "output_type": "execute_result"
    }
   ],
   "execution_count": 100
  },
  {
   "metadata": {
    "ExecuteTime": {
     "end_time": "2025-06-15T15:08:56.047457Z",
     "start_time": "2025-06-15T15:08:56.043467Z"
    }
   },
   "cell_type": "code",
   "source": "x[:, :, 2]",
   "id": "93805e861e149fd9",
   "outputs": [
    {
     "data": {
      "text/plain": [
       "tensor([[3, 6, 9]])"
      ]
     },
     "execution_count": 101,
     "metadata": {},
     "output_type": "execute_result"
    }
   ],
   "execution_count": 101
  },
  {
   "metadata": {
    "ExecuteTime": {
     "end_time": "2025-06-15T15:08:56.135042Z",
     "start_time": "2025-06-15T15:08:56.130028Z"
    }
   },
   "cell_type": "code",
   "source": "x[0, 2, 2]",
   "id": "dd16a8d0fc4594ab",
   "outputs": [
    {
     "data": {
      "text/plain": [
       "tensor(9)"
      ]
     },
     "execution_count": 102,
     "metadata": {},
     "output_type": "execute_result"
    }
   ],
   "execution_count": 102
  },
  {
   "metadata": {},
   "cell_type": "markdown",
   "source": "# 35. PyTorch Tensors and NumPy",
   "id": "1e545c530c23f15d"
  },
  {
   "metadata": {
    "ExecuteTime": {
     "end_time": "2025-06-15T15:08:56.400181Z",
     "start_time": "2025-06-15T15:08:56.396923Z"
    }
   },
   "cell_type": "code",
   "source": "import numpy as np",
   "id": "cfceaed90f44114d",
   "outputs": [],
   "execution_count": 103
  },
  {
   "metadata": {
    "ExecuteTime": {
     "end_time": "2025-06-15T15:08:56.479862Z",
     "start_time": "2025-06-15T15:08:56.475028Z"
    }
   },
   "cell_type": "code",
   "source": [
    "array = np.arange(1.0, 8.0)\n",
    "tensor = torch.from_numpy(array)\n",
    "array, tensor"
   ],
   "id": "3731545d9bb5a2b5",
   "outputs": [
    {
     "data": {
      "text/plain": [
       "(array([1., 2., 3., 4., 5., 6., 7.]),\n",
       " tensor([1., 2., 3., 4., 5., 6., 7.], dtype=torch.float64))"
      ]
     },
     "execution_count": 104,
     "metadata": {},
     "output_type": "execute_result"
    }
   ],
   "execution_count": 104
  },
  {
   "metadata": {
    "ExecuteTime": {
     "end_time": "2025-06-15T15:08:56.538419Z",
     "start_time": "2025-06-15T15:08:56.535601Z"
    }
   },
   "cell_type": "code",
   "source": "array += 1",
   "id": "8c9296137b671663",
   "outputs": [],
   "execution_count": 105
  },
  {
   "metadata": {
    "ExecuteTime": {
     "end_time": "2025-06-15T15:08:56.576505Z",
     "start_time": "2025-06-15T15:08:56.572340Z"
    }
   },
   "cell_type": "code",
   "source": "array",
   "id": "5a2822550f58a928",
   "outputs": [
    {
     "data": {
      "text/plain": [
       "array([2., 3., 4., 5., 6., 7., 8.])"
      ]
     },
     "execution_count": 106,
     "metadata": {},
     "output_type": "execute_result"
    }
   ],
   "execution_count": 106
  },
  {
   "metadata": {
    "ExecuteTime": {
     "end_time": "2025-06-15T15:08:56.634741Z",
     "start_time": "2025-06-15T15:08:56.631230Z"
    }
   },
   "cell_type": "code",
   "source": "tensor = torch.ones(7)",
   "id": "fb93227965f21c9e",
   "outputs": [],
   "execution_count": 107
  },
  {
   "metadata": {
    "ExecuteTime": {
     "end_time": "2025-06-15T15:08:56.669204Z",
     "start_time": "2025-06-15T15:08:56.664136Z"
    }
   },
   "cell_type": "code",
   "source": [
    "numpy_tensor = tensor.numpy()\n",
    "tensor, numpy_tensor"
   ],
   "id": "dd6ec3a8b00bbd5c",
   "outputs": [
    {
     "data": {
      "text/plain": [
       "(tensor([1., 1., 1., 1., 1., 1., 1.]),\n",
       " array([1., 1., 1., 1., 1., 1., 1.], dtype=float32))"
      ]
     },
     "execution_count": 108,
     "metadata": {},
     "output_type": "execute_result"
    }
   ],
   "execution_count": 108
  },
  {
   "metadata": {
    "ExecuteTime": {
     "end_time": "2025-06-15T15:08:56.707987Z",
     "start_time": "2025-06-15T15:08:56.702742Z"
    }
   },
   "cell_type": "code",
   "source": [
    "tensor += 1\n",
    "tensor, numpy_tensor\n",
    "# from transformers import pipeline\n",
    "# pipe = pipeline(\"text-generation\", model=\"deepseek-ai/DeepSeek-R1\")\n"
   ],
   "id": "b9f2a494d4771016",
   "outputs": [
    {
     "data": {
      "text/plain": [
       "(tensor([2., 2., 2., 2., 2., 2., 2.]),\n",
       " array([2., 2., 2., 2., 2., 2., 2.], dtype=float32))"
      ]
     },
     "execution_count": 109,
     "metadata": {},
     "output_type": "execute_result"
    }
   ],
   "execution_count": 109
  },
  {
   "metadata": {},
   "cell_type": "markdown",
   "source": "# 36. PyTorch Reproducibility (Taking the Random Out of Random)",
   "id": "5be230be12496eab"
  },
  {
   "metadata": {
    "ExecuteTime": {
     "end_time": "2025-06-15T15:08:56.786193Z",
     "start_time": "2025-06-15T15:08:56.781351Z"
    }
   },
   "cell_type": "code",
   "source": [
    "import  torch\n",
    "\n",
    "random_tensor_A = torch.rand(3, 4)\n",
    "random_tensor_B = torch.rand(3, 4)\n",
    "\n",
    "print(random_tensor_A)\n",
    "print(random_tensor_B)\n",
    "print(random_tensor_A == random_tensor_B)"
   ],
   "id": "9b60f054d4d5b69d",
   "outputs": [
    {
     "name": "stdout",
     "output_type": "stream",
     "text": [
      "tensor([[0.9469, 0.6224, 0.4303, 0.7212],\n",
      "        [0.7823, 0.1082, 0.1284, 0.5069],\n",
      "        [0.0516, 0.7226, 0.4199, 0.8681]])\n",
      "tensor([[0.0524, 0.0960, 0.1642, 0.9089],\n",
      "        [0.1069, 0.8321, 0.6211, 0.0489],\n",
      "        [0.1726, 0.6414, 0.2929, 0.9550]])\n",
      "tensor([[False, False, False, False],\n",
      "        [False, False, False, False],\n",
      "        [False, False, False, False]])\n"
     ]
    }
   ],
   "execution_count": 110
  },
  {
   "metadata": {
    "ExecuteTime": {
     "end_time": "2025-06-15T15:08:56.883843Z",
     "start_time": "2025-06-15T15:08:56.865405Z"
    }
   },
   "cell_type": "code",
   "source": [
    "import  torch\n",
    "\n",
    "RANDOM_SEED = 42\n",
    "\n",
    "torch.manual_seed(RANDOM_SEED)\n",
    "\n",
    "random_tensor_C = torch.rand(3, 4)\n",
    "random_tensor_D = torch.rand(3, 4)\n",
    "\n",
    "print(random_tensor_C)\n",
    "print(random_tensor_D)\n",
    "print(random_tensor_C == random_tensor_D)"
   ],
   "id": "19af11e3a05a96de",
   "outputs": [
    {
     "name": "stdout",
     "output_type": "stream",
     "text": [
      "tensor([[0.8823, 0.9150, 0.3829, 0.9593],\n",
      "        [0.3904, 0.6009, 0.2566, 0.7936],\n",
      "        [0.9408, 0.1332, 0.9346, 0.5936]])\n",
      "tensor([[0.8694, 0.5677, 0.7411, 0.4294],\n",
      "        [0.8854, 0.5739, 0.2666, 0.6274],\n",
      "        [0.2696, 0.4414, 0.2969, 0.8317]])\n",
      "tensor([[False, False, False, False],\n",
      "        [False, False, False, False],\n",
      "        [False, False, False, False]])\n"
     ]
    }
   ],
   "execution_count": 111
  },
  {
   "metadata": {
    "ExecuteTime": {
     "end_time": "2025-06-15T15:08:56.952775Z",
     "start_time": "2025-06-15T15:08:56.946875Z"
    }
   },
   "cell_type": "code",
   "source": [
    "import  torch\n",
    "\n",
    "RANDOM_SEED = 42\n",
    "\n",
    "torch.manual_seed(RANDOM_SEED)\n",
    "random_tensor_C = torch.rand(3, 4)\n",
    "\n",
    "torch.manual_seed(RANDOM_SEED)\n",
    "random_tensor_D = torch.rand(3, 4)\n",
    "\n",
    "print(random_tensor_C)\n",
    "print(random_tensor_D)\n",
    "print(random_tensor_C == random_tensor_D)"
   ],
   "id": "1b5aca2ec9a96e93",
   "outputs": [
    {
     "name": "stdout",
     "output_type": "stream",
     "text": [
      "tensor([[0.8823, 0.9150, 0.3829, 0.9593],\n",
      "        [0.3904, 0.6009, 0.2566, 0.7936],\n",
      "        [0.9408, 0.1332, 0.9346, 0.5936]])\n",
      "tensor([[0.8823, 0.9150, 0.3829, 0.9593],\n",
      "        [0.3904, 0.6009, 0.2566, 0.7936],\n",
      "        [0.9408, 0.1332, 0.9346, 0.5936]])\n",
      "tensor([[True, True, True, True],\n",
      "        [True, True, True, True],\n",
      "        [True, True, True, True]])\n"
     ]
    }
   ],
   "execution_count": 112
  },
  {
   "metadata": {},
   "cell_type": "markdown",
   "source": "# 37. Different Ways of Accessing a GPU in PyTorch",
   "id": "cae8e4a3bdabec7f"
  },
  {
   "metadata": {
    "ExecuteTime": {
     "end_time": "2025-06-15T15:09:17.969508Z",
     "start_time": "2025-06-15T15:09:17.965760Z"
    }
   },
   "cell_type": "code",
   "source": [
    "import torch\n",
    "\n",
    "torch.cuda.is_available()"
   ],
   "id": "2daacefd20a9bfd3",
   "outputs": [
    {
     "data": {
      "text/plain": [
       "True"
      ]
     },
     "execution_count": 113,
     "metadata": {},
     "output_type": "execute_result"
    }
   ],
   "execution_count": 113
  },
  {
   "metadata": {
    "ExecuteTime": {
     "end_time": "2025-06-15T15:09:32.378682Z",
     "start_time": "2025-06-15T15:09:32.217945Z"
    }
   },
   "cell_type": "code",
   "source": "!nvidia-smi",
   "id": "6d84e433f1e7af65",
   "outputs": [
    {
     "name": "stdout",
     "output_type": "stream",
     "text": [
      "Sun Jun 15 18:09:32 2025       \n",
      "+-----------------------------------------------------------------------------------------+\n",
      "| NVIDIA-SMI 576.28                 Driver Version: 576.28         CUDA Version: 12.9     |\n",
      "|-----------------------------------------+------------------------+----------------------+\n",
      "| GPU  Name                  Driver-Model | Bus-Id          Disp.A | Volatile Uncorr. ECC |\n",
      "| Fan  Temp   Perf          Pwr:Usage/Cap |           Memory-Usage | GPU-Util  Compute M. |\n",
      "|                                         |                        |               MIG M. |\n",
      "|=========================================+========================+======================|\n",
      "|   0  NVIDIA GeForce RTX 3060      WDDM  |   00000000:2B:00.0  On |                  N/A |\n",
      "| 32%   39C    P3             28W /  170W |    4137MiB /  12288MiB |     14%      Default |\n",
      "|                                         |                        |                  N/A |\n",
      "+-----------------------------------------+------------------------+----------------------+\n",
      "                                                                                         \n",
      "+-----------------------------------------------------------------------------------------+\n",
      "| Processes:                                                                              |\n",
      "|  GPU   GI   CI              PID   Type   Process name                        GPU Memory |\n",
      "|        ID   ID                                                               Usage      |\n",
      "|=========================================================================================|\n",
      "|    0   N/A  N/A            1552    C+G   ...ef.win7x64\\steamwebhelper.exe      N/A      |\n",
      "|    0   N/A  N/A            2728    C+G   C:\\Windows\\explorer.exe               N/A      |\n",
      "|    0   N/A  N/A            3820    C+G   ...indows\\System32\\ShellHost.exe      N/A      |\n",
      "|    0   N/A  N/A            4964    C+G   ...2txyewy\\CrossDeviceResume.exe      N/A      |\n",
      "|    0   N/A  N/A            9336    C+G   ...rograms\\nordpass\\NordPass.exe      N/A      |\n",
      "|    0   N/A  N/A           11800    C+G   ...ams\\signal-desktop\\Signal.exe      N/A      |\n",
      "|    0   N/A  N/A           15576    C+G   ...Chrome\\Application\\chrome.exe      N/A      |\n",
      "|    0   N/A  N/A           15684    C+G   ...grams\\LM Studio\\LM Studio.exe      N/A      |\n",
      "|    0   N/A  N/A           16540    C+G   ...em32\\ApplicationFrameHost.exe      N/A      |\n",
      "|    0   N/A  N/A           16832    C+G   ..._cw5n1h2txyewy\\SearchHost.exe      N/A      |\n",
      "|    0   N/A  N/A           16864    C+G   ...y\\StartMenuExperienceHost.exe      N/A      |\n",
      "|    0   N/A  N/A           16888    C+G   ...yb3d8bbwe\\Microsoft.Notes.exe      N/A      |\n",
      "|    0   N/A  N/A           17668    C+G   ...IA App\\CEF\\NVIDIA Overlay.exe      N/A      |\n",
      "|    0   N/A  N/A           18488    C+G   ...5n1h2txyewy\\TextInputHost.exe      N/A      |\n",
      "|    0   N/A  N/A           19060    C+G   ...IA App\\CEF\\NVIDIA Overlay.exe      N/A      |\n",
      "|    0   N/A  N/A           19320    C+G   ...xyewy\\ShellExperienceHost.exe      N/A      |\n",
      "|    0   N/A  N/A           20772    C+G   ....0.3296.68\\msedgewebview2.exe      N/A      |\n",
      "|    0   N/A  N/A           22524    C+G   ...s\\PowerToys.PowerLauncher.exe      N/A      |\n",
      "|    0   N/A  N/A           23068    C+G   ...m\\109.0.3.0\\GoogleDriveFS.exe      N/A      |\n",
      "|    0   N/A  N/A           23516    C+G   ...s\\PowerToys.AdvancedPaste.exe      N/A      |\n",
      "|    0   N/A  N/A           23992    C+G   ...UI3Apps\\PowerToys.Peek.UI.exe      N/A      |\n",
      "|    0   N/A  N/A           25216    C+G   ...8bbwe\\PhoneExperienceHost.exe      N/A      |\n",
      "|    0   N/A  N/A           25672    C+G   ...Chrome\\Application\\chrome.exe      N/A      |\n",
      "|    0   N/A  N/A           26312    C+G   ...s\\PowerToys.ColorPickerUI.exe      N/A      |\n",
      "|    0   N/A  N/A           26476    C+G   ...Toys\\PowerToys.FancyZones.exe      N/A      |\n",
      "|    0   N/A  N/A           32504    C+G   ...crosoft OneDrive\\OneDrive.exe      N/A      |\n",
      "|    0   N/A  N/A           33692    C+G   ...ntrolPanel\\SystemSettings.exe      N/A      |\n",
      "|    0   N/A  N/A           34640    C+G   ...pp-4.0.531\\RazerAppEngine.exe      N/A      |\n",
      "|    0   N/A  N/A           34864    C+G   ...Claude\\app-0.10.14\\claude.exe      N/A      |\n",
      "|    0   N/A  N/A           35828      C   ...grams\\LM Studio\\LM Studio.exe      N/A      |\n",
      "|    0   N/A  N/A           36632    C+G   ...zer Axon\\RazerAxon.Player.exe      N/A      |\n",
      "|    0   N/A  N/A           37364    C+G   ...aSpell\\jbr\\bin\\cef_server.exe      N/A      |\n",
      "|    0   N/A  N/A           40832    C+G   ....0.3296.68\\msedgewebview2.exe      N/A      |\n",
      "|    0   N/A  N/A           40988    C+G   ...2QBCNWAHQRFUFL3WW7Q\\DeepL.exe      N/A      |\n",
      "|    0   N/A  N/A           41308      C   ...s\\Python\\Python312\\python.exe      N/A      |\n",
      "|    0   N/A  N/A           44592    C+G   ...s\\Mozilla Firefox\\firefox.exe      N/A      |\n",
      "|    0   N/A  N/A           44736    C+G   ...s\\Mozilla Firefox\\firefox.exe      N/A      |\n",
      "|    0   N/A  N/A           50736    C+G   ...al\\Programs\\Notion\\Notion.exe      N/A      |\n",
      "|    0   N/A  N/A           51852    C+G   ...kyb3d8bbwe\\EdgeGameAssist.exe      N/A      |\n",
      "+-----------------------------------------------------------------------------------------+\n"
     ]
    }
   ],
   "execution_count": 116
  },
  {
   "metadata": {
    "ExecuteTime": {
     "end_time": "2025-06-15T15:10:57.993965Z",
     "start_time": "2025-06-15T15:10:57.989931Z"
    }
   },
   "cell_type": "code",
   "source": [
    "device = 'cuda'  if torch.cuda.is_available() else 'cpu'\n",
    "device"
   ],
   "id": "85ba4dae962b100c",
   "outputs": [
    {
     "data": {
      "text/plain": [
       "'cuda'"
      ]
     },
     "execution_count": 117,
     "metadata": {},
     "output_type": "execute_result"
    }
   ],
   "execution_count": 117
  },
  {
   "metadata": {
    "ExecuteTime": {
     "end_time": "2025-06-15T15:11:29.232630Z",
     "start_time": "2025-06-15T15:11:29.227547Z"
    }
   },
   "cell_type": "code",
   "source": [
    "# count GPU\n",
    "\n",
    "torch.cuda.device_count()"
   ],
   "id": "f1d1a0284df050dd",
   "outputs": [
    {
     "data": {
      "text/plain": [
       "1"
      ]
     },
     "execution_count": 119,
     "metadata": {},
     "output_type": "execute_result"
    }
   ],
   "execution_count": 119
  },
  {
   "metadata": {},
   "cell_type": "markdown",
   "source": "# 38. Setting up Device-Agnostic Code and Putting Tensors On and Off the GPU",
   "id": "2bfa6db5e7a4413a"
  },
  {
   "metadata": {
    "ExecuteTime": {
     "end_time": "2025-06-15T15:33:38.028457Z",
     "start_time": "2025-06-15T15:33:38.024459Z"
    }
   },
   "cell_type": "code",
   "source": [
    "tensor = torch.tensor([1, 2, 3, 4, 5], device='cpu')\n",
    "\n",
    "print(tensor, tensor.device)"
   ],
   "id": "602eff5d9db3e419",
   "outputs": [
    {
     "name": "stdout",
     "output_type": "stream",
     "text": [
      "tensor([1, 2, 3, 4, 5]) cpu\n"
     ]
    }
   ],
   "execution_count": 124
  },
  {
   "metadata": {
    "ExecuteTime": {
     "end_time": "2025-06-15T15:33:38.822523Z",
     "start_time": "2025-06-15T15:33:38.817683Z"
    }
   },
   "cell_type": "code",
   "source": [
    "tensor_on_gpu = tensor.to(device)\n",
    "tensor_on_gpu"
   ],
   "id": "4b6b2579436f60b2",
   "outputs": [
    {
     "data": {
      "text/plain": [
       "tensor([1, 2, 3, 4, 5], device='cuda:0')"
      ]
     },
     "execution_count": 125,
     "metadata": {},
     "output_type": "execute_result"
    }
   ],
   "execution_count": 125
  },
  {
   "metadata": {
    "ExecuteTime": {
     "end_time": "2025-06-15T15:35:32.918912Z",
     "start_time": "2025-06-15T15:35:32.915407Z"
    }
   },
   "cell_type": "code",
   "source": "# tensor_on_gpu.numpy() # Can't convert cuda:0 device type tensor to numpy",
   "id": "9a7ef90624b7dd6e",
   "outputs": [],
   "execution_count": 128
  },
  {
   "metadata": {
    "ExecuteTime": {
     "end_time": "2025-06-15T15:35:50.820162Z",
     "start_time": "2025-06-15T15:35:50.815851Z"
    }
   },
   "cell_type": "code",
   "source": [
    "tensor_on_cpu = tensor.to('cpu')\n",
    "tensor_on_cpu.numpy()"
   ],
   "id": "5e7a5d0cb247b326",
   "outputs": [
    {
     "data": {
      "text/plain": [
       "array([1, 2, 3, 4, 5])"
      ]
     },
     "execution_count": 129,
     "metadata": {},
     "output_type": "execute_result"
    }
   ],
   "execution_count": 129
  },
  {
   "metadata": {},
   "cell_type": "markdown",
   "source": "# 39. PyTorch Fundamentals: Exercises and Extra-Curriculum",
   "id": "f5c0889954f06f0"
  },
  {
   "metadata": {},
   "cell_type": "code",
   "outputs": [],
   "execution_count": null,
   "source": "",
   "id": "4418b7bad76af832"
  }
 ],
 "metadata": {
  "kernelspec": {
   "display_name": "Python 3",
   "language": "python",
   "name": "python3"
  },
  "language_info": {
   "codemirror_mode": {
    "name": "ipython",
    "version": 2
   },
   "file_extension": ".py",
   "mimetype": "text/x-python",
   "name": "python",
   "nbconvert_exporter": "python",
   "pygments_lexer": "ipython2",
   "version": "2.7.6"
  }
 },
 "nbformat": 4,
 "nbformat_minor": 5
}
